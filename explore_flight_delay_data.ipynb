{
 "cells": [
  {
   "cell_type": "code",
   "execution_count": 1,
   "metadata": {
    "collapsed": true
   },
   "outputs": [],
   "source": [
    "import pandas\n",
    "import numpy\n",
    "import dask.dataframe as dask_data_frame\n",
    "\n",
    "import matplotlib\n",
    "from matplotlib import pyplot\n",
    "\n",
    "import seaborn\n",
    "\n",
    "from scipy.stats import mode\n",
    "\n",
    "from sklearn.preprocessing import LabelEncoder\n",
    "from sklearn import preprocessing\n",
    "from sklearn import metrics\n",
    "from sklearn.externals.six import StringIO  \n",
    "\n",
    "%matplotlib inline\n",
    "pandas.options.display.max_columns = 50\n",
    "pandas.set_option('display.float_format', lambda x: '%.2f' % x)"
   ]
  },
  {
   "cell_type": "code",
   "execution_count": 2,
   "metadata": {},
   "outputs": [],
   "source": [
    "#load data\n",
    "flight_data_directory = 'data/flight_delay/'\n",
    "airline_data_frame = pandas.read_csv(flight_data_directory + 'airlines.csv')\n",
    "airport_data_frame = pandas.read_csv(flight_data_directory + 'airports.csv')\n",
    "flight_data_frame = dask_data_frame.read_csv(flight_data_directory + 'flights.csv', assume_missing=True)\n",
    "#flight_data_frame = pandas.read_csv(flight_data_directory + 'flights.csv')"
   ]
  },
  {
   "cell_type": "code",
   "execution_count": 3,
   "metadata": {
    "scrolled": false
   },
   "outputs": [
    {
     "data": {
      "text/html": [
       "<div>\n",
       "<style>\n",
       "    .dataframe thead tr:only-child th {\n",
       "        text-align: right;\n",
       "    }\n",
       "\n",
       "    .dataframe thead th {\n",
       "        text-align: left;\n",
       "    }\n",
       "\n",
       "    .dataframe tbody tr th {\n",
       "        vertical-align: top;\n",
       "    }\n",
       "</style>\n",
       "<table border=\"1\" class=\"dataframe\">\n",
       "  <thead>\n",
       "    <tr style=\"text-align: right;\">\n",
       "      <th></th>\n",
       "      <th>IATA_CODE</th>\n",
       "      <th>AIRLINE</th>\n",
       "    </tr>\n",
       "  </thead>\n",
       "  <tbody>\n",
       "    <tr>\n",
       "      <th>0</th>\n",
       "      <td>UA</td>\n",
       "      <td>United Air Lines Inc.</td>\n",
       "    </tr>\n",
       "    <tr>\n",
       "      <th>1</th>\n",
       "      <td>AA</td>\n",
       "      <td>American Airlines Inc.</td>\n",
       "    </tr>\n",
       "    <tr>\n",
       "      <th>2</th>\n",
       "      <td>US</td>\n",
       "      <td>US Airways Inc.</td>\n",
       "    </tr>\n",
       "    <tr>\n",
       "      <th>3</th>\n",
       "      <td>F9</td>\n",
       "      <td>Frontier Airlines Inc.</td>\n",
       "    </tr>\n",
       "    <tr>\n",
       "      <th>4</th>\n",
       "      <td>B6</td>\n",
       "      <td>JetBlue Airways</td>\n",
       "    </tr>\n",
       "    <tr>\n",
       "      <th>5</th>\n",
       "      <td>OO</td>\n",
       "      <td>Skywest Airlines Inc.</td>\n",
       "    </tr>\n",
       "    <tr>\n",
       "      <th>6</th>\n",
       "      <td>AS</td>\n",
       "      <td>Alaska Airlines Inc.</td>\n",
       "    </tr>\n",
       "    <tr>\n",
       "      <th>7</th>\n",
       "      <td>NK</td>\n",
       "      <td>Spirit Air Lines</td>\n",
       "    </tr>\n",
       "    <tr>\n",
       "      <th>8</th>\n",
       "      <td>WN</td>\n",
       "      <td>Southwest Airlines Co.</td>\n",
       "    </tr>\n",
       "    <tr>\n",
       "      <th>9</th>\n",
       "      <td>DL</td>\n",
       "      <td>Delta Air Lines Inc.</td>\n",
       "    </tr>\n",
       "    <tr>\n",
       "      <th>10</th>\n",
       "      <td>EV</td>\n",
       "      <td>Atlantic Southeast Airlines</td>\n",
       "    </tr>\n",
       "    <tr>\n",
       "      <th>11</th>\n",
       "      <td>HA</td>\n",
       "      <td>Hawaiian Airlines Inc.</td>\n",
       "    </tr>\n",
       "    <tr>\n",
       "      <th>12</th>\n",
       "      <td>MQ</td>\n",
       "      <td>American Eagle Airlines Inc.</td>\n",
       "    </tr>\n",
       "    <tr>\n",
       "      <th>13</th>\n",
       "      <td>VX</td>\n",
       "      <td>Virgin America</td>\n",
       "    </tr>\n",
       "  </tbody>\n",
       "</table>\n",
       "</div>"
      ],
      "text/plain": [
       "   IATA_CODE                       AIRLINE\n",
       "0         UA         United Air Lines Inc.\n",
       "1         AA        American Airlines Inc.\n",
       "2         US               US Airways Inc.\n",
       "3         F9        Frontier Airlines Inc.\n",
       "4         B6               JetBlue Airways\n",
       "5         OO         Skywest Airlines Inc.\n",
       "6         AS          Alaska Airlines Inc.\n",
       "7         NK              Spirit Air Lines\n",
       "8         WN        Southwest Airlines Co.\n",
       "9         DL          Delta Air Lines Inc.\n",
       "10        EV   Atlantic Southeast Airlines\n",
       "11        HA        Hawaiian Airlines Inc.\n",
       "12        MQ  American Eagle Airlines Inc.\n",
       "13        VX                Virgin America"
      ]
     },
     "execution_count": 3,
     "metadata": {},
     "output_type": "execute_result"
    }
   ],
   "source": [
    "#airlines\n",
    "airline_data_frame"
   ]
  },
  {
   "cell_type": "code",
   "execution_count": 4,
   "metadata": {},
   "outputs": [
    {
     "data": {
      "text/html": [
       "<div>\n",
       "<style>\n",
       "    .dataframe thead tr:only-child th {\n",
       "        text-align: right;\n",
       "    }\n",
       "\n",
       "    .dataframe thead th {\n",
       "        text-align: left;\n",
       "    }\n",
       "\n",
       "    .dataframe tbody tr th {\n",
       "        vertical-align: top;\n",
       "    }\n",
       "</style>\n",
       "<table border=\"1\" class=\"dataframe\">\n",
       "  <thead>\n",
       "    <tr style=\"text-align: right;\">\n",
       "      <th></th>\n",
       "      <th>IATA_CODE</th>\n",
       "      <th>AIRPORT</th>\n",
       "      <th>CITY</th>\n",
       "      <th>STATE</th>\n",
       "      <th>COUNTRY</th>\n",
       "      <th>LATITUDE</th>\n",
       "      <th>LONGITUDE</th>\n",
       "    </tr>\n",
       "  </thead>\n",
       "  <tbody>\n",
       "    <tr>\n",
       "      <th>0</th>\n",
       "      <td>ABE</td>\n",
       "      <td>Lehigh Valley International Airport</td>\n",
       "      <td>Allentown</td>\n",
       "      <td>PA</td>\n",
       "      <td>USA</td>\n",
       "      <td>40.65</td>\n",
       "      <td>-75.44</td>\n",
       "    </tr>\n",
       "    <tr>\n",
       "      <th>1</th>\n",
       "      <td>ABI</td>\n",
       "      <td>Abilene Regional Airport</td>\n",
       "      <td>Abilene</td>\n",
       "      <td>TX</td>\n",
       "      <td>USA</td>\n",
       "      <td>32.41</td>\n",
       "      <td>-99.68</td>\n",
       "    </tr>\n",
       "    <tr>\n",
       "      <th>2</th>\n",
       "      <td>ABQ</td>\n",
       "      <td>Albuquerque International Sunport</td>\n",
       "      <td>Albuquerque</td>\n",
       "      <td>NM</td>\n",
       "      <td>USA</td>\n",
       "      <td>35.04</td>\n",
       "      <td>-106.61</td>\n",
       "    </tr>\n",
       "    <tr>\n",
       "      <th>3</th>\n",
       "      <td>ABR</td>\n",
       "      <td>Aberdeen Regional Airport</td>\n",
       "      <td>Aberdeen</td>\n",
       "      <td>SD</td>\n",
       "      <td>USA</td>\n",
       "      <td>45.45</td>\n",
       "      <td>-98.42</td>\n",
       "    </tr>\n",
       "    <tr>\n",
       "      <th>4</th>\n",
       "      <td>ABY</td>\n",
       "      <td>Southwest Georgia Regional Airport</td>\n",
       "      <td>Albany</td>\n",
       "      <td>GA</td>\n",
       "      <td>USA</td>\n",
       "      <td>31.54</td>\n",
       "      <td>-84.19</td>\n",
       "    </tr>\n",
       "  </tbody>\n",
       "</table>\n",
       "</div>"
      ],
      "text/plain": [
       "  IATA_CODE                              AIRPORT         CITY STATE COUNTRY  \\\n",
       "0       ABE  Lehigh Valley International Airport    Allentown    PA     USA   \n",
       "1       ABI             Abilene Regional Airport      Abilene    TX     USA   \n",
       "2       ABQ    Albuquerque International Sunport  Albuquerque    NM     USA   \n",
       "3       ABR            Aberdeen Regional Airport     Aberdeen    SD     USA   \n",
       "4       ABY   Southwest Georgia Regional Airport       Albany    GA     USA   \n",
       "\n",
       "   LATITUDE  LONGITUDE  \n",
       "0     40.65     -75.44  \n",
       "1     32.41     -99.68  \n",
       "2     35.04    -106.61  \n",
       "3     45.45     -98.42  \n",
       "4     31.54     -84.19  "
      ]
     },
     "execution_count": 4,
     "metadata": {},
     "output_type": "execute_result"
    }
   ],
   "source": [
    "#airports\n",
    "airport_data_frame.head()"
   ]
  },
  {
   "cell_type": "code",
   "execution_count": 5,
   "metadata": {},
   "outputs": [
    {
     "data": {
      "text/plain": [
       "322"
      ]
     },
     "execution_count": 5,
     "metadata": {},
     "output_type": "execute_result"
    }
   ],
   "source": [
    "len(airport_data_frame)"
   ]
  },
  {
   "cell_type": "code",
   "execution_count": 6,
   "metadata": {},
   "outputs": [
    {
     "name": "stderr",
     "output_type": "stream",
     "text": [
      "/home/shreyas/miniconda2/envs/python_practice/lib/python2.7/multiprocessing/pool.py:113: DtypeWarning: Columns (7,8) have mixed types. Specify dtype option on import or set low_memory=False.\n",
      "  result = (True, func(*args, **kwds))\n"
     ]
    },
    {
     "data": {
      "text/plain": [
       "5819079"
      ]
     },
     "execution_count": 6,
     "metadata": {},
     "output_type": "execute_result"
    }
   ],
   "source": [
    "#sub sample\n",
    "len(flight_data_frame.index.compute())"
   ]
  },
  {
   "cell_type": "code",
   "execution_count": 7,
   "metadata": {},
   "outputs": [
    {
     "data": {
      "text/plain": [
       "1454770"
      ]
     },
     "execution_count": 7,
     "metadata": {},
     "output_type": "execute_result"
    }
   ],
   "source": [
    "sample_flight_data_frame = flight_data_frame.sample(0.25).compute()\n",
    "len(sample_flight_data_frame.index)"
   ]
  },
  {
   "cell_type": "code",
   "execution_count": 8,
   "metadata": {},
   "outputs": [
    {
     "data": {
      "text/html": [
       "<div>\n",
       "<style>\n",
       "    .dataframe thead tr:only-child th {\n",
       "        text-align: right;\n",
       "    }\n",
       "\n",
       "    .dataframe thead th {\n",
       "        text-align: left;\n",
       "    }\n",
       "\n",
       "    .dataframe tbody tr th {\n",
       "        vertical-align: top;\n",
       "    }\n",
       "</style>\n",
       "<table border=\"1\" class=\"dataframe\">\n",
       "  <thead>\n",
       "    <tr style=\"text-align: right;\">\n",
       "      <th></th>\n",
       "      <th>YEAR</th>\n",
       "      <th>MONTH</th>\n",
       "      <th>DAY</th>\n",
       "      <th>DAY_OF_WEEK</th>\n",
       "      <th>AIRLINE</th>\n",
       "      <th>FLIGHT_NUMBER</th>\n",
       "      <th>TAIL_NUMBER</th>\n",
       "      <th>ORIGIN_AIRPORT</th>\n",
       "      <th>DESTINATION_AIRPORT</th>\n",
       "      <th>SCHEDULED_DEPARTURE</th>\n",
       "      <th>DEPARTURE_TIME</th>\n",
       "      <th>DEPARTURE_DELAY</th>\n",
       "      <th>TAXI_OUT</th>\n",
       "      <th>WHEELS_OFF</th>\n",
       "      <th>SCHEDULED_TIME</th>\n",
       "      <th>ELAPSED_TIME</th>\n",
       "      <th>AIR_TIME</th>\n",
       "      <th>DISTANCE</th>\n",
       "      <th>WHEELS_ON</th>\n",
       "      <th>TAXI_IN</th>\n",
       "      <th>SCHEDULED_ARRIVAL</th>\n",
       "      <th>ARRIVAL_TIME</th>\n",
       "      <th>ARRIVAL_DELAY</th>\n",
       "      <th>DIVERTED</th>\n",
       "      <th>CANCELLED</th>\n",
       "      <th>CANCELLATION_REASON</th>\n",
       "      <th>AIR_SYSTEM_DELAY</th>\n",
       "      <th>SECURITY_DELAY</th>\n",
       "      <th>AIRLINE_DELAY</th>\n",
       "      <th>LATE_AIRCRAFT_DELAY</th>\n",
       "      <th>WEATHER_DELAY</th>\n",
       "    </tr>\n",
       "  </thead>\n",
       "  <tbody>\n",
       "    <tr>\n",
       "      <th>601567</th>\n",
       "      <td>2015.00</td>\n",
       "      <td>2.00</td>\n",
       "      <td>9.00</td>\n",
       "      <td>1.00</td>\n",
       "      <td>UA</td>\n",
       "      <td>677.00</td>\n",
       "      <td>N463UA</td>\n",
       "      <td>DEN</td>\n",
       "      <td>ICT</td>\n",
       "      <td>1748.00</td>\n",
       "      <td>1744.00</td>\n",
       "      <td>-4.00</td>\n",
       "      <td>11.00</td>\n",
       "      <td>1755.00</td>\n",
       "      <td>83.00</td>\n",
       "      <td>67.00</td>\n",
       "      <td>52.00</td>\n",
       "      <td>420.00</td>\n",
       "      <td>1947.00</td>\n",
       "      <td>4.00</td>\n",
       "      <td>2011.00</td>\n",
       "      <td>1951.00</td>\n",
       "      <td>-20.00</td>\n",
       "      <td>0.00</td>\n",
       "      <td>0.00</td>\n",
       "      <td>NaN</td>\n",
       "      <td>nan</td>\n",
       "      <td>nan</td>\n",
       "      <td>nan</td>\n",
       "      <td>nan</td>\n",
       "      <td>nan</td>\n",
       "    </tr>\n",
       "    <tr>\n",
       "      <th>81881</th>\n",
       "      <td>2015.00</td>\n",
       "      <td>1.00</td>\n",
       "      <td>6.00</td>\n",
       "      <td>2.00</td>\n",
       "      <td>AS</td>\n",
       "      <td>4.00</td>\n",
       "      <td>N589AS</td>\n",
       "      <td>SEA</td>\n",
       "      <td>DCA</td>\n",
       "      <td>815.00</td>\n",
       "      <td>812.00</td>\n",
       "      <td>-3.00</td>\n",
       "      <td>18.00</td>\n",
       "      <td>830.00</td>\n",
       "      <td>295.00</td>\n",
       "      <td>260.00</td>\n",
       "      <td>238.00</td>\n",
       "      <td>2329.00</td>\n",
       "      <td>1528.00</td>\n",
       "      <td>4.00</td>\n",
       "      <td>1610.00</td>\n",
       "      <td>1532.00</td>\n",
       "      <td>-38.00</td>\n",
       "      <td>0.00</td>\n",
       "      <td>0.00</td>\n",
       "      <td>NaN</td>\n",
       "      <td>nan</td>\n",
       "      <td>nan</td>\n",
       "      <td>nan</td>\n",
       "      <td>nan</td>\n",
       "      <td>nan</td>\n",
       "    </tr>\n",
       "    <tr>\n",
       "      <th>176570</th>\n",
       "      <td>2015.00</td>\n",
       "      <td>1.00</td>\n",
       "      <td>12.00</td>\n",
       "      <td>1.00</td>\n",
       "      <td>B6</td>\n",
       "      <td>2401.00</td>\n",
       "      <td>N281JB</td>\n",
       "      <td>BUF</td>\n",
       "      <td>JFK</td>\n",
       "      <td>1252.00</td>\n",
       "      <td>1348.00</td>\n",
       "      <td>56.00</td>\n",
       "      <td>32.00</td>\n",
       "      <td>1420.00</td>\n",
       "      <td>85.00</td>\n",
       "      <td>114.00</td>\n",
       "      <td>78.00</td>\n",
       "      <td>301.00</td>\n",
       "      <td>1538.00</td>\n",
       "      <td>4.00</td>\n",
       "      <td>1417.00</td>\n",
       "      <td>1542.00</td>\n",
       "      <td>85.00</td>\n",
       "      <td>0.00</td>\n",
       "      <td>0.00</td>\n",
       "      <td>NaN</td>\n",
       "      <td>29.00</td>\n",
       "      <td>0.00</td>\n",
       "      <td>3.00</td>\n",
       "      <td>53.00</td>\n",
       "      <td>0.00</td>\n",
       "    </tr>\n",
       "    <tr>\n",
       "      <th>304406</th>\n",
       "      <td>2015.00</td>\n",
       "      <td>1.00</td>\n",
       "      <td>20.00</td>\n",
       "      <td>2.00</td>\n",
       "      <td>OO</td>\n",
       "      <td>7419.00</td>\n",
       "      <td>N8884E</td>\n",
       "      <td>MSP</td>\n",
       "      <td>ABR</td>\n",
       "      <td>2154.00</td>\n",
       "      <td>2144.00</td>\n",
       "      <td>-10.00</td>\n",
       "      <td>45.00</td>\n",
       "      <td>2229.00</td>\n",
       "      <td>85.00</td>\n",
       "      <td>94.00</td>\n",
       "      <td>44.00</td>\n",
       "      <td>257.00</td>\n",
       "      <td>2313.00</td>\n",
       "      <td>5.00</td>\n",
       "      <td>2319.00</td>\n",
       "      <td>2318.00</td>\n",
       "      <td>-1.00</td>\n",
       "      <td>0.00</td>\n",
       "      <td>0.00</td>\n",
       "      <td>NaN</td>\n",
       "      <td>nan</td>\n",
       "      <td>nan</td>\n",
       "      <td>nan</td>\n",
       "      <td>nan</td>\n",
       "      <td>nan</td>\n",
       "    </tr>\n",
       "    <tr>\n",
       "      <th>624500</th>\n",
       "      <td>2015.00</td>\n",
       "      <td>2.00</td>\n",
       "      <td>11.00</td>\n",
       "      <td>3.00</td>\n",
       "      <td>US</td>\n",
       "      <td>744.00</td>\n",
       "      <td>N825AW</td>\n",
       "      <td>MIA</td>\n",
       "      <td>CLT</td>\n",
       "      <td>955.00</td>\n",
       "      <td>948.00</td>\n",
       "      <td>-7.00</td>\n",
       "      <td>27.00</td>\n",
       "      <td>1015.00</td>\n",
       "      <td>139.00</td>\n",
       "      <td>130.00</td>\n",
       "      <td>98.00</td>\n",
       "      <td>650.00</td>\n",
       "      <td>1153.00</td>\n",
       "      <td>5.00</td>\n",
       "      <td>1214.00</td>\n",
       "      <td>1158.00</td>\n",
       "      <td>-16.00</td>\n",
       "      <td>0.00</td>\n",
       "      <td>0.00</td>\n",
       "      <td>NaN</td>\n",
       "      <td>nan</td>\n",
       "      <td>nan</td>\n",
       "      <td>nan</td>\n",
       "      <td>nan</td>\n",
       "      <td>nan</td>\n",
       "    </tr>\n",
       "  </tbody>\n",
       "</table>\n",
       "</div>"
      ],
      "text/plain": [
       "          YEAR  MONTH   DAY  DAY_OF_WEEK AIRLINE  FLIGHT_NUMBER TAIL_NUMBER  \\\n",
       "601567 2015.00   2.00  9.00         1.00      UA         677.00      N463UA   \n",
       "81881  2015.00   1.00  6.00         2.00      AS           4.00      N589AS   \n",
       "176570 2015.00   1.00 12.00         1.00      B6        2401.00      N281JB   \n",
       "304406 2015.00   1.00 20.00         2.00      OO        7419.00      N8884E   \n",
       "624500 2015.00   2.00 11.00         3.00      US         744.00      N825AW   \n",
       "\n",
       "       ORIGIN_AIRPORT DESTINATION_AIRPORT  SCHEDULED_DEPARTURE  \\\n",
       "601567            DEN                 ICT              1748.00   \n",
       "81881             SEA                 DCA               815.00   \n",
       "176570            BUF                 JFK              1252.00   \n",
       "304406            MSP                 ABR              2154.00   \n",
       "624500            MIA                 CLT               955.00   \n",
       "\n",
       "        DEPARTURE_TIME  DEPARTURE_DELAY  TAXI_OUT  WHEELS_OFF  SCHEDULED_TIME  \\\n",
       "601567         1744.00            -4.00     11.00     1755.00           83.00   \n",
       "81881           812.00            -3.00     18.00      830.00          295.00   \n",
       "176570         1348.00            56.00     32.00     1420.00           85.00   \n",
       "304406         2144.00           -10.00     45.00     2229.00           85.00   \n",
       "624500          948.00            -7.00     27.00     1015.00          139.00   \n",
       "\n",
       "        ELAPSED_TIME  AIR_TIME  DISTANCE  WHEELS_ON  TAXI_IN  \\\n",
       "601567         67.00     52.00    420.00    1947.00     4.00   \n",
       "81881         260.00    238.00   2329.00    1528.00     4.00   \n",
       "176570        114.00     78.00    301.00    1538.00     4.00   \n",
       "304406         94.00     44.00    257.00    2313.00     5.00   \n",
       "624500        130.00     98.00    650.00    1153.00     5.00   \n",
       "\n",
       "        SCHEDULED_ARRIVAL  ARRIVAL_TIME  ARRIVAL_DELAY  DIVERTED  CANCELLED  \\\n",
       "601567            2011.00       1951.00         -20.00      0.00       0.00   \n",
       "81881             1610.00       1532.00         -38.00      0.00       0.00   \n",
       "176570            1417.00       1542.00          85.00      0.00       0.00   \n",
       "304406            2319.00       2318.00          -1.00      0.00       0.00   \n",
       "624500            1214.00       1158.00         -16.00      0.00       0.00   \n",
       "\n",
       "       CANCELLATION_REASON  AIR_SYSTEM_DELAY  SECURITY_DELAY  AIRLINE_DELAY  \\\n",
       "601567                 NaN               nan             nan            nan   \n",
       "81881                  NaN               nan             nan            nan   \n",
       "176570                 NaN             29.00            0.00           3.00   \n",
       "304406                 NaN               nan             nan            nan   \n",
       "624500                 NaN               nan             nan            nan   \n",
       "\n",
       "        LATE_AIRCRAFT_DELAY  WEATHER_DELAY  \n",
       "601567                  nan            nan  \n",
       "81881                   nan            nan  \n",
       "176570                53.00           0.00  \n",
       "304406                  nan            nan  \n",
       "624500                  nan            nan  "
      ]
     },
     "execution_count": 8,
     "metadata": {},
     "output_type": "execute_result"
    }
   ],
   "source": [
    "#flight delays\n",
    "sample_flight_data_frame.head()"
   ]
  },
  {
   "cell_type": "code",
   "execution_count": 9,
   "metadata": {
    "scrolled": false
   },
   "outputs": [
    {
     "data": {
      "text/plain": [
       "YEAR                   float64\n",
       "MONTH                  float64\n",
       "DAY                    float64\n",
       "DAY_OF_WEEK            float64\n",
       "AIRLINE                 object\n",
       "FLIGHT_NUMBER          float64\n",
       "TAIL_NUMBER             object\n",
       "ORIGIN_AIRPORT          object\n",
       "DESTINATION_AIRPORT     object\n",
       "SCHEDULED_DEPARTURE    float64\n",
       "DEPARTURE_TIME         float64\n",
       "DEPARTURE_DELAY        float64\n",
       "TAXI_OUT               float64\n",
       "WHEELS_OFF             float64\n",
       "SCHEDULED_TIME         float64\n",
       "ELAPSED_TIME           float64\n",
       "AIR_TIME               float64\n",
       "DISTANCE               float64\n",
       "WHEELS_ON              float64\n",
       "TAXI_IN                float64\n",
       "SCHEDULED_ARRIVAL      float64\n",
       "ARRIVAL_TIME           float64\n",
       "ARRIVAL_DELAY          float64\n",
       "DIVERTED               float64\n",
       "CANCELLED              float64\n",
       "CANCELLATION_REASON     object\n",
       "AIR_SYSTEM_DELAY       float64\n",
       "SECURITY_DELAY         float64\n",
       "AIRLINE_DELAY          float64\n",
       "LATE_AIRCRAFT_DELAY    float64\n",
       "WEATHER_DELAY          float64\n",
       "dtype: object"
      ]
     },
     "execution_count": 9,
     "metadata": {},
     "output_type": "execute_result"
    }
   ],
   "source": [
    "sample_flight_data_frame.dtypes"
   ]
  },
  {
   "cell_type": "code",
   "execution_count": 10,
   "metadata": {
    "collapsed": true
   },
   "outputs": [],
   "source": [
    "# numeric_columns = flight_data_frame.select_dtypes(include=[numpy.number]).columns.values.tolist()"
   ]
  },
  {
   "cell_type": "code",
   "execution_count": 11,
   "metadata": {
    "collapsed": true
   },
   "outputs": [],
   "source": [
    "# for numeric_column in numeric_columns:\n",
    "#     print(numeric_column + ' ' \\\n",
    "#           + str(flight_data_frame[numeric_column].apply(lambda x: numpy.isnan(x)).sum().compute()))"
   ]
  },
  {
   "cell_type": "code",
   "execution_count": 12,
   "metadata": {},
   "outputs": [
    {
     "data": {
      "text/html": [
       "<div>\n",
       "<style>\n",
       "    .dataframe thead tr:only-child th {\n",
       "        text-align: right;\n",
       "    }\n",
       "\n",
       "    .dataframe thead th {\n",
       "        text-align: left;\n",
       "    }\n",
       "\n",
       "    .dataframe tbody tr th {\n",
       "        vertical-align: top;\n",
       "    }\n",
       "</style>\n",
       "<table border=\"1\" class=\"dataframe\">\n",
       "  <thead>\n",
       "    <tr style=\"text-align: right;\">\n",
       "      <th></th>\n",
       "      <th>YEAR</th>\n",
       "      <th>MONTH</th>\n",
       "      <th>DAY</th>\n",
       "      <th>DAY_OF_WEEK</th>\n",
       "      <th>AIRLINE</th>\n",
       "      <th>ORIGIN_AIRPORT</th>\n",
       "      <th>DESTINATION_AIRPORT</th>\n",
       "      <th>SCHEDULED_DEPARTURE</th>\n",
       "      <th>DEPARTURE_DELAY</th>\n",
       "      <th>SCHEDULED_TIME</th>\n",
       "      <th>AIR_TIME</th>\n",
       "      <th>DISTANCE</th>\n",
       "      <th>SCHEDULED_ARRIVAL</th>\n",
       "      <th>ARRIVAL_DELAY</th>\n",
       "      <th>DIVERTED</th>\n",
       "      <th>CANCELLED</th>\n",
       "      <th>AIR_SYSTEM_DELAY</th>\n",
       "      <th>SECURITY_DELAY</th>\n",
       "      <th>AIRLINE_DELAY</th>\n",
       "      <th>LATE_AIRCRAFT_DELAY</th>\n",
       "      <th>WEATHER_DELAY</th>\n",
       "    </tr>\n",
       "  </thead>\n",
       "  <tbody>\n",
       "    <tr>\n",
       "      <th>601567</th>\n",
       "      <td>2015.00</td>\n",
       "      <td>2.00</td>\n",
       "      <td>9.00</td>\n",
       "      <td>1.00</td>\n",
       "      <td>UA</td>\n",
       "      <td>DEN</td>\n",
       "      <td>ICT</td>\n",
       "      <td>1748.00</td>\n",
       "      <td>-4.00</td>\n",
       "      <td>83.00</td>\n",
       "      <td>52.00</td>\n",
       "      <td>420.00</td>\n",
       "      <td>2011.00</td>\n",
       "      <td>-20.00</td>\n",
       "      <td>0.00</td>\n",
       "      <td>0.00</td>\n",
       "      <td>nan</td>\n",
       "      <td>nan</td>\n",
       "      <td>nan</td>\n",
       "      <td>nan</td>\n",
       "      <td>nan</td>\n",
       "    </tr>\n",
       "    <tr>\n",
       "      <th>81881</th>\n",
       "      <td>2015.00</td>\n",
       "      <td>1.00</td>\n",
       "      <td>6.00</td>\n",
       "      <td>2.00</td>\n",
       "      <td>AS</td>\n",
       "      <td>SEA</td>\n",
       "      <td>DCA</td>\n",
       "      <td>815.00</td>\n",
       "      <td>-3.00</td>\n",
       "      <td>295.00</td>\n",
       "      <td>238.00</td>\n",
       "      <td>2329.00</td>\n",
       "      <td>1610.00</td>\n",
       "      <td>-38.00</td>\n",
       "      <td>0.00</td>\n",
       "      <td>0.00</td>\n",
       "      <td>nan</td>\n",
       "      <td>nan</td>\n",
       "      <td>nan</td>\n",
       "      <td>nan</td>\n",
       "      <td>nan</td>\n",
       "    </tr>\n",
       "    <tr>\n",
       "      <th>176570</th>\n",
       "      <td>2015.00</td>\n",
       "      <td>1.00</td>\n",
       "      <td>12.00</td>\n",
       "      <td>1.00</td>\n",
       "      <td>B6</td>\n",
       "      <td>BUF</td>\n",
       "      <td>JFK</td>\n",
       "      <td>1252.00</td>\n",
       "      <td>56.00</td>\n",
       "      <td>85.00</td>\n",
       "      <td>78.00</td>\n",
       "      <td>301.00</td>\n",
       "      <td>1417.00</td>\n",
       "      <td>85.00</td>\n",
       "      <td>0.00</td>\n",
       "      <td>0.00</td>\n",
       "      <td>29.00</td>\n",
       "      <td>0.00</td>\n",
       "      <td>3.00</td>\n",
       "      <td>53.00</td>\n",
       "      <td>0.00</td>\n",
       "    </tr>\n",
       "    <tr>\n",
       "      <th>304406</th>\n",
       "      <td>2015.00</td>\n",
       "      <td>1.00</td>\n",
       "      <td>20.00</td>\n",
       "      <td>2.00</td>\n",
       "      <td>OO</td>\n",
       "      <td>MSP</td>\n",
       "      <td>ABR</td>\n",
       "      <td>2154.00</td>\n",
       "      <td>-10.00</td>\n",
       "      <td>85.00</td>\n",
       "      <td>44.00</td>\n",
       "      <td>257.00</td>\n",
       "      <td>2319.00</td>\n",
       "      <td>-1.00</td>\n",
       "      <td>0.00</td>\n",
       "      <td>0.00</td>\n",
       "      <td>nan</td>\n",
       "      <td>nan</td>\n",
       "      <td>nan</td>\n",
       "      <td>nan</td>\n",
       "      <td>nan</td>\n",
       "    </tr>\n",
       "    <tr>\n",
       "      <th>624500</th>\n",
       "      <td>2015.00</td>\n",
       "      <td>2.00</td>\n",
       "      <td>11.00</td>\n",
       "      <td>3.00</td>\n",
       "      <td>US</td>\n",
       "      <td>MIA</td>\n",
       "      <td>CLT</td>\n",
       "      <td>955.00</td>\n",
       "      <td>-7.00</td>\n",
       "      <td>139.00</td>\n",
       "      <td>98.00</td>\n",
       "      <td>650.00</td>\n",
       "      <td>1214.00</td>\n",
       "      <td>-16.00</td>\n",
       "      <td>0.00</td>\n",
       "      <td>0.00</td>\n",
       "      <td>nan</td>\n",
       "      <td>nan</td>\n",
       "      <td>nan</td>\n",
       "      <td>nan</td>\n",
       "      <td>nan</td>\n",
       "    </tr>\n",
       "  </tbody>\n",
       "</table>\n",
       "</div>"
      ],
      "text/plain": [
       "          YEAR  MONTH   DAY  DAY_OF_WEEK AIRLINE ORIGIN_AIRPORT  \\\n",
       "601567 2015.00   2.00  9.00         1.00      UA            DEN   \n",
       "81881  2015.00   1.00  6.00         2.00      AS            SEA   \n",
       "176570 2015.00   1.00 12.00         1.00      B6            BUF   \n",
       "304406 2015.00   1.00 20.00         2.00      OO            MSP   \n",
       "624500 2015.00   2.00 11.00         3.00      US            MIA   \n",
       "\n",
       "       DESTINATION_AIRPORT  SCHEDULED_DEPARTURE  DEPARTURE_DELAY  \\\n",
       "601567                 ICT              1748.00            -4.00   \n",
       "81881                  DCA               815.00            -3.00   \n",
       "176570                 JFK              1252.00            56.00   \n",
       "304406                 ABR              2154.00           -10.00   \n",
       "624500                 CLT               955.00            -7.00   \n",
       "\n",
       "        SCHEDULED_TIME  AIR_TIME  DISTANCE  SCHEDULED_ARRIVAL  ARRIVAL_DELAY  \\\n",
       "601567           83.00     52.00    420.00            2011.00         -20.00   \n",
       "81881           295.00    238.00   2329.00            1610.00         -38.00   \n",
       "176570           85.00     78.00    301.00            1417.00          85.00   \n",
       "304406           85.00     44.00    257.00            2319.00          -1.00   \n",
       "624500          139.00     98.00    650.00            1214.00         -16.00   \n",
       "\n",
       "        DIVERTED  CANCELLED  AIR_SYSTEM_DELAY  SECURITY_DELAY  AIRLINE_DELAY  \\\n",
       "601567      0.00       0.00               nan             nan            nan   \n",
       "81881       0.00       0.00               nan             nan            nan   \n",
       "176570      0.00       0.00             29.00            0.00           3.00   \n",
       "304406      0.00       0.00               nan             nan            nan   \n",
       "624500      0.00       0.00               nan             nan            nan   \n",
       "\n",
       "        LATE_AIRCRAFT_DELAY  WEATHER_DELAY  \n",
       "601567                  nan            nan  \n",
       "81881                   nan            nan  \n",
       "176570                53.00           0.00  \n",
       "304406                  nan            nan  \n",
       "624500                  nan            nan  "
      ]
     },
     "execution_count": 12,
     "metadata": {},
     "output_type": "execute_result"
    }
   ],
   "source": [
    "#remove unwanted columns\n",
    "sample_flight_data_frame = sample_flight_data_frame.drop(labels=[\n",
    "    'FLIGHT_NUMBER',\n",
    "    'TAIL_NUMBER',\n",
    "    'DEPARTURE_TIME',    \n",
    "    'TAXI_OUT',\n",
    "    'WHEELS_OFF',\n",
    "    'ELAPSED_TIME',\n",
    "    'WHEELS_ON',\n",
    "    'TAXI_IN',\n",
    "    'ARRIVAL_TIME',\n",
    "    'CANCELLATION_REASON'], axis=1)\n",
    "sample_flight_data_frame.head()"
   ]
  },
  {
   "cell_type": "code",
   "execution_count": 13,
   "metadata": {
    "scrolled": false
   },
   "outputs": [
    {
     "data": {
      "text/plain": [
       "YEAR                  100.00\n",
       "MONTH                 100.00\n",
       "DAY                   100.00\n",
       "DAY_OF_WEEK           100.00\n",
       "AIRLINE               100.00\n",
       "ORIGIN_AIRPORT        100.00\n",
       "DESTINATION_AIRPORT   100.00\n",
       "SCHEDULED_DEPARTURE   100.00\n",
       "DEPARTURE_DELAY        98.53\n",
       "SCHEDULED_TIME        100.00\n",
       "AIR_TIME               98.21\n",
       "DISTANCE              100.00\n",
       "SCHEDULED_ARRIVAL     100.00\n",
       "ARRIVAL_DELAY          98.21\n",
       "DIVERTED              100.00\n",
       "CANCELLED             100.00\n",
       "AIR_SYSTEM_DELAY       18.30\n",
       "SECURITY_DELAY         18.30\n",
       "AIRLINE_DELAY          18.30\n",
       "LATE_AIRCRAFT_DELAY    18.30\n",
       "WEATHER_DELAY          18.30\n",
       "dtype: float64"
      ]
     },
     "execution_count": 13,
     "metadata": {},
     "output_type": "execute_result"
    }
   ],
   "source": [
    "#check empty values\n",
    "def check_nan():\n",
    "    return numpy.divide(sample_flight_data_frame.count() * 100.0 , len(sample_flight_data_frame.index))\n",
    "\n",
    "check_nan()"
   ]
  },
  {
   "cell_type": "code",
   "execution_count": 14,
   "metadata": {},
   "outputs": [
    {
     "data": {
      "text/plain": [
       "YEAR                  100.00\n",
       "MONTH                 100.00\n",
       "DAY                   100.00\n",
       "DAY_OF_WEEK           100.00\n",
       "AIRLINE               100.00\n",
       "ORIGIN_AIRPORT        100.00\n",
       "DESTINATION_AIRPORT   100.00\n",
       "SCHEDULED_DEPARTURE   100.00\n",
       "DEPARTURE_DELAY       100.00\n",
       "SCHEDULED_TIME        100.00\n",
       "AIR_TIME               98.21\n",
       "DISTANCE              100.00\n",
       "SCHEDULED_ARRIVAL     100.00\n",
       "ARRIVAL_DELAY         100.00\n",
       "DIVERTED              100.00\n",
       "CANCELLED             100.00\n",
       "AIR_SYSTEM_DELAY      100.00\n",
       "SECURITY_DELAY        100.00\n",
       "AIRLINE_DELAY         100.00\n",
       "LATE_AIRCRAFT_DELAY   100.00\n",
       "WEATHER_DELAY         100.00\n",
       "dtype: float64"
      ]
     },
     "execution_count": 14,
     "metadata": {},
     "output_type": "execute_result"
    }
   ],
   "source": [
    "#fill empty values\n",
    "sample_flight_data_frame['DEPARTURE_DELAY'].fillna(0.0, inplace=True)\n",
    "sample_flight_data_frame['ARRIVAL_DELAY'].fillna(0.0, inplace=True)\n",
    "sample_flight_data_frame['AIR_SYSTEM_DELAY'].fillna(0.0, inplace=True)\n",
    "sample_flight_data_frame['SECURITY_DELAY'].fillna(0.0, inplace=True)\n",
    "sample_flight_data_frame['AIRLINE_DELAY'].fillna(0.0, inplace=True)\n",
    "sample_flight_data_frame['LATE_AIRCRAFT_DELAY'].fillna(0.0, inplace=True)\n",
    "sample_flight_data_frame['WEATHER_DELAY'].fillna(0.0, inplace=True)\n",
    "check_nan()"
   ]
  },
  {
   "cell_type": "code",
   "execution_count": 15,
   "metadata": {},
   "outputs": [
    {
     "data": {
      "text/plain": [
       "1428732"
      ]
     },
     "execution_count": 15,
     "metadata": {},
     "output_type": "execute_result"
    }
   ],
   "source": [
    "#remove rows if any nan present\n",
    "sample_flight_data_frame.dropna(axis=0, inplace=True)\n",
    "len(sample_flight_data_frame.index)"
   ]
  },
  {
   "cell_type": "code",
   "execution_count": 16,
   "metadata": {},
   "outputs": [
    {
     "data": {
      "text/html": [
       "<div>\n",
       "<style>\n",
       "    .dataframe thead tr:only-child th {\n",
       "        text-align: right;\n",
       "    }\n",
       "\n",
       "    .dataframe thead th {\n",
       "        text-align: left;\n",
       "    }\n",
       "\n",
       "    .dataframe tbody tr th {\n",
       "        vertical-align: top;\n",
       "    }\n",
       "</style>\n",
       "<table border=\"1\" class=\"dataframe\">\n",
       "  <thead>\n",
       "    <tr style=\"text-align: right;\">\n",
       "      <th></th>\n",
       "      <th>DEPARTURE_DELAY</th>\n",
       "      <th>AIR_TIME</th>\n",
       "      <th>DISTANCE</th>\n",
       "      <th>ARRIVAL_DELAY</th>\n",
       "      <th>AIR_SYSTEM_DELAY</th>\n",
       "      <th>SECURITY_DELAY</th>\n",
       "      <th>AIRLINE_DELAY</th>\n",
       "      <th>LATE_AIRCRAFT_DELAY</th>\n",
       "      <th>WEATHER_DELAY</th>\n",
       "    </tr>\n",
       "  </thead>\n",
       "  <tbody>\n",
       "    <tr>\n",
       "      <th>count</th>\n",
       "      <td>1428732.00</td>\n",
       "      <td>1428732.00</td>\n",
       "      <td>1428732.00</td>\n",
       "      <td>1428732.00</td>\n",
       "      <td>1428732.00</td>\n",
       "      <td>1428732.00</td>\n",
       "      <td>1428732.00</td>\n",
       "      <td>1428732.00</td>\n",
       "      <td>1428732.00</td>\n",
       "    </tr>\n",
       "    <tr>\n",
       "      <th>mean</th>\n",
       "      <td>9.33</td>\n",
       "      <td>113.57</td>\n",
       "      <td>824.84</td>\n",
       "      <td>4.43</td>\n",
       "      <td>2.51</td>\n",
       "      <td>0.02</td>\n",
       "      <td>3.55</td>\n",
       "      <td>4.38</td>\n",
       "      <td>0.53</td>\n",
       "    </tr>\n",
       "    <tr>\n",
       "      <th>std</th>\n",
       "      <td>37.01</td>\n",
       "      <td>72.31</td>\n",
       "      <td>609.00</td>\n",
       "      <td>39.37</td>\n",
       "      <td>13.24</td>\n",
       "      <td>1.04</td>\n",
       "      <td>22.34</td>\n",
       "      <td>20.72</td>\n",
       "      <td>8.66</td>\n",
       "    </tr>\n",
       "    <tr>\n",
       "      <th>min</th>\n",
       "      <td>-61.00</td>\n",
       "      <td>7.00</td>\n",
       "      <td>31.00</td>\n",
       "      <td>-87.00</td>\n",
       "      <td>0.00</td>\n",
       "      <td>0.00</td>\n",
       "      <td>0.00</td>\n",
       "      <td>0.00</td>\n",
       "      <td>0.00</td>\n",
       "    </tr>\n",
       "    <tr>\n",
       "      <th>25%</th>\n",
       "      <td>-5.00</td>\n",
       "      <td>60.00</td>\n",
       "      <td>373.00</td>\n",
       "      <td>-13.00</td>\n",
       "      <td>0.00</td>\n",
       "      <td>0.00</td>\n",
       "      <td>0.00</td>\n",
       "      <td>0.00</td>\n",
       "      <td>0.00</td>\n",
       "    </tr>\n",
       "    <tr>\n",
       "      <th>50%</th>\n",
       "      <td>-2.00</td>\n",
       "      <td>94.00</td>\n",
       "      <td>650.00</td>\n",
       "      <td>-5.00</td>\n",
       "      <td>0.00</td>\n",
       "      <td>0.00</td>\n",
       "      <td>0.00</td>\n",
       "      <td>0.00</td>\n",
       "      <td>0.00</td>\n",
       "    </tr>\n",
       "    <tr>\n",
       "      <th>75%</th>\n",
       "      <td>7.00</td>\n",
       "      <td>144.00</td>\n",
       "      <td>1065.00</td>\n",
       "      <td>8.00</td>\n",
       "      <td>0.00</td>\n",
       "      <td>0.00</td>\n",
       "      <td>0.00</td>\n",
       "      <td>0.00</td>\n",
       "      <td>0.00</td>\n",
       "    </tr>\n",
       "    <tr>\n",
       "      <th>max</th>\n",
       "      <td>1649.00</td>\n",
       "      <td>687.00</td>\n",
       "      <td>4983.00</td>\n",
       "      <td>1636.00</td>\n",
       "      <td>1134.00</td>\n",
       "      <td>573.00</td>\n",
       "      <td>1636.00</td>\n",
       "      <td>1057.00</td>\n",
       "      <td>1116.00</td>\n",
       "    </tr>\n",
       "  </tbody>\n",
       "</table>\n",
       "</div>"
      ],
      "text/plain": [
       "       DEPARTURE_DELAY   AIR_TIME   DISTANCE  ARRIVAL_DELAY  AIR_SYSTEM_DELAY  \\\n",
       "count       1428732.00 1428732.00 1428732.00     1428732.00        1428732.00   \n",
       "mean              9.33     113.57     824.84           4.43              2.51   \n",
       "std              37.01      72.31     609.00          39.37             13.24   \n",
       "min             -61.00       7.00      31.00         -87.00              0.00   \n",
       "25%              -5.00      60.00     373.00         -13.00              0.00   \n",
       "50%              -2.00      94.00     650.00          -5.00              0.00   \n",
       "75%               7.00     144.00    1065.00           8.00              0.00   \n",
       "max            1649.00     687.00    4983.00        1636.00           1134.00   \n",
       "\n",
       "       SECURITY_DELAY  AIRLINE_DELAY  LATE_AIRCRAFT_DELAY  WEATHER_DELAY  \n",
       "count      1428732.00     1428732.00           1428732.00     1428732.00  \n",
       "mean             0.02           3.55                 4.38           0.53  \n",
       "std              1.04          22.34                20.72           8.66  \n",
       "min              0.00           0.00                 0.00           0.00  \n",
       "25%              0.00           0.00                 0.00           0.00  \n",
       "50%              0.00           0.00                 0.00           0.00  \n",
       "75%              0.00           0.00                 0.00           0.00  \n",
       "max            573.00        1636.00              1057.00        1116.00  "
      ]
     },
     "execution_count": 16,
     "metadata": {},
     "output_type": "execute_result"
    }
   ],
   "source": [
    "#exploratory analysis\n",
    "interesting_columns = [\n",
    "    'DEPARTURE_DELAY',\n",
    "    'AIR_TIME',\n",
    "    'DISTANCE',\n",
    "    'ARRIVAL_DELAY',\n",
    "    'AIR_SYSTEM_DELAY',\n",
    "    'SECURITY_DELAY',\n",
    "    'AIRLINE_DELAY',\n",
    "    'LATE_AIRCRAFT_DELAY',\n",
    "    'WEATHER_DELAY'\n",
    "]\n",
    "\n",
    "sample_flight_data_frame[interesting_columns].describe()"
   ]
  },
  {
   "cell_type": "code",
   "execution_count": 17,
   "metadata": {},
   "outputs": [
    {
     "data": {
      "text/plain": [
       "<matplotlib.axes._subplots.AxesSubplot at 0x7f7a34b92190>"
      ]
     },
     "execution_count": 17,
     "metadata": {},
     "output_type": "execute_result"
    },
    {
     "data": {
      "image/png": "[encoded data removed]",
      "text/plain": [
       "<matplotlib.figure.Figure at 0x7f79f559bb10>"
      ]
     },
     "metadata": {},
     "output_type": "display_data"
    }
   ],
   "source": [
    "sample_flight_data_frame['DEPARTURE_DELAY'].hist(bins=100)"
   ]
  },
  {
   "cell_type": "code",
   "execution_count": 18,
   "metadata": {},
   "outputs": [
    {
     "data": {
      "text/plain": [
       "<matplotlib.axes._subplots.AxesSubplot at 0x7f7a345c1f10>"
      ]
     },
     "execution_count": 18,
     "metadata": {},
     "output_type": "execute_result"
    },
    {
     "data": {
      "image/png": "[encoded data removed]",
      "text/plain": [
       "<matplotlib.figure.Figure at 0x7f7a34b924d0>"
      ]
     },
     "metadata": {},
     "output_type": "display_data"
    }
   ],
   "source": [
    "sample_flight_data_frame['ARRIVAL_DELAY'].hist(bins=100)"
   ]
  },
  {
   "cell_type": "code",
   "execution_count": 19,
   "metadata": {},
   "outputs": [
    {
     "data": {
      "text/plain": [
       "<matplotlib.axes._subplots.AxesSubplot at 0x7f79f5541590>"
      ]
     },
     "execution_count": 19,
     "metadata": {},
     "output_type": "execute_result"
    },
    {
     "data": {
      "image/png": "[encoded data removed]",
      "text/plain": [
       "<matplotlib.figure.Figure at 0x7f7a34515150>"
      ]
     },
     "metadata": {},
     "output_type": "display_data"
    }
   ],
   "source": [
    "sample_flight_data_frame['DISTANCE'].hist(bins=100)"
   ]
  },
  {
   "cell_type": "code",
   "execution_count": 20,
   "metadata": {},
   "outputs": [
    {
     "data": {
      "text/plain": [
       "<matplotlib.axes._subplots.AxesSubplot at 0x7f7a0bc61090>"
      ]
     },
     "execution_count": 20,
     "metadata": {},
     "output_type": "execute_result"
    },
    {
     "data": {
      "image/png": "[encoded data removed]",
      "text/plain": [
       "<matplotlib.figure.Figure at 0x7f7a0bc769d0>"
      ]
     },
     "metadata": {},
     "output_type": "display_data"
    }
   ],
   "source": [
    "sample_flight_data_frame['AIR_TIME'].hist(bins=100)"
   ]
  },
  {
   "cell_type": "code",
   "execution_count": 21,
   "metadata": {},
   "outputs": [
    {
     "data": {
      "text/plain": [
       "<matplotlib.axes._subplots.AxesSubplot at 0x7f7a0bc76bd0>"
      ]
     },
     "execution_count": 21,
     "metadata": {},
     "output_type": "execute_result"
    },
    {
     "data": {
      "image/png": "[encoded data removed]",
      "text/plain": [
       "<matplotlib.figure.Figure at 0x7f7a0bc76650>"
      ]
     },
     "metadata": {},
     "output_type": "display_data"
    }
   ],
   "source": [
    "#corelation plot\n",
    "pyplot.figure(figsize=(15,7))\n",
    "seaborn.heatmap(sample_flight_data_frame[interesting_columns].corr(), annot=True, linewidths=0.1)"
   ]
  },
  {
   "cell_type": "code",
   "execution_count": 22,
   "metadata": {},
   "outputs": [
    {
     "data": {
      "text/plain": [
       "<matplotlib.axes._subplots.AxesSubplot at 0x7f7a30aa6e90>"
      ]
     },
     "execution_count": 22,
     "metadata": {},
     "output_type": "execute_result"
    },
    {
     "data": {
      "image/png": "[encoded data removed]",
      "text/plain": [
       "<matplotlib.figure.Figure at 0x7f7a30abbd10>"
      ]
     },
     "metadata": {},
     "output_type": "display_data"
    }
   ],
   "source": [
    "sample_flight_data_frame.pivot_table(values=['ARRIVAL_DELAY', 'DEPARTURE_DELAY'], index=['AIRLINE'],\\\n",
    "                       aggfunc=numpy.mean).plot(kind='bar')"
   ]
  },
  {
   "cell_type": "code",
   "execution_count": 23,
   "metadata": {},
   "outputs": [
    {
     "data": {
      "text/plain": [
       "<matplotlib.axes._subplots.AxesSubplot at 0x7f7a0bd3c810>"
      ]
     },
     "execution_count": 23,
     "metadata": {},
     "output_type": "execute_result"
    },
    {
     "data": {
      "image/png": "[encoded data removed]",
      "text/plain": [
       "<matplotlib.figure.Figure at 0x7f7a3096d310>"
      ]
     },
     "metadata": {},
     "output_type": "display_data"
    }
   ],
   "source": [
    "sample_flight_data_frame.pivot_table(values=['ARRIVAL_DELAY', 'DEPARTURE_DELAY'], index=['MONTH'],\\\n",
    "                       aggfunc=numpy.mean).plot(kind='bar')"
   ]
  },
  {
   "cell_type": "code",
   "execution_count": 24,
   "metadata": {},
   "outputs": [
    {
     "data": {
      "text/plain": [
       "<matplotlib.axes._subplots.AxesSubplot at 0x7f7a30ac6d10>"
      ]
     },
     "execution_count": 24,
     "metadata": {},
     "output_type": "execute_result"
    },
    {
     "data": {
      "image/png": "[encoded data removed]",
      "text/plain": [
       "<matplotlib.figure.Figure at 0x7f7a3098e490>"
      ]
     },
     "metadata": {},
     "output_type": "display_data"
    }
   ],
   "source": [
    "sample_flight_data_frame.pivot_table(values=['ARRIVAL_DELAY', 'DEPARTURE_DELAY'], index=['DAY_OF_WEEK'],\\\n",
    "                       aggfunc=numpy.mean).plot(kind='bar')"
   ]
  },
  {
   "cell_type": "code",
   "execution_count": 25,
   "metadata": {},
   "outputs": [
    {
     "data": {
      "text/plain": [
       "<matplotlib.axes._subplots.AxesSubplot at 0x7f7a30bb2490>"
      ]
     },
     "execution_count": 25,
     "metadata": {},
     "output_type": "execute_result"
    },
    {
     "data": {
      "image/png": "[encoded data removed]",
      "text/plain": [
       "<matplotlib.figure.Figure at 0x7f79f32aa390>"
      ]
     },
     "metadata": {},
     "output_type": "display_data"
    }
   ],
   "source": [
    "axes = pyplot.figure(figsize=(10,4)).gca()\n",
    "sample_flight_data_frame.pivot_table(values=['ARRIVAL_DELAY', 'DEPARTURE_DELAY'], index=['DAY'],\\\n",
    "                       aggfunc=numpy.mean).plot(kind='bar', ax=axes)"
   ]
  },
  {
   "cell_type": "code",
   "execution_count": 26,
   "metadata": {},
   "outputs": [
    {
     "data": {
      "text/plain": [
       "<matplotlib.collections.PathCollection at 0x7f79f4768b10>"
      ]
     },
     "execution_count": 26,
     "metadata": {},
     "output_type": "execute_result"
    },
    {
     "data": {
      "image/png": "[encoded data removed]",
      "text/plain": [
       "<matplotlib.figure.Figure at 0x7f79f32aad50>"
      ]
     },
     "metadata": {},
     "output_type": "display_data"
    }
   ],
   "source": [
    "pyplot.scatter(sample_flight_data_frame['DISTANCE'], sample_flight_data_frame['ARRIVAL_DELAY'])"
   ]
  },
  {
   "cell_type": "code",
   "execution_count": 27,
   "metadata": {
    "scrolled": false
   },
   "outputs": [
    {
     "data": {
      "text/html": [
       "<div>\n",
       "<style>\n",
       "    .dataframe thead tr:only-child th {\n",
       "        text-align: right;\n",
       "    }\n",
       "\n",
       "    .dataframe thead th {\n",
       "        text-align: left;\n",
       "    }\n",
       "\n",
       "    .dataframe tbody tr th {\n",
       "        vertical-align: top;\n",
       "    }\n",
       "</style>\n",
       "<table border=\"1\" class=\"dataframe\">\n",
       "  <thead>\n",
       "    <tr style=\"text-align: right;\">\n",
       "      <th></th>\n",
       "      <th>ARRIVAL_DELAY</th>\n",
       "      <th>DEPARTURE_DELAY</th>\n",
       "    </tr>\n",
       "    <tr>\n",
       "      <th>ORIGIN_AIRPORT</th>\n",
       "      <th></th>\n",
       "      <th></th>\n",
       "    </tr>\n",
       "  </thead>\n",
       "  <tbody>\n",
       "    <tr>\n",
       "      <th>10165</th>\n",
       "      <td>33.00</td>\n",
       "      <td>28.40</td>\n",
       "    </tr>\n",
       "    <tr>\n",
       "      <th>10146</th>\n",
       "      <td>30.35</td>\n",
       "      <td>28.00</td>\n",
       "    </tr>\n",
       "    <tr>\n",
       "      <th>10154</th>\n",
       "      <td>29.33</td>\n",
       "      <td>28.67</td>\n",
       "    </tr>\n",
       "    <tr>\n",
       "      <th>10135</th>\n",
       "      <td>19.70</td>\n",
       "      <td>20.93</td>\n",
       "    </tr>\n",
       "    <tr>\n",
       "      <th>10157</th>\n",
       "      <td>4.36</td>\n",
       "      <td>8.05</td>\n",
       "    </tr>\n",
       "    <tr>\n",
       "      <th>10140</th>\n",
       "      <td>1.21</td>\n",
       "      <td>6.89</td>\n",
       "    </tr>\n",
       "    <tr>\n",
       "      <th>10141</th>\n",
       "      <td>-2.06</td>\n",
       "      <td>-0.39</td>\n",
       "    </tr>\n",
       "    <tr>\n",
       "      <th>10158</th>\n",
       "      <td>-6.61</td>\n",
       "      <td>-1.93</td>\n",
       "    </tr>\n",
       "    <tr>\n",
       "      <th>10136</th>\n",
       "      <td>-7.89</td>\n",
       "      <td>1.78</td>\n",
       "    </tr>\n",
       "    <tr>\n",
       "      <th>10155</th>\n",
       "      <td>-13.97</td>\n",
       "      <td>-6.39</td>\n",
       "    </tr>\n",
       "  </tbody>\n",
       "</table>\n",
       "</div>"
      ],
      "text/plain": [
       "                ARRIVAL_DELAY  DEPARTURE_DELAY\n",
       "ORIGIN_AIRPORT                                \n",
       "10165                   33.00            28.40\n",
       "10146                   30.35            28.00\n",
       "10154                   29.33            28.67\n",
       "10135                   19.70            20.93\n",
       "10157                    4.36             8.05\n",
       "10140                    1.21             6.89\n",
       "10141                   -2.06            -0.39\n",
       "10158                   -6.61            -1.93\n",
       "10136                   -7.89             1.78\n",
       "10155                  -13.97            -6.39"
      ]
     },
     "execution_count": 27,
     "metadata": {},
     "output_type": "execute_result"
    }
   ],
   "source": [
    "sample_flight_data_frame.pivot_table(values=['DEPARTURE_DELAY', 'ARRIVAL_DELAY'], index=['ORIGIN_AIRPORT'],\\\n",
    "                       aggfunc=numpy.mean)[:10].sort_values(by='ARRIVAL_DELAY', ascending=False)"
   ]
  },
  {
   "cell_type": "code",
   "execution_count": 28,
   "metadata": {},
   "outputs": [
    {
     "data": {
      "text/html": [
       "<div>\n",
       "<style>\n",
       "    .dataframe thead tr:only-child th {\n",
       "        text-align: right;\n",
       "    }\n",
       "\n",
       "    .dataframe thead th {\n",
       "        text-align: left;\n",
       "    }\n",
       "\n",
       "    .dataframe tbody tr th {\n",
       "        vertical-align: top;\n",
       "    }\n",
       "</style>\n",
       "<table border=\"1\" class=\"dataframe\">\n",
       "  <thead>\n",
       "    <tr style=\"text-align: right;\">\n",
       "      <th></th>\n",
       "      <th>ARRIVAL_DELAY</th>\n",
       "      <th>DEPARTURE_DELAY</th>\n",
       "    </tr>\n",
       "    <tr>\n",
       "      <th>DESTINATION_AIRPORT</th>\n",
       "      <th></th>\n",
       "      <th></th>\n",
       "    </tr>\n",
       "  </thead>\n",
       "  <tbody>\n",
       "    <tr>\n",
       "      <th>10146</th>\n",
       "      <td>10.59</td>\n",
       "      <td>9.82</td>\n",
       "    </tr>\n",
       "    <tr>\n",
       "      <th>10135</th>\n",
       "      <td>8.74</td>\n",
       "      <td>10.46</td>\n",
       "    </tr>\n",
       "    <tr>\n",
       "      <th>10158</th>\n",
       "      <td>4.26</td>\n",
       "      <td>3.40</td>\n",
       "    </tr>\n",
       "    <tr>\n",
       "      <th>10154</th>\n",
       "      <td>2.00</td>\n",
       "      <td>0.00</td>\n",
       "    </tr>\n",
       "    <tr>\n",
       "      <th>10140</th>\n",
       "      <td>1.07</td>\n",
       "      <td>5.65</td>\n",
       "    </tr>\n",
       "    <tr>\n",
       "      <th>10157</th>\n",
       "      <td>0.21</td>\n",
       "      <td>-0.68</td>\n",
       "    </tr>\n",
       "    <tr>\n",
       "      <th>10141</th>\n",
       "      <td>-0.94</td>\n",
       "      <td>3.39</td>\n",
       "    </tr>\n",
       "    <tr>\n",
       "      <th>10165</th>\n",
       "      <td>-1.00</td>\n",
       "      <td>-6.00</td>\n",
       "    </tr>\n",
       "    <tr>\n",
       "      <th>10155</th>\n",
       "      <td>-2.57</td>\n",
       "      <td>-1.74</td>\n",
       "    </tr>\n",
       "    <tr>\n",
       "      <th>10136</th>\n",
       "      <td>-7.40</td>\n",
       "      <td>-1.09</td>\n",
       "    </tr>\n",
       "  </tbody>\n",
       "</table>\n",
       "</div>"
      ],
      "text/plain": [
       "                     ARRIVAL_DELAY  DEPARTURE_DELAY\n",
       "DESTINATION_AIRPORT                                \n",
       "10146                        10.59             9.82\n",
       "10135                         8.74            10.46\n",
       "10158                         4.26             3.40\n",
       "10154                         2.00             0.00\n",
       "10140                         1.07             5.65\n",
       "10157                         0.21            -0.68\n",
       "10141                        -0.94             3.39\n",
       "10165                        -1.00            -6.00\n",
       "10155                        -2.57            -1.74\n",
       "10136                        -7.40            -1.09"
      ]
     },
     "execution_count": 28,
     "metadata": {},
     "output_type": "execute_result"
    }
   ],
   "source": [
    "sample_flight_data_frame.pivot_table(values=['DEPARTURE_DELAY', 'ARRIVAL_DELAY'], index=['DESTINATION_AIRPORT'],\\\n",
    "                       aggfunc=numpy.mean)[:10].sort_values(by='ARRIVAL_DELAY', ascending=False)"
   ]
  },
  {
   "cell_type": "code",
   "execution_count": 29,
   "metadata": {},
   "outputs": [
    {
     "data": {
      "text/plain": [
       "<matplotlib.collections.PathCollection at 0x7f79f35f1b50>"
      ]
     },
     "execution_count": 29,
     "metadata": {},
     "output_type": "execute_result"
    },
    {
     "data": {
      "image/png": "[encoded data removed]",
      "text/plain": [
       "<matplotlib.figure.Figure at 0x7f7a0bc47090>"
      ]
     },
     "metadata": {},
     "output_type": "display_data"
    }
   ],
   "source": [
    "pyplot.scatter(sample_flight_data_frame['SCHEDULED_DEPARTURE'], sample_flight_data_frame['DEPARTURE_DELAY'])"
   ]
  },
  {
   "cell_type": "code",
   "execution_count": 30,
   "metadata": {},
   "outputs": [
    {
     "data": {
      "text/plain": [
       "<matplotlib.collections.PathCollection at 0x7f7a3066d550>"
      ]
     },
     "execution_count": 30,
     "metadata": {},
     "output_type": "execute_result"
    },
    {
     "data": {
      "image/png": "[encoded data removed]",
      "text/plain": [
       "<matplotlib.figure.Figure at 0x7f79f45a7bd0>"
      ]
     },
     "metadata": {},
     "output_type": "display_data"
    }
   ],
   "source": [
    "pyplot.scatter(sample_flight_data_frame['SCHEDULED_ARRIVAL'], sample_flight_data_frame['ARRIVAL_DELAY'])"
   ]
  },
  {
   "cell_type": "code",
   "execution_count": 31,
   "metadata": {},
   "outputs": [
    {
     "data": {
      "text/plain": [
       "<matplotlib.axes._subplots.AxesSubplot at 0x7f79f3459250>"
      ]
     },
     "execution_count": 31,
     "metadata": {},
     "output_type": "execute_result"
    },
    {
     "data": {
      "image/png": "[encoded data removed]",
      "text/plain": [
       "<matplotlib.figure.Figure at 0x7f7a306a2490>"
      ]
     },
     "metadata": {},
     "output_type": "display_data"
    }
   ],
   "source": [
    "sample_flight_data_frame.pivot_table(values=['WEATHER_DELAY'], index=['MONTH'],\\\n",
    "                       aggfunc=numpy.mean).plot(kind='bar')"
   ]
  },
  {
   "cell_type": "code",
   "execution_count": 89,
   "metadata": {},
   "outputs": [
    {
     "data": {
      "text/html": [
       "<div>\n",
       "<style>\n",
       "    .dataframe thead tr:only-child th {\n",
       "        text-align: right;\n",
       "    }\n",
       "\n",
       "    .dataframe thead th {\n",
       "        text-align: left;\n",
       "    }\n",
       "\n",
       "    .dataframe tbody tr th {\n",
       "        vertical-align: top;\n",
       "    }\n",
       "</style>\n",
       "<table border=\"1\" class=\"dataframe\">\n",
       "  <thead>\n",
       "    <tr style=\"text-align: right;\">\n",
       "      <th></th>\n",
       "      <th>SCHEDULED_DEPARTURE</th>\n",
       "      <th>SCHEDULED_DEPARTURE_CATEGORY</th>\n",
       "    </tr>\n",
       "  </thead>\n",
       "  <tbody>\n",
       "    <tr>\n",
       "      <th>601567</th>\n",
       "      <td>1748.00</td>\n",
       "      <td>(1700, 1800]</td>\n",
       "    </tr>\n",
       "    <tr>\n",
       "      <th>81881</th>\n",
       "      <td>815.00</td>\n",
       "      <td>(800, 900]</td>\n",
       "    </tr>\n",
       "    <tr>\n",
       "      <th>176570</th>\n",
       "      <td>1252.00</td>\n",
       "      <td>(1200, 1300]</td>\n",
       "    </tr>\n",
       "    <tr>\n",
       "      <th>304406</th>\n",
       "      <td>2154.00</td>\n",
       "      <td>(2100, 2200]</td>\n",
       "    </tr>\n",
       "    <tr>\n",
       "      <th>624500</th>\n",
       "      <td>955.00</td>\n",
       "      <td>(900, 1000]</td>\n",
       "    </tr>\n",
       "  </tbody>\n",
       "</table>\n",
       "</div>"
      ],
      "text/plain": [
       "        SCHEDULED_DEPARTURE SCHEDULED_DEPARTURE_CATEGORY\n",
       "601567              1748.00                 (1700, 1800]\n",
       "81881                815.00                   (800, 900]\n",
       "176570              1252.00                 (1200, 1300]\n",
       "304406              2154.00                 (2100, 2200]\n",
       "624500               955.00                  (900, 1000]"
      ]
     },
     "execution_count": 89,
     "metadata": {},
     "output_type": "execute_result"
    }
   ],
   "source": [
    "#prepare data\n",
    "prepared_flight_data_frame = sample_flight_data_frame.copy(deep=True)\n",
    "\n",
    "# bins = [0.0, 600.0, 1200.0, 1800.0, 2100.0, 2400.0]\n",
    "# labels = ['early_morning', 'morning', 'afternoon', 'evening', 'night']\n",
    "\n",
    "bins = range(0, 2500, 100)\n",
    "prepared_flight_data_frame['SCHEDULED_DEPARTURE_CATEGORY'] = pandas.cut(\\\n",
    "        prepared_flight_data_frame['SCHEDULED_DEPARTURE'],\\\n",
    "        bins=bins)\n",
    "prepared_flight_data_frame[['SCHEDULED_DEPARTURE', 'SCHEDULED_DEPARTURE_CATEGORY']].head()"
   ]
  },
  {
   "cell_type": "code",
   "execution_count": 90,
   "metadata": {},
   "outputs": [
    {
     "data": {
      "text/html": [
       "<div>\n",
       "<style>\n",
       "    .dataframe thead tr:only-child th {\n",
       "        text-align: right;\n",
       "    }\n",
       "\n",
       "    .dataframe thead th {\n",
       "        text-align: left;\n",
       "    }\n",
       "\n",
       "    .dataframe tbody tr th {\n",
       "        vertical-align: top;\n",
       "    }\n",
       "</style>\n",
       "<table border=\"1\" class=\"dataframe\">\n",
       "  <thead>\n",
       "    <tr style=\"text-align: right;\">\n",
       "      <th></th>\n",
       "      <th>SCHEDULED_ARRIVAL</th>\n",
       "      <th>SCHEDULED_ARRIVAL_CATEGORY</th>\n",
       "    </tr>\n",
       "  </thead>\n",
       "  <tbody>\n",
       "    <tr>\n",
       "      <th>601567</th>\n",
       "      <td>2011.00</td>\n",
       "      <td>(2000, 2100]</td>\n",
       "    </tr>\n",
       "    <tr>\n",
       "      <th>81881</th>\n",
       "      <td>1610.00</td>\n",
       "      <td>(1600, 1700]</td>\n",
       "    </tr>\n",
       "    <tr>\n",
       "      <th>176570</th>\n",
       "      <td>1417.00</td>\n",
       "      <td>(1400, 1500]</td>\n",
       "    </tr>\n",
       "    <tr>\n",
       "      <th>304406</th>\n",
       "      <td>2319.00</td>\n",
       "      <td>(2300, 2400]</td>\n",
       "    </tr>\n",
       "    <tr>\n",
       "      <th>624500</th>\n",
       "      <td>1214.00</td>\n",
       "      <td>(1200, 1300]</td>\n",
       "    </tr>\n",
       "  </tbody>\n",
       "</table>\n",
       "</div>"
      ],
      "text/plain": [
       "        SCHEDULED_ARRIVAL SCHEDULED_ARRIVAL_CATEGORY\n",
       "601567            2011.00               (2000, 2100]\n",
       "81881             1610.00               (1600, 1700]\n",
       "176570            1417.00               (1400, 1500]\n",
       "304406            2319.00               (2300, 2400]\n",
       "624500            1214.00               (1200, 1300]"
      ]
     },
     "execution_count": 90,
     "metadata": {},
     "output_type": "execute_result"
    }
   ],
   "source": [
    "prepared_flight_data_frame['SCHEDULED_ARRIVAL_CATEGORY'] = pandas.cut(\\\n",
    "        prepared_flight_data_frame['SCHEDULED_ARRIVAL'],\\\n",
    "        bins=bins)\n",
    "prepared_flight_data_frame[['SCHEDULED_ARRIVAL', 'SCHEDULED_ARRIVAL_CATEGORY']].head()"
   ]
  },
  {
   "cell_type": "code",
   "execution_count": 91,
   "metadata": {},
   "outputs": [
    {
     "data": {
      "text/html": [
       "<div>\n",
       "<style>\n",
       "    .dataframe thead tr:only-child th {\n",
       "        text-align: right;\n",
       "    }\n",
       "\n",
       "    .dataframe thead th {\n",
       "        text-align: left;\n",
       "    }\n",
       "\n",
       "    .dataframe tbody tr th {\n",
       "        vertical-align: top;\n",
       "    }\n",
       "</style>\n",
       "<table border=\"1\" class=\"dataframe\">\n",
       "  <thead>\n",
       "    <tr style=\"text-align: right;\">\n",
       "      <th></th>\n",
       "      <th>DISTANCE</th>\n",
       "      <th>DISTANCE_CATEGORY</th>\n",
       "    </tr>\n",
       "  </thead>\n",
       "  <tbody>\n",
       "    <tr>\n",
       "      <th>601567</th>\n",
       "      <td>420.00</td>\n",
       "      <td>short</td>\n",
       "    </tr>\n",
       "    <tr>\n",
       "      <th>81881</th>\n",
       "      <td>2329.00</td>\n",
       "      <td>long</td>\n",
       "    </tr>\n",
       "    <tr>\n",
       "      <th>176570</th>\n",
       "      <td>301.00</td>\n",
       "      <td>short</td>\n",
       "    </tr>\n",
       "    <tr>\n",
       "      <th>304406</th>\n",
       "      <td>257.00</td>\n",
       "      <td>short</td>\n",
       "    </tr>\n",
       "    <tr>\n",
       "      <th>624500</th>\n",
       "      <td>650.00</td>\n",
       "      <td>short</td>\n",
       "    </tr>\n",
       "  </tbody>\n",
       "</table>\n",
       "</div>"
      ],
      "text/plain": [
       "        DISTANCE DISTANCE_CATEGORY\n",
       "601567    420.00             short\n",
       "81881    2329.00              long\n",
       "176570    301.00             short\n",
       "304406    257.00             short\n",
       "624500    650.00             short"
      ]
     },
     "execution_count": 91,
     "metadata": {},
     "output_type": "execute_result"
    }
   ],
   "source": [
    "prepared_flight_data_frame['DISTANCE_CATEGORY'] = pandas.cut(\\\n",
    "        prepared_flight_data_frame['DISTANCE'],\\\n",
    "        bins=[0, 1000, 2000, 3000], labels=['short', 'medium', 'long'])\n",
    "prepared_flight_data_frame[['DISTANCE', 'DISTANCE_CATEGORY']].head()"
   ]
  },
  {
   "cell_type": "code",
   "execution_count": 92,
   "metadata": {},
   "outputs": [
    {
     "data": {
      "text/plain": [
       "array(['YEAR', 'MONTH', 'DAY', 'DAY_OF_WEEK', 'AIRLINE', 'ORIGIN_AIRPORT',\n",
       "       'DESTINATION_AIRPORT', 'SCHEDULED_DEPARTURE', 'DEPARTURE_DELAY',\n",
       "       'SCHEDULED_TIME', 'AIR_TIME', 'DISTANCE', 'SCHEDULED_ARRIVAL',\n",
       "       'ARRIVAL_DELAY', 'DIVERTED', 'CANCELLED', 'AIR_SYSTEM_DELAY',\n",
       "       'SECURITY_DELAY', 'AIRLINE_DELAY', 'LATE_AIRCRAFT_DELAY',\n",
       "       'WEATHER_DELAY', 'SCHEDULED_DEPARTURE_CATEGORY',\n",
       "       'SCHEDULED_ARRIVAL_CATEGORY', 'DISTANCE_CATEGORY'], dtype=object)"
      ]
     },
     "execution_count": 92,
     "metadata": {},
     "output_type": "execute_result"
    }
   ],
   "source": [
    "prepared_flight_data_frame.columns.values"
   ]
  },
  {
   "cell_type": "code",
   "execution_count": 218,
   "metadata": {},
   "outputs": [
    {
     "data": {
      "text/plain": [
       "1142986"
      ]
     },
     "execution_count": 218,
     "metadata": {},
     "output_type": "execute_result"
    }
   ],
   "source": [
    "#seperate train and test data\n",
    "train_data_frame = prepared_flight_data_frame.sample(frac=0.8)\n",
    "test_data_frame = prepared_flight_data_frame.drop(train_data_frame.index)\n",
    "\n",
    "len(train_data_frame)"
   ]
  },
  {
   "cell_type": "code",
   "execution_count": 219,
   "metadata": {},
   "outputs": [
    {
     "data": {
      "text/plain": [
       "47986"
      ]
     },
     "execution_count": 219,
     "metadata": {},
     "output_type": "execute_result"
    }
   ],
   "source": [
    "len(test_data_frame)"
   ]
  },
  {
   "cell_type": "code",
   "execution_count": 238,
   "metadata": {},
   "outputs": [],
   "source": [
    "#model\n",
    "define_delay = 30.0;\n",
    "\n",
    "def get_mean_delay(row): \n",
    "    return train_data_frame.loc[\\\n",
    "            (train_data_frame['MONTH'] == row['MONTH']) &\\\n",
    "#             (train_data_frame['DAY'] == row['DAY']) &\\\n",
    "#             (train_data_frame['DAY_OF_WEEK'] == row['DAY_OF_WEEK']) &\\\n",
    "            (train_data_frame['AIRLINE'] == row['AIRLINE']) &\\\n",
    "#             (train_data_frame['ORIGIN_AIRPORT'] == row['ORIGIN_AIRPORT']) &\\\n",
    "#             (train_data_frame['DESTINATION_AIRPORT'] == row['DESTINATION_AIRPORT']) \\\n",
    "            (train_data_frame['SCHEDULED_DEPARTURE_CATEGORY'] == row['SCHEDULED_DEPARTURE_CATEGORY']) &\\\n",
    "            (train_data_frame['SCHEDULED_ARRIVAL_CATEGORY'] == row['SCHEDULED_ARRIVAL_CATEGORY']) \\\n",
    "#             (train_data_frame['DISTANCE_CATEGORY'] == row['DISTANCE_CATEGORY'])\\\n",
    "#          ]['ARRIVAL_DELAY'].apply(lambda x: 0 if x < 0 else min(x, define_delay)).mean()\n",
    "            ]['ARRIVAL_DELAY'].mean()\n",
    "\n",
    "def is_delay(value):\n",
    "    if value > define_delay:\n",
    "        return 1\n",
    "    \n",
    "    return 0\n",
    "\n",
    "def apply_delay(series):\n",
    "    return series.apply(is_delay).values\n",
    "\n",
    "def get_prediction(test_frame):\n",
    "#     print(test_frame.apply(get_mean_delay, axis=1))\n",
    "    return apply_delay(test_frame.apply(get_mean_delay, axis=1))"
   ]
  },
  {
   "cell_type": "code",
   "execution_count": 239,
   "metadata": {},
   "outputs": [
    {
     "name": "stdout",
     "output_type": "stream",
     "text": [
      "mean without model 0.111490851498\n"
     ]
    }
   ],
   "source": [
    "#define problem\n",
    "fundamental_mean = apply_delay(test_data_frame['ARRIVAL_DELAY']).mean()\n",
    "print('mean without model ' + str(fundamental_mean))"
   ]
  },
  {
   "cell_type": "code",
   "execution_count": 240,
   "metadata": {
    "scrolled": false
   },
   "outputs": [
    {
     "name": "stdout",
     "output_type": "stream",
     "text": [
      "0:sample accuracy 0.9\n",
      "1:sample accuracy 0.9\n",
      "2:sample accuracy 0.8\n",
      "3:sample accuracy 0.8\n",
      "4:sample accuracy 1.0\n",
      "5:sample accuracy 0.9\n",
      "6:sample accuracy 0.8\n",
      "7:sample accuracy 0.7\n",
      "8:sample accuracy 0.9\n",
      "9:sample accuracy 0.9\n",
      "10:sample accuracy 1.0\n",
      "11:sample accuracy 0.8\n",
      "12:sample accuracy 0.8\n",
      "13:sample accuracy 0.9\n",
      "14:sample accuracy 1.0\n",
      "15:sample accuracy 0.9\n",
      "16:sample accuracy 0.9\n",
      "17:sample accuracy 0.9\n",
      "18:sample accuracy 0.8\n",
      "19:sample accuracy 0.9\n",
      "20:sample accuracy 0.9\n",
      "21:sample accuracy 0.9\n",
      "22:sample accuracy 0.8\n",
      "23:sample accuracy 0.9\n",
      "24:sample accuracy 0.6\n",
      "25:sample accuracy 1.0\n",
      "26:sample accuracy 0.7\n",
      "27:sample accuracy 0.9\n",
      "28:sample accuracy 0.9\n",
      "29:sample accuracy 0.9\n",
      "30:sample accuracy 1.0\n",
      "31:sample accuracy 0.8\n",
      "32:sample accuracy 0.6\n",
      "33:sample accuracy 1.0\n",
      "34:sample accuracy 0.9\n",
      "35:sample accuracy 0.6\n",
      "36:sample accuracy 0.8\n",
      "37:sample accuracy 1.0\n",
      "38:sample accuracy 1.0\n",
      "39:sample accuracy 0.8\n",
      "40:sample accuracy 0.8\n",
      "41:sample accuracy 1.0\n",
      "42:sample accuracy 1.0\n",
      "43:sample accuracy 0.9\n",
      "44:sample accuracy 1.0\n",
      "45:sample accuracy 0.9\n",
      "46:sample accuracy 0.6\n",
      "47:sample accuracy 1.0\n",
      "48:sample accuracy 1.0\n",
      "49:sample accuracy 0.6\n",
      "50:sample accuracy 0.9\n",
      "51:sample accuracy 0.8\n",
      "52:sample accuracy 0.8\n",
      "53:sample accuracy 0.8\n",
      "54:sample accuracy 0.9\n",
      "55:sample accuracy 1.0\n",
      "56:sample accuracy 0.9\n",
      "57:sample accuracy 0.9\n",
      "58:sample accuracy 0.9\n",
      "59:sample accuracy 0.9\n",
      "60:sample accuracy 0.9\n",
      "61:sample accuracy 0.9\n",
      "62:sample accuracy 0.9\n",
      "63:sample accuracy 0.6\n",
      "64:sample accuracy 0.9\n",
      "65:sample accuracy 0.9\n",
      "66:sample accuracy 0.8\n",
      "67:sample accuracy 1.0\n",
      "68:sample accuracy 0.7\n",
      "69:sample accuracy 1.0\n",
      "70:sample accuracy 0.9\n",
      "71:sample accuracy 0.9\n",
      "72:sample accuracy 0.9\n",
      "73:sample accuracy 0.9\n",
      "74:sample accuracy 0.9\n",
      "75:sample accuracy 0.8\n",
      "76:sample accuracy 0.9\n",
      "77:sample accuracy 0.9\n",
      "78:sample accuracy 1.0\n",
      "79:sample accuracy 0.9\n",
      "80:sample accuracy 0.9\n",
      "81:sample accuracy 0.8\n",
      "82:sample accuracy 0.7\n",
      "83:sample accuracy 0.9\n",
      "84:sample accuracy 0.8\n",
      "85:sample accuracy 0.9\n",
      "86:sample accuracy 0.9\n",
      "87:sample accuracy 0.8\n",
      "88:sample accuracy 0.9\n",
      "89:sample accuracy 1.0\n",
      "90:sample accuracy 1.0\n",
      "91:sample accuracy 0.8\n",
      "92:sample accuracy 0.9\n",
      "93:sample accuracy 0.9\n",
      "94:sample accuracy 0.9\n",
      "95:sample accuracy 0.9\n",
      "96:sample accuracy 0.7\n",
      "97:sample accuracy 0.9\n",
      "98:sample accuracy 0.7\n",
      "99:sample accuracy 0.9\n"
     ]
    }
   ],
   "source": [
    "#lets predict\n",
    "def test_model(test_sample):\n",
    "    prediction = get_prediction(test_sample)\n",
    "    output = apply_delay(test_sample['ARRIVAL_DELAY'])\n",
    "    return metrics.accuracy_score(prediction, output)\n",
    "\n",
    "sample_accuracies = []\n",
    "for i in range(100):\n",
    "    test_sample = test_data_frame.sample(n=10)\n",
    "    sample_accuracy = test_model(test_sample)\n",
    "    sample_accuracies.append(sample_accuracy)\n",
    "    print(str(i) + ':sample accuracy ' + str(sample_accuracy))                "
   ]
  },
  {
   "cell_type": "code",
   "execution_count": 241,
   "metadata": {},
   "outputs": [
    {
     "data": {
      "image/png": "[encoded data removed]",
      "text/plain": [
       "<matplotlib.figure.Figure at 0x7f7a34a26850>"
      ]
     },
     "metadata": {},
     "output_type": "display_data"
    }
   ],
   "source": [
    "array_output = pyplot.hist(sample_accuracies, bins=10)"
   ]
  },
  {
   "cell_type": "code",
   "execution_count": 242,
   "metadata": {},
   "outputs": [
    {
     "name": "stdout",
     "output_type": "stream",
     "text": [
      "mean accuracy 0.869\n"
     ]
    }
   ],
   "source": [
    "print('mean accuracy ' + str(numpy.mean(sample_accuracies)))"
   ]
  },
  {
   "cell_type": "code",
   "execution_count": 243,
   "metadata": {},
   "outputs": [
    {
     "name": "stdout",
     "output_type": "stream",
     "text": [
      "dummy model accuracy 0.8031\n"
     ]
    }
   ],
   "source": [
    "#verification\n",
    "def dummy_model(test_sample):\n",
    "    prediction = numpy.random.binomial(1, fundamental_mean, len(test_sample))\n",
    "    output = apply_delay(test_sample['ARRIVAL_DELAY'])\n",
    "    return metrics.accuracy_score(prediction, output)\n",
    "\n",
    "sample_accuracies = []        \n",
    "for i in range(1000):\n",
    "    test_sample = test_data_frame.sample(n=10)\n",
    "    sample_accuracy = dummy_model(test_sample)\n",
    "    sample_accuracies.append(sample_accuracy)\n",
    "    \n",
    "print('dummy model accuracy ' + str(numpy.mean(sample_accuracies)))"
   ]
  },
  {
   "cell_type": "code",
   "execution_count": null,
   "metadata": {
    "collapsed": true
   },
   "outputs": [],
   "source": []
  }
 ],
 "metadata": {
  "kernelspec": {
   "display_name": "Python 2",
   "language": "python",
   "name": "python2"
  },
  "language_info": {
   "codemirror_mode": {
    "name": "ipython",
    "version": 2
   },
   "file_extension": ".py",
   "mimetype": "text/x-python",
   "name": "python",
   "nbconvert_exporter": "python",
   "pygments_lexer": "ipython2",
   "version": "2.7.14"
  }
 },
 "nbformat": 4,
 "nbformat_minor": 2
}
