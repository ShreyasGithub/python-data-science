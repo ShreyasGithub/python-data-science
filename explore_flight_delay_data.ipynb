{
 "cells": [
  {
   "cell_type": "code",
   "execution_count": 185,
   "metadata": {
    "collapsed": true
   },
   "outputs": [],
   "source": [
    "import pandas\n",
    "import numpy\n",
    "import dask.dataframe as dask_data_frame\n",
    "\n",
    "import matplotlib\n",
    "from matplotlib import pyplot\n",
    "\n",
    "import seaborn\n",
    "\n",
    "from scipy.stats import mode\n",
    "\n",
    "from sklearn.preprocessing import LabelEncoder\n",
    "from sklearn import preprocessing\n",
    "from sklearn import metrics\n",
    "from sklearn.externals.six import StringIO  \n",
    "\n",
    "%matplotlib inline\n",
    "pandas.options.display.max_columns = 50\n",
    "pandas.set_option('display.float_format', lambda x: '%.2f' % x)"
   ]
  },
  {
   "cell_type": "code",
   "execution_count": 186,
   "metadata": {},
   "outputs": [],
   "source": [
    "#load data\n",
    "flight_data_directory = 'data/flight_delay/'\n",
    "airline_data_frame = pandas.read_csv(flight_data_directory + 'airlines.csv')\n",
    "airport_data_frame = pandas.read_csv(flight_data_directory + 'airports.csv')\n",
    "flight_data_frame = dask_data_frame.read_csv(flight_data_directory + 'flights.csv', assume_missing=True)\n",
    "#flight_data_frame = pandas.read_csv(flight_data_directory + 'flights.csv')"
   ]
  },
  {
   "cell_type": "code",
   "execution_count": 187,
   "metadata": {
    "scrolled": false
   },
   "outputs": [
    {
     "data": {
      "text/html": [
       "<div>\n",
       "<style>\n",
       "    .dataframe thead tr:only-child th {\n",
       "        text-align: right;\n",
       "    }\n",
       "\n",
       "    .dataframe thead th {\n",
       "        text-align: left;\n",
       "    }\n",
       "\n",
       "    .dataframe tbody tr th {\n",
       "        vertical-align: top;\n",
       "    }\n",
       "</style>\n",
       "<table border=\"1\" class=\"dataframe\">\n",
       "  <thead>\n",
       "    <tr style=\"text-align: right;\">\n",
       "      <th></th>\n",
       "      <th>IATA_CODE</th>\n",
       "      <th>AIRLINE</th>\n",
       "    </tr>\n",
       "  </thead>\n",
       "  <tbody>\n",
       "    <tr>\n",
       "      <th>0</th>\n",
       "      <td>UA</td>\n",
       "      <td>United Air Lines Inc.</td>\n",
       "    </tr>\n",
       "    <tr>\n",
       "      <th>1</th>\n",
       "      <td>AA</td>\n",
       "      <td>American Airlines Inc.</td>\n",
       "    </tr>\n",
       "    <tr>\n",
       "      <th>2</th>\n",
       "      <td>US</td>\n",
       "      <td>US Airways Inc.</td>\n",
       "    </tr>\n",
       "    <tr>\n",
       "      <th>3</th>\n",
       "      <td>F9</td>\n",
       "      <td>Frontier Airlines Inc.</td>\n",
       "    </tr>\n",
       "    <tr>\n",
       "      <th>4</th>\n",
       "      <td>B6</td>\n",
       "      <td>JetBlue Airways</td>\n",
       "    </tr>\n",
       "    <tr>\n",
       "      <th>5</th>\n",
       "      <td>OO</td>\n",
       "      <td>Skywest Airlines Inc.</td>\n",
       "    </tr>\n",
       "    <tr>\n",
       "      <th>6</th>\n",
       "      <td>AS</td>\n",
       "      <td>Alaska Airlines Inc.</td>\n",
       "    </tr>\n",
       "    <tr>\n",
       "      <th>7</th>\n",
       "      <td>NK</td>\n",
       "      <td>Spirit Air Lines</td>\n",
       "    </tr>\n",
       "    <tr>\n",
       "      <th>8</th>\n",
       "      <td>WN</td>\n",
       "      <td>Southwest Airlines Co.</td>\n",
       "    </tr>\n",
       "    <tr>\n",
       "      <th>9</th>\n",
       "      <td>DL</td>\n",
       "      <td>Delta Air Lines Inc.</td>\n",
       "    </tr>\n",
       "    <tr>\n",
       "      <th>10</th>\n",
       "      <td>EV</td>\n",
       "      <td>Atlantic Southeast Airlines</td>\n",
       "    </tr>\n",
       "    <tr>\n",
       "      <th>11</th>\n",
       "      <td>HA</td>\n",
       "      <td>Hawaiian Airlines Inc.</td>\n",
       "    </tr>\n",
       "    <tr>\n",
       "      <th>12</th>\n",
       "      <td>MQ</td>\n",
       "      <td>American Eagle Airlines Inc.</td>\n",
       "    </tr>\n",
       "    <tr>\n",
       "      <th>13</th>\n",
       "      <td>VX</td>\n",
       "      <td>Virgin America</td>\n",
       "    </tr>\n",
       "  </tbody>\n",
       "</table>\n",
       "</div>"
      ],
      "text/plain": [
       "   IATA_CODE                       AIRLINE\n",
       "0         UA         United Air Lines Inc.\n",
       "1         AA        American Airlines Inc.\n",
       "2         US               US Airways Inc.\n",
       "3         F9        Frontier Airlines Inc.\n",
       "4         B6               JetBlue Airways\n",
       "5         OO         Skywest Airlines Inc.\n",
       "6         AS          Alaska Airlines Inc.\n",
       "7         NK              Spirit Air Lines\n",
       "8         WN        Southwest Airlines Co.\n",
       "9         DL          Delta Air Lines Inc.\n",
       "10        EV   Atlantic Southeast Airlines\n",
       "11        HA        Hawaiian Airlines Inc.\n",
       "12        MQ  American Eagle Airlines Inc.\n",
       "13        VX                Virgin America"
      ]
     },
     "execution_count": 187,
     "metadata": {},
     "output_type": "execute_result"
    }
   ],
   "source": [
    "#airlines\n",
    "airline_data_frame"
   ]
  },
  {
   "cell_type": "code",
   "execution_count": 188,
   "metadata": {},
   "outputs": [
    {
     "data": {
      "text/html": [
       "<div>\n",
       "<style>\n",
       "    .dataframe thead tr:only-child th {\n",
       "        text-align: right;\n",
       "    }\n",
       "\n",
       "    .dataframe thead th {\n",
       "        text-align: left;\n",
       "    }\n",
       "\n",
       "    .dataframe tbody tr th {\n",
       "        vertical-align: top;\n",
       "    }\n",
       "</style>\n",
       "<table border=\"1\" class=\"dataframe\">\n",
       "  <thead>\n",
       "    <tr style=\"text-align: right;\">\n",
       "      <th></th>\n",
       "      <th>IATA_CODE</th>\n",
       "      <th>AIRPORT</th>\n",
       "      <th>CITY</th>\n",
       "      <th>STATE</th>\n",
       "      <th>COUNTRY</th>\n",
       "      <th>LATITUDE</th>\n",
       "      <th>LONGITUDE</th>\n",
       "    </tr>\n",
       "  </thead>\n",
       "  <tbody>\n",
       "    <tr>\n",
       "      <th>0</th>\n",
       "      <td>ABE</td>\n",
       "      <td>Lehigh Valley International Airport</td>\n",
       "      <td>Allentown</td>\n",
       "      <td>PA</td>\n",
       "      <td>USA</td>\n",
       "      <td>40.65</td>\n",
       "      <td>-75.44</td>\n",
       "    </tr>\n",
       "    <tr>\n",
       "      <th>1</th>\n",
       "      <td>ABI</td>\n",
       "      <td>Abilene Regional Airport</td>\n",
       "      <td>Abilene</td>\n",
       "      <td>TX</td>\n",
       "      <td>USA</td>\n",
       "      <td>32.41</td>\n",
       "      <td>-99.68</td>\n",
       "    </tr>\n",
       "    <tr>\n",
       "      <th>2</th>\n",
       "      <td>ABQ</td>\n",
       "      <td>Albuquerque International Sunport</td>\n",
       "      <td>Albuquerque</td>\n",
       "      <td>NM</td>\n",
       "      <td>USA</td>\n",
       "      <td>35.04</td>\n",
       "      <td>-106.61</td>\n",
       "    </tr>\n",
       "    <tr>\n",
       "      <th>3</th>\n",
       "      <td>ABR</td>\n",
       "      <td>Aberdeen Regional Airport</td>\n",
       "      <td>Aberdeen</td>\n",
       "      <td>SD</td>\n",
       "      <td>USA</td>\n",
       "      <td>45.45</td>\n",
       "      <td>-98.42</td>\n",
       "    </tr>\n",
       "    <tr>\n",
       "      <th>4</th>\n",
       "      <td>ABY</td>\n",
       "      <td>Southwest Georgia Regional Airport</td>\n",
       "      <td>Albany</td>\n",
       "      <td>GA</td>\n",
       "      <td>USA</td>\n",
       "      <td>31.54</td>\n",
       "      <td>-84.19</td>\n",
       "    </tr>\n",
       "  </tbody>\n",
       "</table>\n",
       "</div>"
      ],
      "text/plain": [
       "  IATA_CODE                              AIRPORT         CITY STATE COUNTRY  \\\n",
       "0       ABE  Lehigh Valley International Airport    Allentown    PA     USA   \n",
       "1       ABI             Abilene Regional Airport      Abilene    TX     USA   \n",
       "2       ABQ    Albuquerque International Sunport  Albuquerque    NM     USA   \n",
       "3       ABR            Aberdeen Regional Airport     Aberdeen    SD     USA   \n",
       "4       ABY   Southwest Georgia Regional Airport       Albany    GA     USA   \n",
       "\n",
       "   LATITUDE  LONGITUDE  \n",
       "0     40.65     -75.44  \n",
       "1     32.41     -99.68  \n",
       "2     35.04    -106.61  \n",
       "3     45.45     -98.42  \n",
       "4     31.54     -84.19  "
      ]
     },
     "execution_count": 188,
     "metadata": {},
     "output_type": "execute_result"
    }
   ],
   "source": [
    "#airports\n",
    "airport_data_frame.head()"
   ]
  },
  {
   "cell_type": "code",
   "execution_count": 189,
   "metadata": {},
   "outputs": [
    {
     "data": {
      "text/plain": [
       "322"
      ]
     },
     "execution_count": 189,
     "metadata": {},
     "output_type": "execute_result"
    }
   ],
   "source": [
    "len(airport_data_frame)"
   ]
  },
  {
   "cell_type": "code",
   "execution_count": 190,
   "metadata": {},
   "outputs": [
    {
     "data": {
      "text/plain": [
       "5819079"
      ]
     },
     "execution_count": 190,
     "metadata": {},
     "output_type": "execute_result"
    }
   ],
   "source": [
    "#sub sample\n",
    "len(flight_data_frame.index.compute())"
   ]
  },
  {
   "cell_type": "code",
   "execution_count": 191,
   "metadata": {},
   "outputs": [
    {
     "data": {
      "text/plain": [
       "1454770"
      ]
     },
     "execution_count": 191,
     "metadata": {},
     "output_type": "execute_result"
    }
   ],
   "source": [
    "sample_flight_data_frame = flight_data_frame.sample(0.25).compute()\n",
    "len(sample_flight_data_frame.index)"
   ]
  },
  {
   "cell_type": "code",
   "execution_count": 192,
   "metadata": {},
   "outputs": [
    {
     "data": {
      "text/html": [
       "<div>\n",
       "<style>\n",
       "    .dataframe thead tr:only-child th {\n",
       "        text-align: right;\n",
       "    }\n",
       "\n",
       "    .dataframe thead th {\n",
       "        text-align: left;\n",
       "    }\n",
       "\n",
       "    .dataframe tbody tr th {\n",
       "        vertical-align: top;\n",
       "    }\n",
       "</style>\n",
       "<table border=\"1\" class=\"dataframe\">\n",
       "  <thead>\n",
       "    <tr style=\"text-align: right;\">\n",
       "      <th></th>\n",
       "      <th>YEAR</th>\n",
       "      <th>MONTH</th>\n",
       "      <th>DAY</th>\n",
       "      <th>DAY_OF_WEEK</th>\n",
       "      <th>AIRLINE</th>\n",
       "      <th>FLIGHT_NUMBER</th>\n",
       "      <th>TAIL_NUMBER</th>\n",
       "      <th>ORIGIN_AIRPORT</th>\n",
       "      <th>DESTINATION_AIRPORT</th>\n",
       "      <th>SCHEDULED_DEPARTURE</th>\n",
       "      <th>DEPARTURE_TIME</th>\n",
       "      <th>DEPARTURE_DELAY</th>\n",
       "      <th>TAXI_OUT</th>\n",
       "      <th>WHEELS_OFF</th>\n",
       "      <th>SCHEDULED_TIME</th>\n",
       "      <th>ELAPSED_TIME</th>\n",
       "      <th>AIR_TIME</th>\n",
       "      <th>DISTANCE</th>\n",
       "      <th>WHEELS_ON</th>\n",
       "      <th>TAXI_IN</th>\n",
       "      <th>SCHEDULED_ARRIVAL</th>\n",
       "      <th>ARRIVAL_TIME</th>\n",
       "      <th>ARRIVAL_DELAY</th>\n",
       "      <th>DIVERTED</th>\n",
       "      <th>CANCELLED</th>\n",
       "      <th>CANCELLATION_REASON</th>\n",
       "      <th>AIR_SYSTEM_DELAY</th>\n",
       "      <th>SECURITY_DELAY</th>\n",
       "      <th>AIRLINE_DELAY</th>\n",
       "      <th>LATE_AIRCRAFT_DELAY</th>\n",
       "      <th>WEATHER_DELAY</th>\n",
       "    </tr>\n",
       "  </thead>\n",
       "  <tbody>\n",
       "    <tr>\n",
       "      <th>5566</th>\n",
       "      <td>2015.00</td>\n",
       "      <td>1.00</td>\n",
       "      <td>1.00</td>\n",
       "      <td>4.00</td>\n",
       "      <td>B6</td>\n",
       "      <td>1026.00</td>\n",
       "      <td>N784JB</td>\n",
       "      <td>TPA</td>\n",
       "      <td>JFK</td>\n",
       "      <td>1223.00</td>\n",
       "      <td>1222.00</td>\n",
       "      <td>-1.00</td>\n",
       "      <td>11.00</td>\n",
       "      <td>1233.00</td>\n",
       "      <td>154.00</td>\n",
       "      <td>155.00</td>\n",
       "      <td>138.00</td>\n",
       "      <td>1005.00</td>\n",
       "      <td>1451.00</td>\n",
       "      <td>6.00</td>\n",
       "      <td>1457.00</td>\n",
       "      <td>1457.00</td>\n",
       "      <td>0.00</td>\n",
       "      <td>0.00</td>\n",
       "      <td>0.00</td>\n",
       "      <td>NaN</td>\n",
       "      <td>nan</td>\n",
       "      <td>nan</td>\n",
       "      <td>nan</td>\n",
       "      <td>nan</td>\n",
       "      <td>nan</td>\n",
       "    </tr>\n",
       "    <tr>\n",
       "      <th>244687</th>\n",
       "      <td>2015.00</td>\n",
       "      <td>1.00</td>\n",
       "      <td>16.00</td>\n",
       "      <td>5.00</td>\n",
       "      <td>DL</td>\n",
       "      <td>443.00</td>\n",
       "      <td>N3733Z</td>\n",
       "      <td>JFK</td>\n",
       "      <td>SEA</td>\n",
       "      <td>1815.00</td>\n",
       "      <td>1815.00</td>\n",
       "      <td>0.00</td>\n",
       "      <td>30.00</td>\n",
       "      <td>1845.00</td>\n",
       "      <td>387.00</td>\n",
       "      <td>390.00</td>\n",
       "      <td>353.00</td>\n",
       "      <td>2422.00</td>\n",
       "      <td>2138.00</td>\n",
       "      <td>7.00</td>\n",
       "      <td>2142.00</td>\n",
       "      <td>2145.00</td>\n",
       "      <td>3.00</td>\n",
       "      <td>0.00</td>\n",
       "      <td>0.00</td>\n",
       "      <td>NaN</td>\n",
       "      <td>nan</td>\n",
       "      <td>nan</td>\n",
       "      <td>nan</td>\n",
       "      <td>nan</td>\n",
       "      <td>nan</td>\n",
       "    </tr>\n",
       "    <tr>\n",
       "      <th>211646</th>\n",
       "      <td>2015.00</td>\n",
       "      <td>1.00</td>\n",
       "      <td>14.00</td>\n",
       "      <td>3.00</td>\n",
       "      <td>F9</td>\n",
       "      <td>141.00</td>\n",
       "      <td>N939FR</td>\n",
       "      <td>DEN</td>\n",
       "      <td>SEA</td>\n",
       "      <td>1712.00</td>\n",
       "      <td>1710.00</td>\n",
       "      <td>-2.00</td>\n",
       "      <td>9.00</td>\n",
       "      <td>1719.00</td>\n",
       "      <td>173.00</td>\n",
       "      <td>158.00</td>\n",
       "      <td>144.00</td>\n",
       "      <td>1024.00</td>\n",
       "      <td>1843.00</td>\n",
       "      <td>5.00</td>\n",
       "      <td>1905.00</td>\n",
       "      <td>1848.00</td>\n",
       "      <td>-17.00</td>\n",
       "      <td>0.00</td>\n",
       "      <td>0.00</td>\n",
       "      <td>NaN</td>\n",
       "      <td>nan</td>\n",
       "      <td>nan</td>\n",
       "      <td>nan</td>\n",
       "      <td>nan</td>\n",
       "      <td>nan</td>\n",
       "    </tr>\n",
       "    <tr>\n",
       "      <th>308739</th>\n",
       "      <td>2015.00</td>\n",
       "      <td>1.00</td>\n",
       "      <td>21.00</td>\n",
       "      <td>3.00</td>\n",
       "      <td>US</td>\n",
       "      <td>1829.00</td>\n",
       "      <td>N552UW</td>\n",
       "      <td>LAS</td>\n",
       "      <td>CLT</td>\n",
       "      <td>935.00</td>\n",
       "      <td>925.00</td>\n",
       "      <td>-10.00</td>\n",
       "      <td>20.00</td>\n",
       "      <td>945.00</td>\n",
       "      <td>250.00</td>\n",
       "      <td>232.00</td>\n",
       "      <td>204.00</td>\n",
       "      <td>1916.00</td>\n",
       "      <td>1609.00</td>\n",
       "      <td>8.00</td>\n",
       "      <td>1645.00</td>\n",
       "      <td>1617.00</td>\n",
       "      <td>-28.00</td>\n",
       "      <td>0.00</td>\n",
       "      <td>0.00</td>\n",
       "      <td>NaN</td>\n",
       "      <td>nan</td>\n",
       "      <td>nan</td>\n",
       "      <td>nan</td>\n",
       "      <td>nan</td>\n",
       "      <td>nan</td>\n",
       "    </tr>\n",
       "    <tr>\n",
       "      <th>537409</th>\n",
       "      <td>2015.00</td>\n",
       "      <td>2.00</td>\n",
       "      <td>5.00</td>\n",
       "      <td>4.00</td>\n",
       "      <td>OO</td>\n",
       "      <td>4462.00</td>\n",
       "      <td>N604SK</td>\n",
       "      <td>ABQ</td>\n",
       "      <td>SLC</td>\n",
       "      <td>1246.00</td>\n",
       "      <td>1248.00</td>\n",
       "      <td>2.00</td>\n",
       "      <td>10.00</td>\n",
       "      <td>1258.00</td>\n",
       "      <td>103.00</td>\n",
       "      <td>91.00</td>\n",
       "      <td>76.00</td>\n",
       "      <td>493.00</td>\n",
       "      <td>1414.00</td>\n",
       "      <td>5.00</td>\n",
       "      <td>1429.00</td>\n",
       "      <td>1419.00</td>\n",
       "      <td>-10.00</td>\n",
       "      <td>0.00</td>\n",
       "      <td>0.00</td>\n",
       "      <td>NaN</td>\n",
       "      <td>nan</td>\n",
       "      <td>nan</td>\n",
       "      <td>nan</td>\n",
       "      <td>nan</td>\n",
       "      <td>nan</td>\n",
       "    </tr>\n",
       "  </tbody>\n",
       "</table>\n",
       "</div>"
      ],
      "text/plain": [
       "          YEAR  MONTH   DAY  DAY_OF_WEEK AIRLINE  FLIGHT_NUMBER TAIL_NUMBER  \\\n",
       "5566   2015.00   1.00  1.00         4.00      B6        1026.00      N784JB   \n",
       "244687 2015.00   1.00 16.00         5.00      DL         443.00      N3733Z   \n",
       "211646 2015.00   1.00 14.00         3.00      F9         141.00      N939FR   \n",
       "308739 2015.00   1.00 21.00         3.00      US        1829.00      N552UW   \n",
       "537409 2015.00   2.00  5.00         4.00      OO        4462.00      N604SK   \n",
       "\n",
       "       ORIGIN_AIRPORT DESTINATION_AIRPORT  SCHEDULED_DEPARTURE  \\\n",
       "5566              TPA                 JFK              1223.00   \n",
       "244687            JFK                 SEA              1815.00   \n",
       "211646            DEN                 SEA              1712.00   \n",
       "308739            LAS                 CLT               935.00   \n",
       "537409            ABQ                 SLC              1246.00   \n",
       "\n",
       "        DEPARTURE_TIME  DEPARTURE_DELAY  TAXI_OUT  WHEELS_OFF  SCHEDULED_TIME  \\\n",
       "5566           1222.00            -1.00     11.00     1233.00          154.00   \n",
       "244687         1815.00             0.00     30.00     1845.00          387.00   \n",
       "211646         1710.00            -2.00      9.00     1719.00          173.00   \n",
       "308739          925.00           -10.00     20.00      945.00          250.00   \n",
       "537409         1248.00             2.00     10.00     1258.00          103.00   \n",
       "\n",
       "        ELAPSED_TIME  AIR_TIME  DISTANCE  WHEELS_ON  TAXI_IN  \\\n",
       "5566          155.00    138.00   1005.00    1451.00     6.00   \n",
       "244687        390.00    353.00   2422.00    2138.00     7.00   \n",
       "211646        158.00    144.00   1024.00    1843.00     5.00   \n",
       "308739        232.00    204.00   1916.00    1609.00     8.00   \n",
       "537409         91.00     76.00    493.00    1414.00     5.00   \n",
       "\n",
       "        SCHEDULED_ARRIVAL  ARRIVAL_TIME  ARRIVAL_DELAY  DIVERTED  CANCELLED  \\\n",
       "5566              1457.00       1457.00           0.00      0.00       0.00   \n",
       "244687            2142.00       2145.00           3.00      0.00       0.00   \n",
       "211646            1905.00       1848.00         -17.00      0.00       0.00   \n",
       "308739            1645.00       1617.00         -28.00      0.00       0.00   \n",
       "537409            1429.00       1419.00         -10.00      0.00       0.00   \n",
       "\n",
       "       CANCELLATION_REASON  AIR_SYSTEM_DELAY  SECURITY_DELAY  AIRLINE_DELAY  \\\n",
       "5566                   NaN               nan             nan            nan   \n",
       "244687                 NaN               nan             nan            nan   \n",
       "211646                 NaN               nan             nan            nan   \n",
       "308739                 NaN               nan             nan            nan   \n",
       "537409                 NaN               nan             nan            nan   \n",
       "\n",
       "        LATE_AIRCRAFT_DELAY  WEATHER_DELAY  \n",
       "5566                    nan            nan  \n",
       "244687                  nan            nan  \n",
       "211646                  nan            nan  \n",
       "308739                  nan            nan  \n",
       "537409                  nan            nan  "
      ]
     },
     "execution_count": 192,
     "metadata": {},
     "output_type": "execute_result"
    }
   ],
   "source": [
    "#flight delays\n",
    "sample_flight_data_frame.head()"
   ]
  },
  {
   "cell_type": "code",
   "execution_count": 193,
   "metadata": {
    "scrolled": false
   },
   "outputs": [
    {
     "data": {
      "text/plain": [
       "YEAR                   float64\n",
       "MONTH                  float64\n",
       "DAY                    float64\n",
       "DAY_OF_WEEK            float64\n",
       "AIRLINE                 object\n",
       "FLIGHT_NUMBER          float64\n",
       "TAIL_NUMBER             object\n",
       "ORIGIN_AIRPORT          object\n",
       "DESTINATION_AIRPORT     object\n",
       "SCHEDULED_DEPARTURE    float64\n",
       "DEPARTURE_TIME         float64\n",
       "DEPARTURE_DELAY        float64\n",
       "TAXI_OUT               float64\n",
       "WHEELS_OFF             float64\n",
       "SCHEDULED_TIME         float64\n",
       "ELAPSED_TIME           float64\n",
       "AIR_TIME               float64\n",
       "DISTANCE               float64\n",
       "WHEELS_ON              float64\n",
       "TAXI_IN                float64\n",
       "SCHEDULED_ARRIVAL      float64\n",
       "ARRIVAL_TIME           float64\n",
       "ARRIVAL_DELAY          float64\n",
       "DIVERTED               float64\n",
       "CANCELLED              float64\n",
       "CANCELLATION_REASON     object\n",
       "AIR_SYSTEM_DELAY       float64\n",
       "SECURITY_DELAY         float64\n",
       "AIRLINE_DELAY          float64\n",
       "LATE_AIRCRAFT_DELAY    float64\n",
       "WEATHER_DELAY          float64\n",
       "dtype: object"
      ]
     },
     "execution_count": 193,
     "metadata": {},
     "output_type": "execute_result"
    }
   ],
   "source": [
    "sample_flight_data_frame.dtypes"
   ]
  },
  {
   "cell_type": "code",
   "execution_count": 194,
   "metadata": {
    "collapsed": true
   },
   "outputs": [],
   "source": [
    "# numeric_columns = flight_data_frame.select_dtypes(include=[numpy.number]).columns.values.tolist()"
   ]
  },
  {
   "cell_type": "code",
   "execution_count": 195,
   "metadata": {
    "collapsed": true
   },
   "outputs": [],
   "source": [
    "# for numeric_column in numeric_columns:\n",
    "#     print(numeric_column + ' ' \\\n",
    "#           + str(flight_data_frame[numeric_column].apply(lambda x: numpy.isnan(x)).sum().compute()))"
   ]
  },
  {
   "cell_type": "code",
   "execution_count": 196,
   "metadata": {},
   "outputs": [
    {
     "data": {
      "text/html": [
       "<div>\n",
       "<style>\n",
       "    .dataframe thead tr:only-child th {\n",
       "        text-align: right;\n",
       "    }\n",
       "\n",
       "    .dataframe thead th {\n",
       "        text-align: left;\n",
       "    }\n",
       "\n",
       "    .dataframe tbody tr th {\n",
       "        vertical-align: top;\n",
       "    }\n",
       "</style>\n",
       "<table border=\"1\" class=\"dataframe\">\n",
       "  <thead>\n",
       "    <tr style=\"text-align: right;\">\n",
       "      <th></th>\n",
       "      <th>YEAR</th>\n",
       "      <th>MONTH</th>\n",
       "      <th>DAY</th>\n",
       "      <th>DAY_OF_WEEK</th>\n",
       "      <th>AIRLINE</th>\n",
       "      <th>ORIGIN_AIRPORT</th>\n",
       "      <th>DESTINATION_AIRPORT</th>\n",
       "      <th>SCHEDULED_DEPARTURE</th>\n",
       "      <th>DEPARTURE_DELAY</th>\n",
       "      <th>SCHEDULED_TIME</th>\n",
       "      <th>AIR_TIME</th>\n",
       "      <th>DISTANCE</th>\n",
       "      <th>SCHEDULED_ARRIVAL</th>\n",
       "      <th>ARRIVAL_DELAY</th>\n",
       "      <th>DIVERTED</th>\n",
       "      <th>CANCELLED</th>\n",
       "      <th>AIR_SYSTEM_DELAY</th>\n",
       "      <th>SECURITY_DELAY</th>\n",
       "      <th>AIRLINE_DELAY</th>\n",
       "      <th>LATE_AIRCRAFT_DELAY</th>\n",
       "      <th>WEATHER_DELAY</th>\n",
       "    </tr>\n",
       "  </thead>\n",
       "  <tbody>\n",
       "    <tr>\n",
       "      <th>5566</th>\n",
       "      <td>2015.00</td>\n",
       "      <td>1.00</td>\n",
       "      <td>1.00</td>\n",
       "      <td>4.00</td>\n",
       "      <td>B6</td>\n",
       "      <td>TPA</td>\n",
       "      <td>JFK</td>\n",
       "      <td>1223.00</td>\n",
       "      <td>-1.00</td>\n",
       "      <td>154.00</td>\n",
       "      <td>138.00</td>\n",
       "      <td>1005.00</td>\n",
       "      <td>1457.00</td>\n",
       "      <td>0.00</td>\n",
       "      <td>0.00</td>\n",
       "      <td>0.00</td>\n",
       "      <td>nan</td>\n",
       "      <td>nan</td>\n",
       "      <td>nan</td>\n",
       "      <td>nan</td>\n",
       "      <td>nan</td>\n",
       "    </tr>\n",
       "    <tr>\n",
       "      <th>244687</th>\n",
       "      <td>2015.00</td>\n",
       "      <td>1.00</td>\n",
       "      <td>16.00</td>\n",
       "      <td>5.00</td>\n",
       "      <td>DL</td>\n",
       "      <td>JFK</td>\n",
       "      <td>SEA</td>\n",
       "      <td>1815.00</td>\n",
       "      <td>0.00</td>\n",
       "      <td>387.00</td>\n",
       "      <td>353.00</td>\n",
       "      <td>2422.00</td>\n",
       "      <td>2142.00</td>\n",
       "      <td>3.00</td>\n",
       "      <td>0.00</td>\n",
       "      <td>0.00</td>\n",
       "      <td>nan</td>\n",
       "      <td>nan</td>\n",
       "      <td>nan</td>\n",
       "      <td>nan</td>\n",
       "      <td>nan</td>\n",
       "    </tr>\n",
       "    <tr>\n",
       "      <th>211646</th>\n",
       "      <td>2015.00</td>\n",
       "      <td>1.00</td>\n",
       "      <td>14.00</td>\n",
       "      <td>3.00</td>\n",
       "      <td>F9</td>\n",
       "      <td>DEN</td>\n",
       "      <td>SEA</td>\n",
       "      <td>1712.00</td>\n",
       "      <td>-2.00</td>\n",
       "      <td>173.00</td>\n",
       "      <td>144.00</td>\n",
       "      <td>1024.00</td>\n",
       "      <td>1905.00</td>\n",
       "      <td>-17.00</td>\n",
       "      <td>0.00</td>\n",
       "      <td>0.00</td>\n",
       "      <td>nan</td>\n",
       "      <td>nan</td>\n",
       "      <td>nan</td>\n",
       "      <td>nan</td>\n",
       "      <td>nan</td>\n",
       "    </tr>\n",
       "    <tr>\n",
       "      <th>308739</th>\n",
       "      <td>2015.00</td>\n",
       "      <td>1.00</td>\n",
       "      <td>21.00</td>\n",
       "      <td>3.00</td>\n",
       "      <td>US</td>\n",
       "      <td>LAS</td>\n",
       "      <td>CLT</td>\n",
       "      <td>935.00</td>\n",
       "      <td>-10.00</td>\n",
       "      <td>250.00</td>\n",
       "      <td>204.00</td>\n",
       "      <td>1916.00</td>\n",
       "      <td>1645.00</td>\n",
       "      <td>-28.00</td>\n",
       "      <td>0.00</td>\n",
       "      <td>0.00</td>\n",
       "      <td>nan</td>\n",
       "      <td>nan</td>\n",
       "      <td>nan</td>\n",
       "      <td>nan</td>\n",
       "      <td>nan</td>\n",
       "    </tr>\n",
       "    <tr>\n",
       "      <th>537409</th>\n",
       "      <td>2015.00</td>\n",
       "      <td>2.00</td>\n",
       "      <td>5.00</td>\n",
       "      <td>4.00</td>\n",
       "      <td>OO</td>\n",
       "      <td>ABQ</td>\n",
       "      <td>SLC</td>\n",
       "      <td>1246.00</td>\n",
       "      <td>2.00</td>\n",
       "      <td>103.00</td>\n",
       "      <td>76.00</td>\n",
       "      <td>493.00</td>\n",
       "      <td>1429.00</td>\n",
       "      <td>-10.00</td>\n",
       "      <td>0.00</td>\n",
       "      <td>0.00</td>\n",
       "      <td>nan</td>\n",
       "      <td>nan</td>\n",
       "      <td>nan</td>\n",
       "      <td>nan</td>\n",
       "      <td>nan</td>\n",
       "    </tr>\n",
       "  </tbody>\n",
       "</table>\n",
       "</div>"
      ],
      "text/plain": [
       "          YEAR  MONTH   DAY  DAY_OF_WEEK AIRLINE ORIGIN_AIRPORT  \\\n",
       "5566   2015.00   1.00  1.00         4.00      B6            TPA   \n",
       "244687 2015.00   1.00 16.00         5.00      DL            JFK   \n",
       "211646 2015.00   1.00 14.00         3.00      F9            DEN   \n",
       "308739 2015.00   1.00 21.00         3.00      US            LAS   \n",
       "537409 2015.00   2.00  5.00         4.00      OO            ABQ   \n",
       "\n",
       "       DESTINATION_AIRPORT  SCHEDULED_DEPARTURE  DEPARTURE_DELAY  \\\n",
       "5566                   JFK              1223.00            -1.00   \n",
       "244687                 SEA              1815.00             0.00   \n",
       "211646                 SEA              1712.00            -2.00   \n",
       "308739                 CLT               935.00           -10.00   \n",
       "537409                 SLC              1246.00             2.00   \n",
       "\n",
       "        SCHEDULED_TIME  AIR_TIME  DISTANCE  SCHEDULED_ARRIVAL  ARRIVAL_DELAY  \\\n",
       "5566            154.00    138.00   1005.00            1457.00           0.00   \n",
       "244687          387.00    353.00   2422.00            2142.00           3.00   \n",
       "211646          173.00    144.00   1024.00            1905.00         -17.00   \n",
       "308739          250.00    204.00   1916.00            1645.00         -28.00   \n",
       "537409          103.00     76.00    493.00            1429.00         -10.00   \n",
       "\n",
       "        DIVERTED  CANCELLED  AIR_SYSTEM_DELAY  SECURITY_DELAY  AIRLINE_DELAY  \\\n",
       "5566        0.00       0.00               nan             nan            nan   \n",
       "244687      0.00       0.00               nan             nan            nan   \n",
       "211646      0.00       0.00               nan             nan            nan   \n",
       "308739      0.00       0.00               nan             nan            nan   \n",
       "537409      0.00       0.00               nan             nan            nan   \n",
       "\n",
       "        LATE_AIRCRAFT_DELAY  WEATHER_DELAY  \n",
       "5566                    nan            nan  \n",
       "244687                  nan            nan  \n",
       "211646                  nan            nan  \n",
       "308739                  nan            nan  \n",
       "537409                  nan            nan  "
      ]
     },
     "execution_count": 196,
     "metadata": {},
     "output_type": "execute_result"
    }
   ],
   "source": [
    "#remove unwanted columns\n",
    "sample_flight_data_frame = sample_flight_data_frame.drop(labels=[\n",
    "    'FLIGHT_NUMBER',\n",
    "    'TAIL_NUMBER',\n",
    "    'DEPARTURE_TIME',    \n",
    "    'TAXI_OUT',\n",
    "    'WHEELS_OFF',\n",
    "    'ELAPSED_TIME',\n",
    "    'WHEELS_ON',\n",
    "    'TAXI_IN',\n",
    "    'ARRIVAL_TIME',\n",
    "    'CANCELLATION_REASON'], axis=1)\n",
    "sample_flight_data_frame.head()"
   ]
  },
  {
   "cell_type": "code",
   "execution_count": 197,
   "metadata": {
    "scrolled": false
   },
   "outputs": [
    {
     "data": {
      "text/plain": [
       "YEAR                  100.00\n",
       "MONTH                 100.00\n",
       "DAY                   100.00\n",
       "DAY_OF_WEEK           100.00\n",
       "AIRLINE               100.00\n",
       "ORIGIN_AIRPORT        100.00\n",
       "DESTINATION_AIRPORT   100.00\n",
       "SCHEDULED_DEPARTURE   100.00\n",
       "DEPARTURE_DELAY        98.51\n",
       "SCHEDULED_TIME        100.00\n",
       "AIR_TIME               98.18\n",
       "DISTANCE              100.00\n",
       "SCHEDULED_ARRIVAL     100.00\n",
       "ARRIVAL_DELAY          98.18\n",
       "DIVERTED              100.00\n",
       "CANCELLED             100.00\n",
       "AIR_SYSTEM_DELAY       18.28\n",
       "SECURITY_DELAY         18.28\n",
       "AIRLINE_DELAY          18.28\n",
       "LATE_AIRCRAFT_DELAY    18.28\n",
       "WEATHER_DELAY          18.28\n",
       "dtype: float64"
      ]
     },
     "execution_count": 197,
     "metadata": {},
     "output_type": "execute_result"
    }
   ],
   "source": [
    "#check empty values\n",
    "def check_nan():\n",
    "    return numpy.divide(sample_flight_data_frame.count() * 100.0 , len(sample_flight_data_frame.index))\n",
    "\n",
    "check_nan()"
   ]
  },
  {
   "cell_type": "code",
   "execution_count": 198,
   "metadata": {},
   "outputs": [
    {
     "data": {
      "text/plain": [
       "YEAR                  100.00\n",
       "MONTH                 100.00\n",
       "DAY                   100.00\n",
       "DAY_OF_WEEK           100.00\n",
       "AIRLINE               100.00\n",
       "ORIGIN_AIRPORT        100.00\n",
       "DESTINATION_AIRPORT   100.00\n",
       "SCHEDULED_DEPARTURE   100.00\n",
       "DEPARTURE_DELAY       100.00\n",
       "SCHEDULED_TIME        100.00\n",
       "AIR_TIME               98.18\n",
       "DISTANCE              100.00\n",
       "SCHEDULED_ARRIVAL     100.00\n",
       "ARRIVAL_DELAY         100.00\n",
       "DIVERTED              100.00\n",
       "CANCELLED             100.00\n",
       "AIR_SYSTEM_DELAY      100.00\n",
       "SECURITY_DELAY        100.00\n",
       "AIRLINE_DELAY         100.00\n",
       "LATE_AIRCRAFT_DELAY   100.00\n",
       "WEATHER_DELAY         100.00\n",
       "dtype: float64"
      ]
     },
     "execution_count": 198,
     "metadata": {},
     "output_type": "execute_result"
    }
   ],
   "source": [
    "#fill empty values\n",
    "sample_flight_data_frame['DEPARTURE_DELAY'].fillna(0.0, inplace=True)\n",
    "sample_flight_data_frame['ARRIVAL_DELAY'].fillna(0.0, inplace=True)\n",
    "sample_flight_data_frame['AIR_SYSTEM_DELAY'].fillna(0.0, inplace=True)\n",
    "sample_flight_data_frame['SECURITY_DELAY'].fillna(0.0, inplace=True)\n",
    "sample_flight_data_frame['AIRLINE_DELAY'].fillna(0.0, inplace=True)\n",
    "sample_flight_data_frame['LATE_AIRCRAFT_DELAY'].fillna(0.0, inplace=True)\n",
    "sample_flight_data_frame['WEATHER_DELAY'].fillna(0.0, inplace=True)\n",
    "check_nan()"
   ]
  },
  {
   "cell_type": "code",
   "execution_count": 199,
   "metadata": {},
   "outputs": [
    {
     "data": {
      "text/plain": [
       "1428342"
      ]
     },
     "execution_count": 199,
     "metadata": {},
     "output_type": "execute_result"
    }
   ],
   "source": [
    "#remove rows if any nan present\n",
    "sample_flight_data_frame.dropna(axis=0, inplace=True)\n",
    "len(sample_flight_data_frame.index)"
   ]
  },
  {
   "cell_type": "code",
   "execution_count": 200,
   "metadata": {},
   "outputs": [
    {
     "data": {
      "text/html": [
       "<div>\n",
       "<style>\n",
       "    .dataframe thead tr:only-child th {\n",
       "        text-align: right;\n",
       "    }\n",
       "\n",
       "    .dataframe thead th {\n",
       "        text-align: left;\n",
       "    }\n",
       "\n",
       "    .dataframe tbody tr th {\n",
       "        vertical-align: top;\n",
       "    }\n",
       "</style>\n",
       "<table border=\"1\" class=\"dataframe\">\n",
       "  <thead>\n",
       "    <tr style=\"text-align: right;\">\n",
       "      <th></th>\n",
       "      <th>DEPARTURE_DELAY</th>\n",
       "      <th>AIR_TIME</th>\n",
       "      <th>DISTANCE</th>\n",
       "      <th>ARRIVAL_DELAY</th>\n",
       "      <th>AIR_SYSTEM_DELAY</th>\n",
       "      <th>SECURITY_DELAY</th>\n",
       "      <th>AIRLINE_DELAY</th>\n",
       "      <th>LATE_AIRCRAFT_DELAY</th>\n",
       "      <th>WEATHER_DELAY</th>\n",
       "    </tr>\n",
       "  </thead>\n",
       "  <tbody>\n",
       "    <tr>\n",
       "      <th>count</th>\n",
       "      <td>1428342.00</td>\n",
       "      <td>1428342.00</td>\n",
       "      <td>1428342.00</td>\n",
       "      <td>1428342.00</td>\n",
       "      <td>1428342.00</td>\n",
       "      <td>1428342.00</td>\n",
       "      <td>1428342.00</td>\n",
       "      <td>1428342.00</td>\n",
       "      <td>1428342.00</td>\n",
       "    </tr>\n",
       "    <tr>\n",
       "      <th>mean</th>\n",
       "      <td>9.32</td>\n",
       "      <td>113.54</td>\n",
       "      <td>824.70</td>\n",
       "      <td>4.44</td>\n",
       "      <td>2.51</td>\n",
       "      <td>0.01</td>\n",
       "      <td>3.55</td>\n",
       "      <td>4.38</td>\n",
       "      <td>0.54</td>\n",
       "    </tr>\n",
       "    <tr>\n",
       "      <th>std</th>\n",
       "      <td>37.20</td>\n",
       "      <td>72.32</td>\n",
       "      <td>609.49</td>\n",
       "      <td>39.57</td>\n",
       "      <td>13.25</td>\n",
       "      <td>0.76</td>\n",
       "      <td>22.46</td>\n",
       "      <td>20.79</td>\n",
       "      <td>8.92</td>\n",
       "    </tr>\n",
       "    <tr>\n",
       "      <th>min</th>\n",
       "      <td>-48.00</td>\n",
       "      <td>7.00</td>\n",
       "      <td>31.00</td>\n",
       "      <td>-82.00</td>\n",
       "      <td>0.00</td>\n",
       "      <td>0.00</td>\n",
       "      <td>0.00</td>\n",
       "      <td>0.00</td>\n",
       "      <td>0.00</td>\n",
       "    </tr>\n",
       "    <tr>\n",
       "      <th>25%</th>\n",
       "      <td>-5.00</td>\n",
       "      <td>60.00</td>\n",
       "      <td>373.00</td>\n",
       "      <td>-13.00</td>\n",
       "      <td>0.00</td>\n",
       "      <td>0.00</td>\n",
       "      <td>0.00</td>\n",
       "      <td>0.00</td>\n",
       "      <td>0.00</td>\n",
       "    </tr>\n",
       "    <tr>\n",
       "      <th>50%</th>\n",
       "      <td>-2.00</td>\n",
       "      <td>94.00</td>\n",
       "      <td>650.00</td>\n",
       "      <td>-5.00</td>\n",
       "      <td>0.00</td>\n",
       "      <td>0.00</td>\n",
       "      <td>0.00</td>\n",
       "      <td>0.00</td>\n",
       "      <td>0.00</td>\n",
       "    </tr>\n",
       "    <tr>\n",
       "      <th>75%</th>\n",
       "      <td>7.00</td>\n",
       "      <td>144.00</td>\n",
       "      <td>1066.00</td>\n",
       "      <td>8.00</td>\n",
       "      <td>0.00</td>\n",
       "      <td>0.00</td>\n",
       "      <td>0.00</td>\n",
       "      <td>0.00</td>\n",
       "      <td>0.00</td>\n",
       "    </tr>\n",
       "    <tr>\n",
       "      <th>max</th>\n",
       "      <td>1649.00</td>\n",
       "      <td>676.00</td>\n",
       "      <td>4983.00</td>\n",
       "      <td>1636.00</td>\n",
       "      <td>1134.00</td>\n",
       "      <td>221.00</td>\n",
       "      <td>1636.00</td>\n",
       "      <td>1256.00</td>\n",
       "      <td>1152.00</td>\n",
       "    </tr>\n",
       "  </tbody>\n",
       "</table>\n",
       "</div>"
      ],
      "text/plain": [
       "       DEPARTURE_DELAY   AIR_TIME   DISTANCE  ARRIVAL_DELAY  AIR_SYSTEM_DELAY  \\\n",
       "count       1428342.00 1428342.00 1428342.00     1428342.00        1428342.00   \n",
       "mean              9.32     113.54     824.70           4.44              2.51   \n",
       "std              37.20      72.32     609.49          39.57             13.25   \n",
       "min             -48.00       7.00      31.00         -82.00              0.00   \n",
       "25%              -5.00      60.00     373.00         -13.00              0.00   \n",
       "50%              -2.00      94.00     650.00          -5.00              0.00   \n",
       "75%               7.00     144.00    1066.00           8.00              0.00   \n",
       "max            1649.00     676.00    4983.00        1636.00           1134.00   \n",
       "\n",
       "       SECURITY_DELAY  AIRLINE_DELAY  LATE_AIRCRAFT_DELAY  WEATHER_DELAY  \n",
       "count      1428342.00     1428342.00           1428342.00     1428342.00  \n",
       "mean             0.01           3.55                 4.38           0.54  \n",
       "std              0.76          22.46                20.79           8.92  \n",
       "min              0.00           0.00                 0.00           0.00  \n",
       "25%              0.00           0.00                 0.00           0.00  \n",
       "50%              0.00           0.00                 0.00           0.00  \n",
       "75%              0.00           0.00                 0.00           0.00  \n",
       "max            221.00        1636.00              1256.00        1152.00  "
      ]
     },
     "execution_count": 200,
     "metadata": {},
     "output_type": "execute_result"
    }
   ],
   "source": [
    "#exploratory analysis\n",
    "interesting_columns = [\n",
    "    'DEPARTURE_DELAY',\n",
    "    'AIR_TIME',\n",
    "    'DISTANCE',\n",
    "    'ARRIVAL_DELAY',\n",
    "    'AIR_SYSTEM_DELAY',\n",
    "    'SECURITY_DELAY',\n",
    "    'AIRLINE_DELAY',\n",
    "    'LATE_AIRCRAFT_DELAY',\n",
    "    'WEATHER_DELAY'\n",
    "]\n",
    "\n",
    "sample_flight_data_frame[interesting_columns].describe()"
   ]
  },
  {
   "cell_type": "code",
   "execution_count": 201,
   "metadata": {},
   "outputs": [
    {
     "data": {
      "text/plain": [
       "<matplotlib.axes._subplots.AxesSubplot at 0x7f6b2cad4e50>"
      ]
     },
     "execution_count": 201,
     "metadata": {},
     "output_type": "execute_result"
    },
    {
     "data": {
      "image/png": "[encoded data removed]",
      "text/plain": [
       "<matplotlib.figure.Figure at 0x7f6b2cadcb10>"
      ]
     },
     "metadata": {},
     "output_type": "display_data"
    }
   ],
   "source": [
    "sample_flight_data_frame['DEPARTURE_DELAY'].hist(bins=100)"
   ]
  },
  {
   "cell_type": "code",
   "execution_count": 202,
   "metadata": {},
   "outputs": [
    {
     "data": {
      "text/plain": [
       "<matplotlib.axes._subplots.AxesSubplot at 0x7f6b2cac75d0>"
      ]
     },
     "execution_count": 202,
     "metadata": {},
     "output_type": "execute_result"
    },
    {
     "data": {
      "image/png": "[encoded data removed]",
      "text/plain": [
       "<matplotlib.figure.Figure at 0x7f6b17ff1190>"
      ]
     },
     "metadata": {},
     "output_type": "display_data"
    }
   ],
   "source": [
    "sample_flight_data_frame['ARRIVAL_DELAY'].hist(bins=100)"
   ]
  },
  {
   "cell_type": "code",
   "execution_count": 203,
   "metadata": {},
   "outputs": [
    {
     "data": {
      "text/plain": [
       "<matplotlib.axes._subplots.AxesSubplot at 0x7f6afce47f10>"
      ]
     },
     "execution_count": 203,
     "metadata": {},
     "output_type": "execute_result"
    },
    {
     "data": {
      "image/png": "[encoded data removed]",
      "text/plain": [
       "<matplotlib.figure.Figure at 0x7f6b17ff11d0>"
      ]
     },
     "metadata": {},
     "output_type": "display_data"
    }
   ],
   "source": [
    "sample_flight_data_frame['DISTANCE'].hist(bins=100)"
   ]
  },
  {
   "cell_type": "code",
   "execution_count": 204,
   "metadata": {},
   "outputs": [
    {
     "data": {
      "text/plain": [
       "<matplotlib.axes._subplots.AxesSubplot at 0x7f6af5358210>"
      ]
     },
     "execution_count": 204,
     "metadata": {},
     "output_type": "execute_result"
    },
    {
     "data": {
      "image/png": "[encoded data removed]",
      "text/plain": [
       "<matplotlib.figure.Figure at 0x7f6b17e593d0>"
      ]
     },
     "metadata": {},
     "output_type": "display_data"
    }
   ],
   "source": [
    "sample_flight_data_frame['AIR_TIME'].hist(bins=100)"
   ]
  },
  {
   "cell_type": "code",
   "execution_count": 205,
   "metadata": {},
   "outputs": [
    {
     "data": {
      "text/plain": [
       "<matplotlib.axes._subplots.AxesSubplot at 0x7f6af66c1d50>"
      ]
     },
     "execution_count": 205,
     "metadata": {},
     "output_type": "execute_result"
    },
    {
     "data": {
      "image/png": "[encoded data removed]",
      "text/plain": [
       "<matplotlib.figure.Figure at 0x7f6b2c2bbd90>"
      ]
     },
     "metadata": {},
     "output_type": "display_data"
    }
   ],
   "source": [
    "#corelation plot\n",
    "pyplot.figure(figsize=(15,7))\n",
    "seaborn.heatmap(sample_flight_data_frame[interesting_columns].corr(), annot=True, linewidths=0.1)"
   ]
  },
  {
   "cell_type": "code",
   "execution_count": 206,
   "metadata": {},
   "outputs": [
    {
     "data": {
      "text/plain": [
       "<matplotlib.axes._subplots.AxesSubplot at 0x7f6b2c648dd0>"
      ]
     },
     "execution_count": 206,
     "metadata": {},
     "output_type": "execute_result"
    },
    {
     "data": {
      "image/png": "[encoded data removed]",
      "text/plain": [
       "<matplotlib.figure.Figure at 0x7f6b2c5e62d0>"
      ]
     },
     "metadata": {},
     "output_type": "display_data"
    }
   ],
   "source": [
    "sample_flight_data_frame.pivot_table(values=['ARRIVAL_DELAY', 'DEPARTURE_DELAY'], index=['AIRLINE'],\\\n",
    "                       aggfunc=numpy.mean).plot(kind='bar')"
   ]
  },
  {
   "cell_type": "code",
   "execution_count": 207,
   "metadata": {},
   "outputs": [
    {
     "data": {
      "text/plain": [
       "<matplotlib.axes._subplots.AxesSubplot at 0x7f6b2c65e250>"
      ]
     },
     "execution_count": 207,
     "metadata": {},
     "output_type": "execute_result"
    },
    {
     "data": {
      "image/png": "[encoded data removed]",
      "text/plain": [
       "<matplotlib.figure.Figure at 0x7f6afccca510>"
      ]
     },
     "metadata": {},
     "output_type": "display_data"
    }
   ],
   "source": [
    "sample_flight_data_frame.pivot_table(values=['ARRIVAL_DELAY', 'DEPARTURE_DELAY'], index=['MONTH'],\\\n",
    "                       aggfunc=numpy.mean).plot(kind='bar')"
   ]
  },
  {
   "cell_type": "code",
   "execution_count": 208,
   "metadata": {},
   "outputs": [
    {
     "data": {
      "text/plain": [
       "<matplotlib.axes._subplots.AxesSubplot at 0x7f6b2c707090>"
      ]
     },
     "execution_count": 208,
     "metadata": {},
     "output_type": "execute_result"
    },
    {
     "data": {
      "image/png": "[encoded data removed]",
      "text/plain": [
       "<matplotlib.figure.Figure at 0x7f6b143237d0>"
      ]
     },
     "metadata": {},
     "output_type": "display_data"
    }
   ],
   "source": [
    "sample_flight_data_frame.pivot_table(values=['ARRIVAL_DELAY', 'DEPARTURE_DELAY'], index=['DAY_OF_WEEK'],\\\n",
    "                       aggfunc=numpy.mean).plot(kind='bar')"
   ]
  },
  {
   "cell_type": "code",
   "execution_count": 209,
   "metadata": {},
   "outputs": [
    {
     "data": {
      "text/plain": [
       "<matplotlib.axes._subplots.AxesSubplot at 0x7f6b2c709690>"
      ]
     },
     "execution_count": 209,
     "metadata": {},
     "output_type": "execute_result"
    },
    {
     "data": {
      "image/png": "[encoded data removed]",
      "text/plain": [
       "<matplotlib.figure.Figure at 0x7f6afcdcc490>"
      ]
     },
     "metadata": {},
     "output_type": "display_data"
    }
   ],
   "source": [
    "axes = pyplot.figure(figsize=(10,4)).gca()\n",
    "sample_flight_data_frame.pivot_table(values=['ARRIVAL_DELAY', 'DEPARTURE_DELAY'], index=['DAY'],\\\n",
    "                       aggfunc=numpy.mean).plot(kind='bar', ax=axes)"
   ]
  },
  {
   "cell_type": "code",
   "execution_count": 210,
   "metadata": {},
   "outputs": [
    {
     "data": {
      "text/plain": [
       "<matplotlib.collections.PathCollection at 0x7f6b2cfe3290>"
      ]
     },
     "execution_count": 210,
     "metadata": {},
     "output_type": "execute_result"
    },
    {
     "data": {
      "image/png": "[encoded data removed]",
      "text/plain": [
       "<matplotlib.figure.Figure at 0x7f6afd009a50>"
      ]
     },
     "metadata": {},
     "output_type": "display_data"
    }
   ],
   "source": [
    "pyplot.scatter(sample_flight_data_frame['DISTANCE'], sample_flight_data_frame['ARRIVAL_DELAY'])"
   ]
  },
  {
   "cell_type": "code",
   "execution_count": 211,
   "metadata": {
    "scrolled": false
   },
   "outputs": [
    {
     "data": {
      "text/html": [
       "<div>\n",
       "<style>\n",
       "    .dataframe thead tr:only-child th {\n",
       "        text-align: right;\n",
       "    }\n",
       "\n",
       "    .dataframe thead th {\n",
       "        text-align: left;\n",
       "    }\n",
       "\n",
       "    .dataframe tbody tr th {\n",
       "        vertical-align: top;\n",
       "    }\n",
       "</style>\n",
       "<table border=\"1\" class=\"dataframe\">\n",
       "  <thead>\n",
       "    <tr style=\"text-align: right;\">\n",
       "      <th></th>\n",
       "      <th>ARRIVAL_DELAY</th>\n",
       "      <th>DEPARTURE_DELAY</th>\n",
       "    </tr>\n",
       "    <tr>\n",
       "      <th>ORIGIN_AIRPORT</th>\n",
       "      <th></th>\n",
       "      <th></th>\n",
       "    </tr>\n",
       "  </thead>\n",
       "  <tbody>\n",
       "    <tr>\n",
       "      <th>10165</th>\n",
       "      <td>39.33</td>\n",
       "      <td>28.00</td>\n",
       "    </tr>\n",
       "    <tr>\n",
       "      <th>10154</th>\n",
       "      <td>31.88</td>\n",
       "      <td>23.75</td>\n",
       "    </tr>\n",
       "    <tr>\n",
       "      <th>10146</th>\n",
       "      <td>15.18</td>\n",
       "      <td>16.12</td>\n",
       "    </tr>\n",
       "    <tr>\n",
       "      <th>10157</th>\n",
       "      <td>10.13</td>\n",
       "      <td>11.58</td>\n",
       "    </tr>\n",
       "    <tr>\n",
       "      <th>10136</th>\n",
       "      <td>8.38</td>\n",
       "      <td>13.70</td>\n",
       "    </tr>\n",
       "    <tr>\n",
       "      <th>10135</th>\n",
       "      <td>4.07</td>\n",
       "      <td>5.43</td>\n",
       "    </tr>\n",
       "    <tr>\n",
       "      <th>10140</th>\n",
       "      <td>0.73</td>\n",
       "      <td>5.37</td>\n",
       "    </tr>\n",
       "    <tr>\n",
       "      <th>10141</th>\n",
       "      <td>-1.94</td>\n",
       "      <td>-2.19</td>\n",
       "    </tr>\n",
       "    <tr>\n",
       "      <th>10158</th>\n",
       "      <td>-6.76</td>\n",
       "      <td>-1.82</td>\n",
       "    </tr>\n",
       "    <tr>\n",
       "      <th>10155</th>\n",
       "      <td>-14.65</td>\n",
       "      <td>-5.32</td>\n",
       "    </tr>\n",
       "  </tbody>\n",
       "</table>\n",
       "</div>"
      ],
      "text/plain": [
       "                ARRIVAL_DELAY  DEPARTURE_DELAY\n",
       "ORIGIN_AIRPORT                                \n",
       "10165                   39.33            28.00\n",
       "10154                   31.88            23.75\n",
       "10146                   15.18            16.12\n",
       "10157                   10.13            11.58\n",
       "10136                    8.38            13.70\n",
       "10135                    4.07             5.43\n",
       "10140                    0.73             5.37\n",
       "10141                   -1.94            -2.19\n",
       "10158                   -6.76            -1.82\n",
       "10155                  -14.65            -5.32"
      ]
     },
     "execution_count": 211,
     "metadata": {},
     "output_type": "execute_result"
    }
   ],
   "source": [
    "sample_flight_data_frame.pivot_table(values=['DEPARTURE_DELAY', 'ARRIVAL_DELAY'], index=['ORIGIN_AIRPORT'],\\\n",
    "                       aggfunc=numpy.mean)[:10].sort_values(by='ARRIVAL_DELAY', ascending=False)"
   ]
  },
  {
   "cell_type": "code",
   "execution_count": 212,
   "metadata": {},
   "outputs": [
    {
     "data": {
      "text/html": [
       "<div>\n",
       "<style>\n",
       "    .dataframe thead tr:only-child th {\n",
       "        text-align: right;\n",
       "    }\n",
       "\n",
       "    .dataframe thead th {\n",
       "        text-align: left;\n",
       "    }\n",
       "\n",
       "    .dataframe tbody tr th {\n",
       "        vertical-align: top;\n",
       "    }\n",
       "</style>\n",
       "<table border=\"1\" class=\"dataframe\">\n",
       "  <thead>\n",
       "    <tr style=\"text-align: right;\">\n",
       "      <th></th>\n",
       "      <th>ARRIVAL_DELAY</th>\n",
       "      <th>DEPARTURE_DELAY</th>\n",
       "    </tr>\n",
       "    <tr>\n",
       "      <th>DESTINATION_AIRPORT</th>\n",
       "      <th></th>\n",
       "      <th></th>\n",
       "    </tr>\n",
       "  </thead>\n",
       "  <tbody>\n",
       "    <tr>\n",
       "      <th>10154</th>\n",
       "      <td>22.57</td>\n",
       "      <td>17.71</td>\n",
       "    </tr>\n",
       "    <tr>\n",
       "      <th>10157</th>\n",
       "      <td>14.15</td>\n",
       "      <td>11.03</td>\n",
       "    </tr>\n",
       "    <tr>\n",
       "      <th>10158</th>\n",
       "      <td>11.63</td>\n",
       "      <td>12.02</td>\n",
       "    </tr>\n",
       "    <tr>\n",
       "      <th>10146</th>\n",
       "      <td>8.22</td>\n",
       "      <td>4.56</td>\n",
       "    </tr>\n",
       "    <tr>\n",
       "      <th>10136</th>\n",
       "      <td>7.25</td>\n",
       "      <td>9.80</td>\n",
       "    </tr>\n",
       "    <tr>\n",
       "      <th>10140</th>\n",
       "      <td>1.22</td>\n",
       "      <td>5.60</td>\n",
       "    </tr>\n",
       "    <tr>\n",
       "      <th>10135</th>\n",
       "      <td>1.00</td>\n",
       "      <td>3.43</td>\n",
       "    </tr>\n",
       "    <tr>\n",
       "      <th>10155</th>\n",
       "      <td>-0.30</td>\n",
       "      <td>-0.27</td>\n",
       "    </tr>\n",
       "    <tr>\n",
       "      <th>10141</th>\n",
       "      <td>-4.80</td>\n",
       "      <td>2.30</td>\n",
       "    </tr>\n",
       "    <tr>\n",
       "      <th>10165</th>\n",
       "      <td>-17.00</td>\n",
       "      <td>-4.00</td>\n",
       "    </tr>\n",
       "  </tbody>\n",
       "</table>\n",
       "</div>"
      ],
      "text/plain": [
       "                     ARRIVAL_DELAY  DEPARTURE_DELAY\n",
       "DESTINATION_AIRPORT                                \n",
       "10154                        22.57            17.71\n",
       "10157                        14.15            11.03\n",
       "10158                        11.63            12.02\n",
       "10146                         8.22             4.56\n",
       "10136                         7.25             9.80\n",
       "10140                         1.22             5.60\n",
       "10135                         1.00             3.43\n",
       "10155                        -0.30            -0.27\n",
       "10141                        -4.80             2.30\n",
       "10165                       -17.00            -4.00"
      ]
     },
     "execution_count": 212,
     "metadata": {},
     "output_type": "execute_result"
    }
   ],
   "source": [
    "sample_flight_data_frame.pivot_table(values=['DEPARTURE_DELAY', 'ARRIVAL_DELAY'], index=['DESTINATION_AIRPORT'],\\\n",
    "                       aggfunc=numpy.mean)[:10].sort_values(by='ARRIVAL_DELAY', ascending=False)"
   ]
  },
  {
   "cell_type": "code",
   "execution_count": 213,
   "metadata": {},
   "outputs": [
    {
     "data": {
      "text/plain": [
       "<matplotlib.collections.PathCollection at 0x7f6afd372390>"
      ]
     },
     "execution_count": 213,
     "metadata": {},
     "output_type": "execute_result"
    },
    {
     "data": {
      "image/png": "[encoded data removed]",
      "text/plain": [
       "<matplotlib.figure.Figure at 0x7f6b2c2c1f10>"
      ]
     },
     "metadata": {},
     "output_type": "display_data"
    }
   ],
   "source": [
    "pyplot.scatter(sample_flight_data_frame['SCHEDULED_DEPARTURE'], sample_flight_data_frame['DEPARTURE_DELAY'])"
   ]
  },
  {
   "cell_type": "code",
   "execution_count": 214,
   "metadata": {},
   "outputs": [
    {
     "data": {
      "text/plain": [
       "<matplotlib.collections.PathCollection at 0x7f6b2c195cd0>"
      ]
     },
     "execution_count": 214,
     "metadata": {},
     "output_type": "execute_result"
    },
    {
     "data": {
      "image/png": "[encoded data removed]",
      "text/plain": [
       "<matplotlib.figure.Figure at 0x7f6afd501350>"
      ]
     },
     "metadata": {},
     "output_type": "display_data"
    }
   ],
   "source": [
    "pyplot.scatter(sample_flight_data_frame['SCHEDULED_ARRIVAL'], sample_flight_data_frame['ARRIVAL_DELAY'])"
   ]
  },
  {
   "cell_type": "code",
   "execution_count": 215,
   "metadata": {},
   "outputs": [
    {
     "data": {
      "text/plain": [
       "<matplotlib.axes._subplots.AxesSubplot at 0x7f6afd372b90>"
      ]
     },
     "execution_count": 215,
     "metadata": {},
     "output_type": "execute_result"
    },
    {
     "data": {
      "image/png": "[encoded data removed]",
      "text/plain": [
       "<matplotlib.figure.Figure at 0x7f6b2c1a42d0>"
      ]
     },
     "metadata": {},
     "output_type": "display_data"
    }
   ],
   "source": [
    "sample_flight_data_frame.pivot_table(values=['WEATHER_DELAY'], index=['MONTH'],\\\n",
    "                       aggfunc=numpy.mean).plot(kind='bar')"
   ]
  },
  {
   "cell_type": "code",
   "execution_count": 216,
   "metadata": {},
   "outputs": [
    {
     "data": {
      "text/html": [
       "<div>\n",
       "<style>\n",
       "    .dataframe thead tr:only-child th {\n",
       "        text-align: right;\n",
       "    }\n",
       "\n",
       "    .dataframe thead th {\n",
       "        text-align: left;\n",
       "    }\n",
       "\n",
       "    .dataframe tbody tr th {\n",
       "        vertical-align: top;\n",
       "    }\n",
       "</style>\n",
       "<table border=\"1\" class=\"dataframe\">\n",
       "  <thead>\n",
       "    <tr style=\"text-align: right;\">\n",
       "      <th></th>\n",
       "      <th>SCHEDULED_DEPARTURE</th>\n",
       "      <th>SCHEDULED_DEPARTURE_CATEGORY</th>\n",
       "    </tr>\n",
       "  </thead>\n",
       "  <tbody>\n",
       "    <tr>\n",
       "      <th>5566</th>\n",
       "      <td>1223.00</td>\n",
       "      <td>(1200, 1300]</td>\n",
       "    </tr>\n",
       "    <tr>\n",
       "      <th>244687</th>\n",
       "      <td>1815.00</td>\n",
       "      <td>(1800, 1900]</td>\n",
       "    </tr>\n",
       "    <tr>\n",
       "      <th>211646</th>\n",
       "      <td>1712.00</td>\n",
       "      <td>(1700, 1800]</td>\n",
       "    </tr>\n",
       "    <tr>\n",
       "      <th>308739</th>\n",
       "      <td>935.00</td>\n",
       "      <td>(900, 1000]</td>\n",
       "    </tr>\n",
       "    <tr>\n",
       "      <th>537409</th>\n",
       "      <td>1246.00</td>\n",
       "      <td>(1200, 1300]</td>\n",
       "    </tr>\n",
       "  </tbody>\n",
       "</table>\n",
       "</div>"
      ],
      "text/plain": [
       "        SCHEDULED_DEPARTURE SCHEDULED_DEPARTURE_CATEGORY\n",
       "5566                1223.00                 (1200, 1300]\n",
       "244687              1815.00                 (1800, 1900]\n",
       "211646              1712.00                 (1700, 1800]\n",
       "308739               935.00                  (900, 1000]\n",
       "537409              1246.00                 (1200, 1300]"
      ]
     },
     "execution_count": 216,
     "metadata": {},
     "output_type": "execute_result"
    }
   ],
   "source": [
    "#prepare data\n",
    "prepared_flight_data_frame = sample_flight_data_frame.copy(deep=True)\n",
    "\n",
    "# bins = [0.0, 600.0, 1200.0, 1800.0, 2100.0, 2400.0]\n",
    "# labels = ['early_morning', 'morning', 'afternoon', 'evening', 'night']\n",
    "\n",
    "bins = range(0, 2500, 100)\n",
    "prepared_flight_data_frame['SCHEDULED_DEPARTURE_CATEGORY'] = pandas.cut(\\\n",
    "        prepared_flight_data_frame['SCHEDULED_DEPARTURE'],\\\n",
    "        bins=bins)\n",
    "prepared_flight_data_frame[['SCHEDULED_DEPARTURE', 'SCHEDULED_DEPARTURE_CATEGORY']].head()"
   ]
  },
  {
   "cell_type": "code",
   "execution_count": 217,
   "metadata": {},
   "outputs": [
    {
     "data": {
      "text/html": [
       "<div>\n",
       "<style>\n",
       "    .dataframe thead tr:only-child th {\n",
       "        text-align: right;\n",
       "    }\n",
       "\n",
       "    .dataframe thead th {\n",
       "        text-align: left;\n",
       "    }\n",
       "\n",
       "    .dataframe tbody tr th {\n",
       "        vertical-align: top;\n",
       "    }\n",
       "</style>\n",
       "<table border=\"1\" class=\"dataframe\">\n",
       "  <thead>\n",
       "    <tr style=\"text-align: right;\">\n",
       "      <th></th>\n",
       "      <th>SCHEDULED_ARRIVAL</th>\n",
       "      <th>SCHEDULED_ARRIVAL_CATEGORY</th>\n",
       "    </tr>\n",
       "  </thead>\n",
       "  <tbody>\n",
       "    <tr>\n",
       "      <th>5566</th>\n",
       "      <td>1457.00</td>\n",
       "      <td>(1400, 1500]</td>\n",
       "    </tr>\n",
       "    <tr>\n",
       "      <th>244687</th>\n",
       "      <td>2142.00</td>\n",
       "      <td>(2100, 2200]</td>\n",
       "    </tr>\n",
       "    <tr>\n",
       "      <th>211646</th>\n",
       "      <td>1905.00</td>\n",
       "      <td>(1900, 2000]</td>\n",
       "    </tr>\n",
       "    <tr>\n",
       "      <th>308739</th>\n",
       "      <td>1645.00</td>\n",
       "      <td>(1600, 1700]</td>\n",
       "    </tr>\n",
       "    <tr>\n",
       "      <th>537409</th>\n",
       "      <td>1429.00</td>\n",
       "      <td>(1400, 1500]</td>\n",
       "    </tr>\n",
       "  </tbody>\n",
       "</table>\n",
       "</div>"
      ],
      "text/plain": [
       "        SCHEDULED_ARRIVAL SCHEDULED_ARRIVAL_CATEGORY\n",
       "5566              1457.00               (1400, 1500]\n",
       "244687            2142.00               (2100, 2200]\n",
       "211646            1905.00               (1900, 2000]\n",
       "308739            1645.00               (1600, 1700]\n",
       "537409            1429.00               (1400, 1500]"
      ]
     },
     "execution_count": 217,
     "metadata": {},
     "output_type": "execute_result"
    }
   ],
   "source": [
    "prepared_flight_data_frame['SCHEDULED_ARRIVAL_CATEGORY'] = pandas.cut(\\\n",
    "        prepared_flight_data_frame['SCHEDULED_ARRIVAL'],\\\n",
    "        bins=bins)\n",
    "prepared_flight_data_frame[['SCHEDULED_ARRIVAL', 'SCHEDULED_ARRIVAL_CATEGORY']].head()"
   ]
  },
  {
   "cell_type": "code",
   "execution_count": 218,
   "metadata": {},
   "outputs": [
    {
     "data": {
      "text/html": [
       "<div>\n",
       "<style>\n",
       "    .dataframe thead tr:only-child th {\n",
       "        text-align: right;\n",
       "    }\n",
       "\n",
       "    .dataframe thead th {\n",
       "        text-align: left;\n",
       "    }\n",
       "\n",
       "    .dataframe tbody tr th {\n",
       "        vertical-align: top;\n",
       "    }\n",
       "</style>\n",
       "<table border=\"1\" class=\"dataframe\">\n",
       "  <thead>\n",
       "    <tr style=\"text-align: right;\">\n",
       "      <th></th>\n",
       "      <th>DISTANCE</th>\n",
       "      <th>DISTANCE_CATEGORY</th>\n",
       "    </tr>\n",
       "  </thead>\n",
       "  <tbody>\n",
       "    <tr>\n",
       "      <th>5566</th>\n",
       "      <td>1005.00</td>\n",
       "      <td>medium</td>\n",
       "    </tr>\n",
       "    <tr>\n",
       "      <th>244687</th>\n",
       "      <td>2422.00</td>\n",
       "      <td>long</td>\n",
       "    </tr>\n",
       "    <tr>\n",
       "      <th>211646</th>\n",
       "      <td>1024.00</td>\n",
       "      <td>medium</td>\n",
       "    </tr>\n",
       "    <tr>\n",
       "      <th>308739</th>\n",
       "      <td>1916.00</td>\n",
       "      <td>medium</td>\n",
       "    </tr>\n",
       "    <tr>\n",
       "      <th>537409</th>\n",
       "      <td>493.00</td>\n",
       "      <td>short</td>\n",
       "    </tr>\n",
       "  </tbody>\n",
       "</table>\n",
       "</div>"
      ],
      "text/plain": [
       "        DISTANCE DISTANCE_CATEGORY\n",
       "5566     1005.00            medium\n",
       "244687   2422.00              long\n",
       "211646   1024.00            medium\n",
       "308739   1916.00            medium\n",
       "537409    493.00             short"
      ]
     },
     "execution_count": 218,
     "metadata": {},
     "output_type": "execute_result"
    }
   ],
   "source": [
    "prepared_flight_data_frame['DISTANCE_CATEGORY'] = pandas.cut(\\\n",
    "        prepared_flight_data_frame['DISTANCE'],\\\n",
    "        bins=[0, 1000, 2000, 3000], labels=['short', 'medium', 'long'])\n",
    "prepared_flight_data_frame[['DISTANCE', 'DISTANCE_CATEGORY']].head()"
   ]
  },
  {
   "cell_type": "code",
   "execution_count": 219,
   "metadata": {},
   "outputs": [
    {
     "data": {
      "text/plain": [
       "array(['YEAR', 'MONTH', 'DAY', 'DAY_OF_WEEK', 'AIRLINE', 'ORIGIN_AIRPORT',\n",
       "       'DESTINATION_AIRPORT', 'SCHEDULED_DEPARTURE', 'DEPARTURE_DELAY',\n",
       "       'SCHEDULED_TIME', 'AIR_TIME', 'DISTANCE', 'SCHEDULED_ARRIVAL',\n",
       "       'ARRIVAL_DELAY', 'DIVERTED', 'CANCELLED', 'AIR_SYSTEM_DELAY',\n",
       "       'SECURITY_DELAY', 'AIRLINE_DELAY', 'LATE_AIRCRAFT_DELAY',\n",
       "       'WEATHER_DELAY', 'SCHEDULED_DEPARTURE_CATEGORY',\n",
       "       'SCHEDULED_ARRIVAL_CATEGORY', 'DISTANCE_CATEGORY'], dtype=object)"
      ]
     },
     "execution_count": 219,
     "metadata": {},
     "output_type": "execute_result"
    }
   ],
   "source": [
    "prepared_flight_data_frame.columns.values"
   ]
  },
  {
   "cell_type": "code",
   "execution_count": 220,
   "metadata": {},
   "outputs": [
    {
     "name": "stdout",
     "output_type": "stream",
     "text": [
      "class_probability 0.0559928924585\n"
     ]
    }
   ],
   "source": [
    "#define problem\n",
    "define_delay = 60.0;\n",
    "\n",
    "def is_delay(value):\n",
    "    if value > define_delay:\n",
    "        return 1\n",
    "    \n",
    "    return 0\n",
    "\n",
    "prepared_flight_data_frame['IS_DELAY'] = prepared_flight_data_frame['ARRIVAL_DELAY'].apply(is_delay)\n",
    "class_probability = prepared_flight_data_frame['IS_DELAY'].mean()\n",
    "print('class_probability ' + str(class_probability))"
   ]
  },
  {
   "cell_type": "code",
   "execution_count": 221,
   "metadata": {},
   "outputs": [
    {
     "data": {
      "text/plain": [
       "1142674"
      ]
     },
     "execution_count": 221,
     "metadata": {},
     "output_type": "execute_result"
    }
   ],
   "source": [
    "#seperate train and test data\n",
    "train_data_frame = prepared_flight_data_frame.sample(frac=0.8)\n",
    "test_data_frame = prepared_flight_data_frame.drop(train_data_frame.index)\n",
    "\n",
    "len(train_data_frame)"
   ]
  },
  {
   "cell_type": "code",
   "execution_count": 222,
   "metadata": {},
   "outputs": [
    {
     "data": {
      "text/plain": [
       "47927"
      ]
     },
     "execution_count": 222,
     "metadata": {},
     "output_type": "execute_result"
    }
   ],
   "source": [
    "len(test_data_frame)"
   ]
  },
  {
   "cell_type": "code",
   "execution_count": 223,
   "metadata": {},
   "outputs": [],
   "source": [
    "#model\n",
    "\n",
    "#naive bayes multi-feature binary classification\n",
    "#https://en.wikipedia.org/wiki/Naive_Bayes_classifier\n",
    "class_probability = train_data_frame['IS_DELAY'].mean()\n",
    "\n",
    "def get_class_probability():\n",
    "    return class_probability\n",
    "\n",
    "def get_features_probability(features, row):\n",
    "    data_frame = train_data_frame\n",
    "    for feature in features:\n",
    "        data_frame = data_frame.loc[(data_frame[feature] == row[feature])]\n",
    "    \n",
    "    return (len(data_frame) * 1.0 / len(train_data_frame))\n",
    "\n",
    "def get_feature_class_probability(feature, row):\n",
    "    return train_data_frame.loc[(train_data_frame[feature] == row[feature])]['IS_DELAY'].mean()\n",
    "\n",
    "def get_sample_probability(features, sample):\n",
    "    product_feature_class_probability = 1.0\n",
    "    \n",
    "    for feature in features:\n",
    "        product_feature_class_probability = product_feature_class_probability \\\n",
    "                * get_feature_class_probability(feature, sample)\n",
    "    \n",
    "    features_probability = get_features_probability(features, sample)\n",
    "    \n",
    "    \n",
    "#     print('product_feature_class_probability ' + str(product_feature_class_probability))\n",
    "#     print('features_probability ' + str(features_probability))\n",
    "    if features_probability > 0.0:\n",
    "        return (get_class_probability() *  product_feature_class_probability)\\\n",
    "                /  features_probability\n",
    "        \n",
    "    return 0.0\n",
    "        \n",
    "        \n",
    "def get_prediction(features, test_data_frame):\n",
    "    probability_prediction = test_data_frame.apply(\\\n",
    "            lambda row: get_sample_probability(features, row), axis=1)\n",
    "#     print('probability_prediction')\n",
    "#     print(probability_prediction)\n",
    "    return probability_prediction.apply(\\\n",
    "            lambda value: 1 if value > (class_probability) else 0).values \n",
    "    "
   ]
  },
  {
   "cell_type": "code",
   "execution_count": 224,
   "metadata": {},
   "outputs": [
    {
     "name": "stdout",
     "output_type": "stream",
     "text": [
      "[0 0 0 0 0 0 0 0 0 0]\n"
     ]
    },
    {
     "data": {
      "text/plain": [
       "array([0, 0, 0, 0, 0, 0, 0, 0, 0, 0])"
      ]
     },
     "execution_count": 224,
     "metadata": {},
     "output_type": "execute_result"
    }
   ],
   "source": [
    "#unit testing\n",
    "test_features = ['MONTH', 'AIRLINE', 'SCHEDULED_DEPARTURE_CATEGORY',\\\n",
    "           'SCHEDULED_ARRIVAL_CATEGORY']\n",
    "test_sample = test_data_frame.sample(n=10)\n",
    "print(get_prediction(test_features,test_sample))\n",
    "test_sample['IS_DELAY'].values"
   ]
  },
  {
   "cell_type": "code",
   "execution_count": 225,
   "metadata": {
    "scrolled": false
   },
   "outputs": [
    {
     "name": "stdout",
     "output_type": "stream",
     "text": [
      "0:sample accuracy 0.9\n",
      "1:sample accuracy 1.0\n",
      "2:sample accuracy 0.9\n",
      "3:sample accuracy 0.9\n",
      "4:sample accuracy 0.9\n",
      "5:sample accuracy 0.9\n",
      "6:sample accuracy 0.9\n",
      "7:sample accuracy 1.0\n",
      "8:sample accuracy 1.0\n",
      "9:sample accuracy 0.9\n",
      "10:sample accuracy 1.0\n",
      "11:sample accuracy 1.0\n",
      "12:sample accuracy 1.0\n",
      "13:sample accuracy 0.9\n",
      "14:sample accuracy 1.0\n",
      "15:sample accuracy 1.0\n",
      "16:sample accuracy 1.0\n",
      "17:sample accuracy 0.9\n",
      "18:sample accuracy 0.9\n",
      "19:sample accuracy 1.0\n",
      "20:sample accuracy 1.0\n",
      "21:sample accuracy 0.9\n",
      "22:sample accuracy 1.0\n",
      "23:sample accuracy 1.0\n",
      "24:sample accuracy 0.9\n",
      "25:sample accuracy 1.0\n",
      "26:sample accuracy 0.9\n",
      "27:sample accuracy 1.0\n",
      "28:sample accuracy 1.0\n",
      "29:sample accuracy 0.9\n",
      "30:sample accuracy 0.9\n",
      "31:sample accuracy 0.8\n",
      "32:sample accuracy 1.0\n",
      "33:sample accuracy 0.9\n",
      "34:sample accuracy 0.9\n",
      "35:sample accuracy 1.0\n",
      "36:sample accuracy 1.0\n",
      "37:sample accuracy 1.0\n",
      "38:sample accuracy 1.0\n",
      "39:sample accuracy 1.0\n",
      "40:sample accuracy 0.8\n",
      "41:sample accuracy 1.0\n",
      "42:sample accuracy 1.0\n",
      "43:sample accuracy 1.0\n",
      "44:sample accuracy 1.0\n",
      "45:sample accuracy 1.0\n",
      "46:sample accuracy 0.9\n",
      "47:sample accuracy 1.0\n",
      "48:sample accuracy 1.0\n",
      "49:sample accuracy 0.8\n",
      "50:sample accuracy 1.0\n",
      "51:sample accuracy 1.0\n",
      "52:sample accuracy 1.0\n",
      "53:sample accuracy 0.8\n",
      "54:sample accuracy 0.8\n",
      "55:sample accuracy 0.8\n",
      "56:sample accuracy 1.0\n",
      "57:sample accuracy 0.8\n",
      "58:sample accuracy 1.0\n",
      "59:sample accuracy 1.0\n",
      "60:sample accuracy 0.9\n",
      "61:sample accuracy 0.9\n",
      "62:sample accuracy 1.0\n",
      "63:sample accuracy 0.9\n",
      "64:sample accuracy 0.8\n",
      "65:sample accuracy 1.0\n",
      "66:sample accuracy 1.0\n",
      "67:sample accuracy 0.9\n",
      "68:sample accuracy 1.0\n",
      "69:sample accuracy 1.0\n",
      "70:sample accuracy 1.0\n",
      "71:sample accuracy 1.0\n",
      "72:sample accuracy 1.0\n",
      "73:sample accuracy 1.0\n",
      "74:sample accuracy 0.8\n",
      "75:sample accuracy 1.0\n",
      "76:sample accuracy 0.9\n",
      "77:sample accuracy 0.9\n",
      "78:sample accuracy 1.0\n",
      "79:sample accuracy 0.8\n",
      "80:sample accuracy 0.9\n",
      "81:sample accuracy 0.8\n",
      "82:sample accuracy 1.0\n",
      "83:sample accuracy 1.0\n",
      "84:sample accuracy 1.0\n",
      "85:sample accuracy 1.0\n",
      "86:sample accuracy 0.9\n",
      "87:sample accuracy 0.9\n",
      "88:sample accuracy 0.9\n",
      "89:sample accuracy 1.0\n",
      "90:sample accuracy 1.0\n",
      "91:sample accuracy 1.0\n",
      "92:sample accuracy 1.0\n",
      "93:sample accuracy 0.9\n",
      "94:sample accuracy 1.0\n",
      "95:sample accuracy 1.0\n",
      "96:sample accuracy 1.0\n",
      "97:sample accuracy 1.0\n",
      "98:sample accuracy 0.9\n",
      "99:sample accuracy 1.0\n"
     ]
    }
   ],
   "source": [
    "#lets predict\n",
    "features = ['MONTH', 'AIRLINE', 'ORIGIN_AIRPORT', \\\n",
    "                 'DESTINATION_AIRPORT','SCHEDULED_DEPARTURE_CATEGORY',\\\n",
    "           'SCHEDULED_ARRIVAL_CATEGORY', 'DISTANCE_CATEGORY']\n",
    "def test_model(test_sample):\n",
    "    prediction = get_prediction(features, test_sample)\n",
    "    output = test_sample['IS_DELAY'].values\n",
    "    return metrics.accuracy_score(prediction, output)\n",
    "\n",
    "sample_accuracies = []\n",
    "for i in range(100):\n",
    "    test_sample = test_data_frame.sample(n=10)\n",
    "    sample_accuracy = test_model(test_sample)\n",
    "    sample_accuracies.append(sample_accuracy)\n",
    "    print(str(i) + ':sample accuracy ' + str(sample_accuracy))                "
   ]
  },
  {
   "cell_type": "code",
   "execution_count": 226,
   "metadata": {},
   "outputs": [
    {
     "data": {
      "image/png": "[encoded data removed]",
      "text/plain": [
       "<matplotlib.figure.Figure at 0x7f6b34535c90>"
      ]
     },
     "metadata": {},
     "output_type": "display_data"
    }
   ],
   "source": [
    "array_output = pyplot.hist(sample_accuracies, bins=10)"
   ]
  },
  {
   "cell_type": "code",
   "execution_count": 227,
   "metadata": {},
   "outputs": [
    {
     "name": "stdout",
     "output_type": "stream",
     "text": [
      "mean accuracy 0.948\n"
     ]
    }
   ],
   "source": [
    "print('mean accuracy ' + str(numpy.mean(sample_accuracies)))"
   ]
  },
  {
   "cell_type": "code",
   "execution_count": 232,
   "metadata": {},
   "outputs": [
    {
     "name": "stdout",
     "output_type": "stream",
     "text": [
      "dummy model accuracy 0.8962\n"
     ]
    }
   ],
   "source": [
    "#verification\n",
    "def dummy_model(test_sample):\n",
    "    prediction = numpy.random.binomial(1, class_probability, len(test_sample))\n",
    "    output = test_sample['IS_DELAY'].values\n",
    "    return metrics.accuracy_score(prediction, output)\n",
    "\n",
    "sample_accuracies = []        \n",
    "for i in range(1000):\n",
    "    test_sample = test_data_frame.sample(n=10)\n",
    "    sample_accuracy = dummy_model(test_sample)\n",
    "    sample_accuracies.append(sample_accuracy)\n",
    "    \n",
    "print('dummy model accuracy ' + str(numpy.mean(sample_accuracies)))"
   ]
  },
  {
   "cell_type": "code",
   "execution_count": null,
   "metadata": {
    "collapsed": true
   },
   "outputs": [],
   "source": []
  }
 ],
 "metadata": {
  "kernelspec": {
   "display_name": "Python 2",
   "language": "python",
   "name": "python2"
  },
  "language_info": {
   "codemirror_mode": {
    "name": "ipython",
    "version": 2
   },
   "file_extension": ".py",
   "mimetype": "text/x-python",
   "name": "python",
   "nbconvert_exporter": "python",
   "pygments_lexer": "ipython2",
   "version": "2.7.14"
  }
 },
 "nbformat": 4,
 "nbformat_minor": 2
}
