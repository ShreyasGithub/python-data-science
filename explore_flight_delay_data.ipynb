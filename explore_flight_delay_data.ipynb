{
 "cells": [
  {
   "cell_type": "code",
   "execution_count": 1,
   "metadata": {
    "collapsed": true
   },
   "outputs": [],
   "source": [
    "import pandas\n",
    "import numpy\n",
    "import dask.dataframe as dask_data_frame\n",
    "\n",
    "import matplotlib\n",
    "from matplotlib import pyplot\n",
    "\n",
    "import seaborn\n",
    "\n",
    "from scipy.stats import mode\n",
    "\n",
    "from sklearn.preprocessing import LabelEncoder\n",
    "from sklearn import preprocessing\n",
    "from sklearn import metrics\n",
    "from sklearn.externals.six import StringIO  \n",
    "\n",
    "%matplotlib inline\n",
    "pandas.options.display.max_columns = 50\n",
    "pandas.set_option('display.float_format', lambda x: '%.2f' % x)"
   ]
  },
  {
   "cell_type": "code",
   "execution_count": 2,
   "metadata": {},
   "outputs": [],
   "source": [
    "#load data\n",
    "flight_data_directory = 'data/flight_delay/'\n",
    "airline_data_frame = pandas.read_csv(flight_data_directory + 'airlines.csv')\n",
    "airport_data_frame = pandas.read_csv(flight_data_directory + 'airports.csv')\n",
    "flight_data_frame = dask_data_frame.read_csv(flight_data_directory + 'flights.csv', assume_missing=True)\n",
    "#flight_data_frame = pandas.read_csv(flight_data_directory + 'flights.csv')"
   ]
  },
  {
   "cell_type": "code",
   "execution_count": 3,
   "metadata": {
    "scrolled": false
   },
   "outputs": [
    {
     "data": {
      "text/html": [
       "<div>\n",
       "<style>\n",
       "    .dataframe thead tr:only-child th {\n",
       "        text-align: right;\n",
       "    }\n",
       "\n",
       "    .dataframe thead th {\n",
       "        text-align: left;\n",
       "    }\n",
       "\n",
       "    .dataframe tbody tr th {\n",
       "        vertical-align: top;\n",
       "    }\n",
       "</style>\n",
       "<table border=\"1\" class=\"dataframe\">\n",
       "  <thead>\n",
       "    <tr style=\"text-align: right;\">\n",
       "      <th></th>\n",
       "      <th>IATA_CODE</th>\n",
       "      <th>AIRLINE</th>\n",
       "    </tr>\n",
       "  </thead>\n",
       "  <tbody>\n",
       "    <tr>\n",
       "      <th>0</th>\n",
       "      <td>UA</td>\n",
       "      <td>United Air Lines Inc.</td>\n",
       "    </tr>\n",
       "    <tr>\n",
       "      <th>1</th>\n",
       "      <td>AA</td>\n",
       "      <td>American Airlines Inc.</td>\n",
       "    </tr>\n",
       "    <tr>\n",
       "      <th>2</th>\n",
       "      <td>US</td>\n",
       "      <td>US Airways Inc.</td>\n",
       "    </tr>\n",
       "    <tr>\n",
       "      <th>3</th>\n",
       "      <td>F9</td>\n",
       "      <td>Frontier Airlines Inc.</td>\n",
       "    </tr>\n",
       "    <tr>\n",
       "      <th>4</th>\n",
       "      <td>B6</td>\n",
       "      <td>JetBlue Airways</td>\n",
       "    </tr>\n",
       "    <tr>\n",
       "      <th>5</th>\n",
       "      <td>OO</td>\n",
       "      <td>Skywest Airlines Inc.</td>\n",
       "    </tr>\n",
       "    <tr>\n",
       "      <th>6</th>\n",
       "      <td>AS</td>\n",
       "      <td>Alaska Airlines Inc.</td>\n",
       "    </tr>\n",
       "    <tr>\n",
       "      <th>7</th>\n",
       "      <td>NK</td>\n",
       "      <td>Spirit Air Lines</td>\n",
       "    </tr>\n",
       "    <tr>\n",
       "      <th>8</th>\n",
       "      <td>WN</td>\n",
       "      <td>Southwest Airlines Co.</td>\n",
       "    </tr>\n",
       "    <tr>\n",
       "      <th>9</th>\n",
       "      <td>DL</td>\n",
       "      <td>Delta Air Lines Inc.</td>\n",
       "    </tr>\n",
       "    <tr>\n",
       "      <th>10</th>\n",
       "      <td>EV</td>\n",
       "      <td>Atlantic Southeast Airlines</td>\n",
       "    </tr>\n",
       "    <tr>\n",
       "      <th>11</th>\n",
       "      <td>HA</td>\n",
       "      <td>Hawaiian Airlines Inc.</td>\n",
       "    </tr>\n",
       "    <tr>\n",
       "      <th>12</th>\n",
       "      <td>MQ</td>\n",
       "      <td>American Eagle Airlines Inc.</td>\n",
       "    </tr>\n",
       "    <tr>\n",
       "      <th>13</th>\n",
       "      <td>VX</td>\n",
       "      <td>Virgin America</td>\n",
       "    </tr>\n",
       "  </tbody>\n",
       "</table>\n",
       "</div>"
      ],
      "text/plain": [
       "   IATA_CODE                       AIRLINE\n",
       "0         UA         United Air Lines Inc.\n",
       "1         AA        American Airlines Inc.\n",
       "2         US               US Airways Inc.\n",
       "3         F9        Frontier Airlines Inc.\n",
       "4         B6               JetBlue Airways\n",
       "5         OO         Skywest Airlines Inc.\n",
       "6         AS          Alaska Airlines Inc.\n",
       "7         NK              Spirit Air Lines\n",
       "8         WN        Southwest Airlines Co.\n",
       "9         DL          Delta Air Lines Inc.\n",
       "10        EV   Atlantic Southeast Airlines\n",
       "11        HA        Hawaiian Airlines Inc.\n",
       "12        MQ  American Eagle Airlines Inc.\n",
       "13        VX                Virgin America"
      ]
     },
     "execution_count": 3,
     "metadata": {},
     "output_type": "execute_result"
    }
   ],
   "source": [
    "#airlines\n",
    "airline_data_frame"
   ]
  },
  {
   "cell_type": "code",
   "execution_count": 4,
   "metadata": {},
   "outputs": [
    {
     "data": {
      "text/html": [
       "<div>\n",
       "<style>\n",
       "    .dataframe thead tr:only-child th {\n",
       "        text-align: right;\n",
       "    }\n",
       "\n",
       "    .dataframe thead th {\n",
       "        text-align: left;\n",
       "    }\n",
       "\n",
       "    .dataframe tbody tr th {\n",
       "        vertical-align: top;\n",
       "    }\n",
       "</style>\n",
       "<table border=\"1\" class=\"dataframe\">\n",
       "  <thead>\n",
       "    <tr style=\"text-align: right;\">\n",
       "      <th></th>\n",
       "      <th>IATA_CODE</th>\n",
       "      <th>AIRPORT</th>\n",
       "      <th>CITY</th>\n",
       "      <th>STATE</th>\n",
       "      <th>COUNTRY</th>\n",
       "      <th>LATITUDE</th>\n",
       "      <th>LONGITUDE</th>\n",
       "    </tr>\n",
       "  </thead>\n",
       "  <tbody>\n",
       "    <tr>\n",
       "      <th>0</th>\n",
       "      <td>ABE</td>\n",
       "      <td>Lehigh Valley International Airport</td>\n",
       "      <td>Allentown</td>\n",
       "      <td>PA</td>\n",
       "      <td>USA</td>\n",
       "      <td>40.65</td>\n",
       "      <td>-75.44</td>\n",
       "    </tr>\n",
       "    <tr>\n",
       "      <th>1</th>\n",
       "      <td>ABI</td>\n",
       "      <td>Abilene Regional Airport</td>\n",
       "      <td>Abilene</td>\n",
       "      <td>TX</td>\n",
       "      <td>USA</td>\n",
       "      <td>32.41</td>\n",
       "      <td>-99.68</td>\n",
       "    </tr>\n",
       "    <tr>\n",
       "      <th>2</th>\n",
       "      <td>ABQ</td>\n",
       "      <td>Albuquerque International Sunport</td>\n",
       "      <td>Albuquerque</td>\n",
       "      <td>NM</td>\n",
       "      <td>USA</td>\n",
       "      <td>35.04</td>\n",
       "      <td>-106.61</td>\n",
       "    </tr>\n",
       "    <tr>\n",
       "      <th>3</th>\n",
       "      <td>ABR</td>\n",
       "      <td>Aberdeen Regional Airport</td>\n",
       "      <td>Aberdeen</td>\n",
       "      <td>SD</td>\n",
       "      <td>USA</td>\n",
       "      <td>45.45</td>\n",
       "      <td>-98.42</td>\n",
       "    </tr>\n",
       "    <tr>\n",
       "      <th>4</th>\n",
       "      <td>ABY</td>\n",
       "      <td>Southwest Georgia Regional Airport</td>\n",
       "      <td>Albany</td>\n",
       "      <td>GA</td>\n",
       "      <td>USA</td>\n",
       "      <td>31.54</td>\n",
       "      <td>-84.19</td>\n",
       "    </tr>\n",
       "  </tbody>\n",
       "</table>\n",
       "</div>"
      ],
      "text/plain": [
       "  IATA_CODE                              AIRPORT         CITY STATE COUNTRY  \\\n",
       "0       ABE  Lehigh Valley International Airport    Allentown    PA     USA   \n",
       "1       ABI             Abilene Regional Airport      Abilene    TX     USA   \n",
       "2       ABQ    Albuquerque International Sunport  Albuquerque    NM     USA   \n",
       "3       ABR            Aberdeen Regional Airport     Aberdeen    SD     USA   \n",
       "4       ABY   Southwest Georgia Regional Airport       Albany    GA     USA   \n",
       "\n",
       "   LATITUDE  LONGITUDE  \n",
       "0     40.65     -75.44  \n",
       "1     32.41     -99.68  \n",
       "2     35.04    -106.61  \n",
       "3     45.45     -98.42  \n",
       "4     31.54     -84.19  "
      ]
     },
     "execution_count": 4,
     "metadata": {},
     "output_type": "execute_result"
    }
   ],
   "source": [
    "#airports\n",
    "airport_data_frame.head()"
   ]
  },
  {
   "cell_type": "code",
   "execution_count": 5,
   "metadata": {},
   "outputs": [
    {
     "data": {
      "text/plain": [
       "322"
      ]
     },
     "execution_count": 5,
     "metadata": {},
     "output_type": "execute_result"
    }
   ],
   "source": [
    "len(airport_data_frame)"
   ]
  },
  {
   "cell_type": "code",
   "execution_count": 6,
   "metadata": {},
   "outputs": [
    {
     "name": "stderr",
     "output_type": "stream",
     "text": [
      "/home/shreyas/miniconda2/envs/python_practice/lib/python2.7/multiprocessing/pool.py:113: DtypeWarning: Columns (7,8) have mixed types. Specify dtype option on import or set low_memory=False.\n",
      "  result = (True, func(*args, **kwds))\n"
     ]
    },
    {
     "data": {
      "text/plain": [
       "5819079"
      ]
     },
     "execution_count": 6,
     "metadata": {},
     "output_type": "execute_result"
    }
   ],
   "source": [
    "#sub sample\n",
    "len(flight_data_frame.index.compute())"
   ]
  },
  {
   "cell_type": "code",
   "execution_count": 7,
   "metadata": {},
   "outputs": [
    {
     "data": {
      "text/plain": [
       "1454770"
      ]
     },
     "execution_count": 7,
     "metadata": {},
     "output_type": "execute_result"
    }
   ],
   "source": [
    "sample_flight_data_frame = flight_data_frame.sample(0.25).compute()\n",
    "len(sample_flight_data_frame.index)"
   ]
  },
  {
   "cell_type": "code",
   "execution_count": 8,
   "metadata": {},
   "outputs": [
    {
     "data": {
      "text/html": [
       "<div>\n",
       "<style>\n",
       "    .dataframe thead tr:only-child th {\n",
       "        text-align: right;\n",
       "    }\n",
       "\n",
       "    .dataframe thead th {\n",
       "        text-align: left;\n",
       "    }\n",
       "\n",
       "    .dataframe tbody tr th {\n",
       "        vertical-align: top;\n",
       "    }\n",
       "</style>\n",
       "<table border=\"1\" class=\"dataframe\">\n",
       "  <thead>\n",
       "    <tr style=\"text-align: right;\">\n",
       "      <th></th>\n",
       "      <th>YEAR</th>\n",
       "      <th>MONTH</th>\n",
       "      <th>DAY</th>\n",
       "      <th>DAY_OF_WEEK</th>\n",
       "      <th>AIRLINE</th>\n",
       "      <th>FLIGHT_NUMBER</th>\n",
       "      <th>TAIL_NUMBER</th>\n",
       "      <th>ORIGIN_AIRPORT</th>\n",
       "      <th>DESTINATION_AIRPORT</th>\n",
       "      <th>SCHEDULED_DEPARTURE</th>\n",
       "      <th>DEPARTURE_TIME</th>\n",
       "      <th>DEPARTURE_DELAY</th>\n",
       "      <th>TAXI_OUT</th>\n",
       "      <th>WHEELS_OFF</th>\n",
       "      <th>SCHEDULED_TIME</th>\n",
       "      <th>ELAPSED_TIME</th>\n",
       "      <th>AIR_TIME</th>\n",
       "      <th>DISTANCE</th>\n",
       "      <th>WHEELS_ON</th>\n",
       "      <th>TAXI_IN</th>\n",
       "      <th>SCHEDULED_ARRIVAL</th>\n",
       "      <th>ARRIVAL_TIME</th>\n",
       "      <th>ARRIVAL_DELAY</th>\n",
       "      <th>DIVERTED</th>\n",
       "      <th>CANCELLED</th>\n",
       "      <th>CANCELLATION_REASON</th>\n",
       "      <th>AIR_SYSTEM_DELAY</th>\n",
       "      <th>SECURITY_DELAY</th>\n",
       "      <th>AIRLINE_DELAY</th>\n",
       "      <th>LATE_AIRCRAFT_DELAY</th>\n",
       "      <th>WEATHER_DELAY</th>\n",
       "    </tr>\n",
       "  </thead>\n",
       "  <tbody>\n",
       "    <tr>\n",
       "      <th>326476</th>\n",
       "      <td>2015.00</td>\n",
       "      <td>1.00</td>\n",
       "      <td>22.00</td>\n",
       "      <td>4.00</td>\n",
       "      <td>DL</td>\n",
       "      <td>2501.00</td>\n",
       "      <td>N322NB</td>\n",
       "      <td>MSP</td>\n",
       "      <td>GEG</td>\n",
       "      <td>1135.00</td>\n",
       "      <td>1326.00</td>\n",
       "      <td>111.00</td>\n",
       "      <td>10.00</td>\n",
       "      <td>1336.00</td>\n",
       "      <td>190.00</td>\n",
       "      <td>163.00</td>\n",
       "      <td>150.00</td>\n",
       "      <td>1175.00</td>\n",
       "      <td>1406.00</td>\n",
       "      <td>3.00</td>\n",
       "      <td>1245.00</td>\n",
       "      <td>1409.00</td>\n",
       "      <td>84.00</td>\n",
       "      <td>0.00</td>\n",
       "      <td>0.00</td>\n",
       "      <td>NaN</td>\n",
       "      <td>0.00</td>\n",
       "      <td>0.00</td>\n",
       "      <td>84.00</td>\n",
       "      <td>0.00</td>\n",
       "      <td>0.00</td>\n",
       "    </tr>\n",
       "    <tr>\n",
       "      <th>99205</th>\n",
       "      <td>2015.00</td>\n",
       "      <td>1.00</td>\n",
       "      <td>7.00</td>\n",
       "      <td>3.00</td>\n",
       "      <td>MQ</td>\n",
       "      <td>3657.00</td>\n",
       "      <td>N640MQ</td>\n",
       "      <td>DFW</td>\n",
       "      <td>ROW</td>\n",
       "      <td>1015.00</td>\n",
       "      <td>1013.00</td>\n",
       "      <td>-2.00</td>\n",
       "      <td>15.00</td>\n",
       "      <td>1028.00</td>\n",
       "      <td>94.00</td>\n",
       "      <td>90.00</td>\n",
       "      <td>69.00</td>\n",
       "      <td>435.00</td>\n",
       "      <td>1037.00</td>\n",
       "      <td>6.00</td>\n",
       "      <td>1049.00</td>\n",
       "      <td>1043.00</td>\n",
       "      <td>-6.00</td>\n",
       "      <td>0.00</td>\n",
       "      <td>0.00</td>\n",
       "      <td>NaN</td>\n",
       "      <td>nan</td>\n",
       "      <td>nan</td>\n",
       "      <td>nan</td>\n",
       "      <td>nan</td>\n",
       "      <td>nan</td>\n",
       "    </tr>\n",
       "    <tr>\n",
       "      <th>147912</th>\n",
       "      <td>2015.00</td>\n",
       "      <td>1.00</td>\n",
       "      <td>10.00</td>\n",
       "      <td>6.00</td>\n",
       "      <td>WN</td>\n",
       "      <td>3339.00</td>\n",
       "      <td>N908WN</td>\n",
       "      <td>LAS</td>\n",
       "      <td>BUR</td>\n",
       "      <td>1235.00</td>\n",
       "      <td>1239.00</td>\n",
       "      <td>4.00</td>\n",
       "      <td>12.00</td>\n",
       "      <td>1251.00</td>\n",
       "      <td>65.00</td>\n",
       "      <td>62.00</td>\n",
       "      <td>47.00</td>\n",
       "      <td>223.00</td>\n",
       "      <td>1338.00</td>\n",
       "      <td>3.00</td>\n",
       "      <td>1340.00</td>\n",
       "      <td>1341.00</td>\n",
       "      <td>1.00</td>\n",
       "      <td>0.00</td>\n",
       "      <td>0.00</td>\n",
       "      <td>NaN</td>\n",
       "      <td>nan</td>\n",
       "      <td>nan</td>\n",
       "      <td>nan</td>\n",
       "      <td>nan</td>\n",
       "      <td>nan</td>\n",
       "    </tr>\n",
       "    <tr>\n",
       "      <th>10783</th>\n",
       "      <td>2015.00</td>\n",
       "      <td>1.00</td>\n",
       "      <td>1.00</td>\n",
       "      <td>4.00</td>\n",
       "      <td>EV</td>\n",
       "      <td>4173.00</td>\n",
       "      <td>N14153</td>\n",
       "      <td>SLC</td>\n",
       "      <td>DEN</td>\n",
       "      <td>1755.00</td>\n",
       "      <td>nan</td>\n",
       "      <td>nan</td>\n",
       "      <td>nan</td>\n",
       "      <td>nan</td>\n",
       "      <td>89.00</td>\n",
       "      <td>nan</td>\n",
       "      <td>nan</td>\n",
       "      <td>391.00</td>\n",
       "      <td>nan</td>\n",
       "      <td>nan</td>\n",
       "      <td>1924.00</td>\n",
       "      <td>nan</td>\n",
       "      <td>nan</td>\n",
       "      <td>0.00</td>\n",
       "      <td>1.00</td>\n",
       "      <td>C</td>\n",
       "      <td>nan</td>\n",
       "      <td>nan</td>\n",
       "      <td>nan</td>\n",
       "      <td>nan</td>\n",
       "      <td>nan</td>\n",
       "    </tr>\n",
       "    <tr>\n",
       "      <th>556417</th>\n",
       "      <td>2015.00</td>\n",
       "      <td>2.00</td>\n",
       "      <td>6.00</td>\n",
       "      <td>5.00</td>\n",
       "      <td>US</td>\n",
       "      <td>772.00</td>\n",
       "      <td>N286AY</td>\n",
       "      <td>SJU</td>\n",
       "      <td>PHL</td>\n",
       "      <td>1545.00</td>\n",
       "      <td>1738.00</td>\n",
       "      <td>113.00</td>\n",
       "      <td>11.00</td>\n",
       "      <td>1749.00</td>\n",
       "      <td>240.00</td>\n",
       "      <td>221.00</td>\n",
       "      <td>206.00</td>\n",
       "      <td>1576.00</td>\n",
       "      <td>2015.00</td>\n",
       "      <td>4.00</td>\n",
       "      <td>1845.00</td>\n",
       "      <td>2019.00</td>\n",
       "      <td>94.00</td>\n",
       "      <td>0.00</td>\n",
       "      <td>0.00</td>\n",
       "      <td>NaN</td>\n",
       "      <td>0.00</td>\n",
       "      <td>0.00</td>\n",
       "      <td>0.00</td>\n",
       "      <td>94.00</td>\n",
       "      <td>0.00</td>\n",
       "    </tr>\n",
       "  </tbody>\n",
       "</table>\n",
       "</div>"
      ],
      "text/plain": [
       "          YEAR  MONTH   DAY  DAY_OF_WEEK AIRLINE  FLIGHT_NUMBER TAIL_NUMBER  \\\n",
       "326476 2015.00   1.00 22.00         4.00      DL        2501.00      N322NB   \n",
       "99205  2015.00   1.00  7.00         3.00      MQ        3657.00      N640MQ   \n",
       "147912 2015.00   1.00 10.00         6.00      WN        3339.00      N908WN   \n",
       "10783  2015.00   1.00  1.00         4.00      EV        4173.00      N14153   \n",
       "556417 2015.00   2.00  6.00         5.00      US         772.00      N286AY   \n",
       "\n",
       "       ORIGIN_AIRPORT DESTINATION_AIRPORT  SCHEDULED_DEPARTURE  \\\n",
       "326476            MSP                 GEG              1135.00   \n",
       "99205             DFW                 ROW              1015.00   \n",
       "147912            LAS                 BUR              1235.00   \n",
       "10783             SLC                 DEN              1755.00   \n",
       "556417            SJU                 PHL              1545.00   \n",
       "\n",
       "        DEPARTURE_TIME  DEPARTURE_DELAY  TAXI_OUT  WHEELS_OFF  SCHEDULED_TIME  \\\n",
       "326476         1326.00           111.00     10.00     1336.00          190.00   \n",
       "99205          1013.00            -2.00     15.00     1028.00           94.00   \n",
       "147912         1239.00             4.00     12.00     1251.00           65.00   \n",
       "10783              nan              nan       nan         nan           89.00   \n",
       "556417         1738.00           113.00     11.00     1749.00          240.00   \n",
       "\n",
       "        ELAPSED_TIME  AIR_TIME  DISTANCE  WHEELS_ON  TAXI_IN  \\\n",
       "326476        163.00    150.00   1175.00    1406.00     3.00   \n",
       "99205          90.00     69.00    435.00    1037.00     6.00   \n",
       "147912         62.00     47.00    223.00    1338.00     3.00   \n",
       "10783            nan       nan    391.00        nan      nan   \n",
       "556417        221.00    206.00   1576.00    2015.00     4.00   \n",
       "\n",
       "        SCHEDULED_ARRIVAL  ARRIVAL_TIME  ARRIVAL_DELAY  DIVERTED  CANCELLED  \\\n",
       "326476            1245.00       1409.00          84.00      0.00       0.00   \n",
       "99205             1049.00       1043.00          -6.00      0.00       0.00   \n",
       "147912            1340.00       1341.00           1.00      0.00       0.00   \n",
       "10783             1924.00           nan            nan      0.00       1.00   \n",
       "556417            1845.00       2019.00          94.00      0.00       0.00   \n",
       "\n",
       "       CANCELLATION_REASON  AIR_SYSTEM_DELAY  SECURITY_DELAY  AIRLINE_DELAY  \\\n",
       "326476                 NaN              0.00            0.00          84.00   \n",
       "99205                  NaN               nan             nan            nan   \n",
       "147912                 NaN               nan             nan            nan   \n",
       "10783                    C               nan             nan            nan   \n",
       "556417                 NaN              0.00            0.00           0.00   \n",
       "\n",
       "        LATE_AIRCRAFT_DELAY  WEATHER_DELAY  \n",
       "326476                 0.00           0.00  \n",
       "99205                   nan            nan  \n",
       "147912                  nan            nan  \n",
       "10783                   nan            nan  \n",
       "556417                94.00           0.00  "
      ]
     },
     "execution_count": 8,
     "metadata": {},
     "output_type": "execute_result"
    }
   ],
   "source": [
    "#flight delays\n",
    "sample_flight_data_frame.head()"
   ]
  },
  {
   "cell_type": "code",
   "execution_count": 9,
   "metadata": {
    "scrolled": false
   },
   "outputs": [
    {
     "data": {
      "text/plain": [
       "YEAR                   float64\n",
       "MONTH                  float64\n",
       "DAY                    float64\n",
       "DAY_OF_WEEK            float64\n",
       "AIRLINE                 object\n",
       "FLIGHT_NUMBER          float64\n",
       "TAIL_NUMBER             object\n",
       "ORIGIN_AIRPORT          object\n",
       "DESTINATION_AIRPORT     object\n",
       "SCHEDULED_DEPARTURE    float64\n",
       "DEPARTURE_TIME         float64\n",
       "DEPARTURE_DELAY        float64\n",
       "TAXI_OUT               float64\n",
       "WHEELS_OFF             float64\n",
       "SCHEDULED_TIME         float64\n",
       "ELAPSED_TIME           float64\n",
       "AIR_TIME               float64\n",
       "DISTANCE               float64\n",
       "WHEELS_ON              float64\n",
       "TAXI_IN                float64\n",
       "SCHEDULED_ARRIVAL      float64\n",
       "ARRIVAL_TIME           float64\n",
       "ARRIVAL_DELAY          float64\n",
       "DIVERTED               float64\n",
       "CANCELLED              float64\n",
       "CANCELLATION_REASON     object\n",
       "AIR_SYSTEM_DELAY       float64\n",
       "SECURITY_DELAY         float64\n",
       "AIRLINE_DELAY          float64\n",
       "LATE_AIRCRAFT_DELAY    float64\n",
       "WEATHER_DELAY          float64\n",
       "dtype: object"
      ]
     },
     "execution_count": 9,
     "metadata": {},
     "output_type": "execute_result"
    }
   ],
   "source": [
    "sample_flight_data_frame.dtypes"
   ]
  },
  {
   "cell_type": "code",
   "execution_count": 10,
   "metadata": {
    "collapsed": true
   },
   "outputs": [],
   "source": [
    "# numeric_columns = flight_data_frame.select_dtypes(include=[numpy.number]).columns.values.tolist()"
   ]
  },
  {
   "cell_type": "code",
   "execution_count": 11,
   "metadata": {
    "collapsed": true
   },
   "outputs": [],
   "source": [
    "# for numeric_column in numeric_columns:\n",
    "#     print(numeric_column + ' ' \\\n",
    "#           + str(flight_data_frame[numeric_column].apply(lambda x: numpy.isnan(x)).sum().compute()))"
   ]
  },
  {
   "cell_type": "code",
   "execution_count": 12,
   "metadata": {},
   "outputs": [
    {
     "data": {
      "text/html": [
       "<div>\n",
       "<style>\n",
       "    .dataframe thead tr:only-child th {\n",
       "        text-align: right;\n",
       "    }\n",
       "\n",
       "    .dataframe thead th {\n",
       "        text-align: left;\n",
       "    }\n",
       "\n",
       "    .dataframe tbody tr th {\n",
       "        vertical-align: top;\n",
       "    }\n",
       "</style>\n",
       "<table border=\"1\" class=\"dataframe\">\n",
       "  <thead>\n",
       "    <tr style=\"text-align: right;\">\n",
       "      <th></th>\n",
       "      <th>YEAR</th>\n",
       "      <th>MONTH</th>\n",
       "      <th>DAY</th>\n",
       "      <th>DAY_OF_WEEK</th>\n",
       "      <th>AIRLINE</th>\n",
       "      <th>ORIGIN_AIRPORT</th>\n",
       "      <th>DESTINATION_AIRPORT</th>\n",
       "      <th>SCHEDULED_DEPARTURE</th>\n",
       "      <th>DEPARTURE_DELAY</th>\n",
       "      <th>SCHEDULED_TIME</th>\n",
       "      <th>AIR_TIME</th>\n",
       "      <th>DISTANCE</th>\n",
       "      <th>SCHEDULED_ARRIVAL</th>\n",
       "      <th>ARRIVAL_DELAY</th>\n",
       "      <th>DIVERTED</th>\n",
       "      <th>CANCELLED</th>\n",
       "      <th>AIR_SYSTEM_DELAY</th>\n",
       "      <th>SECURITY_DELAY</th>\n",
       "      <th>AIRLINE_DELAY</th>\n",
       "      <th>LATE_AIRCRAFT_DELAY</th>\n",
       "      <th>WEATHER_DELAY</th>\n",
       "    </tr>\n",
       "  </thead>\n",
       "  <tbody>\n",
       "    <tr>\n",
       "      <th>326476</th>\n",
       "      <td>2015.00</td>\n",
       "      <td>1.00</td>\n",
       "      <td>22.00</td>\n",
       "      <td>4.00</td>\n",
       "      <td>DL</td>\n",
       "      <td>MSP</td>\n",
       "      <td>GEG</td>\n",
       "      <td>1135.00</td>\n",
       "      <td>111.00</td>\n",
       "      <td>190.00</td>\n",
       "      <td>150.00</td>\n",
       "      <td>1175.00</td>\n",
       "      <td>1245.00</td>\n",
       "      <td>84.00</td>\n",
       "      <td>0.00</td>\n",
       "      <td>0.00</td>\n",
       "      <td>0.00</td>\n",
       "      <td>0.00</td>\n",
       "      <td>84.00</td>\n",
       "      <td>0.00</td>\n",
       "      <td>0.00</td>\n",
       "    </tr>\n",
       "    <tr>\n",
       "      <th>99205</th>\n",
       "      <td>2015.00</td>\n",
       "      <td>1.00</td>\n",
       "      <td>7.00</td>\n",
       "      <td>3.00</td>\n",
       "      <td>MQ</td>\n",
       "      <td>DFW</td>\n",
       "      <td>ROW</td>\n",
       "      <td>1015.00</td>\n",
       "      <td>-2.00</td>\n",
       "      <td>94.00</td>\n",
       "      <td>69.00</td>\n",
       "      <td>435.00</td>\n",
       "      <td>1049.00</td>\n",
       "      <td>-6.00</td>\n",
       "      <td>0.00</td>\n",
       "      <td>0.00</td>\n",
       "      <td>nan</td>\n",
       "      <td>nan</td>\n",
       "      <td>nan</td>\n",
       "      <td>nan</td>\n",
       "      <td>nan</td>\n",
       "    </tr>\n",
       "    <tr>\n",
       "      <th>147912</th>\n",
       "      <td>2015.00</td>\n",
       "      <td>1.00</td>\n",
       "      <td>10.00</td>\n",
       "      <td>6.00</td>\n",
       "      <td>WN</td>\n",
       "      <td>LAS</td>\n",
       "      <td>BUR</td>\n",
       "      <td>1235.00</td>\n",
       "      <td>4.00</td>\n",
       "      <td>65.00</td>\n",
       "      <td>47.00</td>\n",
       "      <td>223.00</td>\n",
       "      <td>1340.00</td>\n",
       "      <td>1.00</td>\n",
       "      <td>0.00</td>\n",
       "      <td>0.00</td>\n",
       "      <td>nan</td>\n",
       "      <td>nan</td>\n",
       "      <td>nan</td>\n",
       "      <td>nan</td>\n",
       "      <td>nan</td>\n",
       "    </tr>\n",
       "    <tr>\n",
       "      <th>10783</th>\n",
       "      <td>2015.00</td>\n",
       "      <td>1.00</td>\n",
       "      <td>1.00</td>\n",
       "      <td>4.00</td>\n",
       "      <td>EV</td>\n",
       "      <td>SLC</td>\n",
       "      <td>DEN</td>\n",
       "      <td>1755.00</td>\n",
       "      <td>nan</td>\n",
       "      <td>89.00</td>\n",
       "      <td>nan</td>\n",
       "      <td>391.00</td>\n",
       "      <td>1924.00</td>\n",
       "      <td>nan</td>\n",
       "      <td>0.00</td>\n",
       "      <td>1.00</td>\n",
       "      <td>nan</td>\n",
       "      <td>nan</td>\n",
       "      <td>nan</td>\n",
       "      <td>nan</td>\n",
       "      <td>nan</td>\n",
       "    </tr>\n",
       "    <tr>\n",
       "      <th>556417</th>\n",
       "      <td>2015.00</td>\n",
       "      <td>2.00</td>\n",
       "      <td>6.00</td>\n",
       "      <td>5.00</td>\n",
       "      <td>US</td>\n",
       "      <td>SJU</td>\n",
       "      <td>PHL</td>\n",
       "      <td>1545.00</td>\n",
       "      <td>113.00</td>\n",
       "      <td>240.00</td>\n",
       "      <td>206.00</td>\n",
       "      <td>1576.00</td>\n",
       "      <td>1845.00</td>\n",
       "      <td>94.00</td>\n",
       "      <td>0.00</td>\n",
       "      <td>0.00</td>\n",
       "      <td>0.00</td>\n",
       "      <td>0.00</td>\n",
       "      <td>0.00</td>\n",
       "      <td>94.00</td>\n",
       "      <td>0.00</td>\n",
       "    </tr>\n",
       "  </tbody>\n",
       "</table>\n",
       "</div>"
      ],
      "text/plain": [
       "          YEAR  MONTH   DAY  DAY_OF_WEEK AIRLINE ORIGIN_AIRPORT  \\\n",
       "326476 2015.00   1.00 22.00         4.00      DL            MSP   \n",
       "99205  2015.00   1.00  7.00         3.00      MQ            DFW   \n",
       "147912 2015.00   1.00 10.00         6.00      WN            LAS   \n",
       "10783  2015.00   1.00  1.00         4.00      EV            SLC   \n",
       "556417 2015.00   2.00  6.00         5.00      US            SJU   \n",
       "\n",
       "       DESTINATION_AIRPORT  SCHEDULED_DEPARTURE  DEPARTURE_DELAY  \\\n",
       "326476                 GEG              1135.00           111.00   \n",
       "99205                  ROW              1015.00            -2.00   \n",
       "147912                 BUR              1235.00             4.00   \n",
       "10783                  DEN              1755.00              nan   \n",
       "556417                 PHL              1545.00           113.00   \n",
       "\n",
       "        SCHEDULED_TIME  AIR_TIME  DISTANCE  SCHEDULED_ARRIVAL  ARRIVAL_DELAY  \\\n",
       "326476          190.00    150.00   1175.00            1245.00          84.00   \n",
       "99205            94.00     69.00    435.00            1049.00          -6.00   \n",
       "147912           65.00     47.00    223.00            1340.00           1.00   \n",
       "10783            89.00       nan    391.00            1924.00            nan   \n",
       "556417          240.00    206.00   1576.00            1845.00          94.00   \n",
       "\n",
       "        DIVERTED  CANCELLED  AIR_SYSTEM_DELAY  SECURITY_DELAY  AIRLINE_DELAY  \\\n",
       "326476      0.00       0.00              0.00            0.00          84.00   \n",
       "99205       0.00       0.00               nan             nan            nan   \n",
       "147912      0.00       0.00               nan             nan            nan   \n",
       "10783       0.00       1.00               nan             nan            nan   \n",
       "556417      0.00       0.00              0.00            0.00           0.00   \n",
       "\n",
       "        LATE_AIRCRAFT_DELAY  WEATHER_DELAY  \n",
       "326476                 0.00           0.00  \n",
       "99205                   nan            nan  \n",
       "147912                  nan            nan  \n",
       "10783                   nan            nan  \n",
       "556417                94.00           0.00  "
      ]
     },
     "execution_count": 12,
     "metadata": {},
     "output_type": "execute_result"
    }
   ],
   "source": [
    "#remove unwanted columns\n",
    "sample_flight_data_frame = sample_flight_data_frame.drop(labels=[\n",
    "    'FLIGHT_NUMBER',\n",
    "    'TAIL_NUMBER',\n",
    "    'DEPARTURE_TIME',    \n",
    "    'TAXI_OUT',\n",
    "    'WHEELS_OFF',\n",
    "    'ELAPSED_TIME',\n",
    "    'WHEELS_ON',\n",
    "    'TAXI_IN',\n",
    "    'ARRIVAL_TIME',\n",
    "    'CANCELLATION_REASON'], axis=1)\n",
    "sample_flight_data_frame.head()"
   ]
  },
  {
   "cell_type": "code",
   "execution_count": 13,
   "metadata": {
    "scrolled": false
   },
   "outputs": [
    {
     "data": {
      "text/plain": [
       "YEAR                  100.00\n",
       "MONTH                 100.00\n",
       "DAY                   100.00\n",
       "DAY_OF_WEEK           100.00\n",
       "AIRLINE               100.00\n",
       "ORIGIN_AIRPORT        100.00\n",
       "DESTINATION_AIRPORT   100.00\n",
       "SCHEDULED_DEPARTURE   100.00\n",
       "DEPARTURE_DELAY        98.52\n",
       "SCHEDULED_TIME        100.00\n",
       "AIR_TIME               98.19\n",
       "DISTANCE              100.00\n",
       "SCHEDULED_ARRIVAL     100.00\n",
       "ARRIVAL_DELAY          98.19\n",
       "DIVERTED              100.00\n",
       "CANCELLED             100.00\n",
       "AIR_SYSTEM_DELAY       18.27\n",
       "SECURITY_DELAY         18.27\n",
       "AIRLINE_DELAY          18.27\n",
       "LATE_AIRCRAFT_DELAY    18.27\n",
       "WEATHER_DELAY          18.27\n",
       "dtype: float64"
      ]
     },
     "execution_count": 13,
     "metadata": {},
     "output_type": "execute_result"
    }
   ],
   "source": [
    "#check empty values\n",
    "def check_nan():\n",
    "    return numpy.divide(sample_flight_data_frame.count() * 100.0 , len(sample_flight_data_frame.index))\n",
    "\n",
    "check_nan()"
   ]
  },
  {
   "cell_type": "code",
   "execution_count": 14,
   "metadata": {},
   "outputs": [
    {
     "data": {
      "text/plain": [
       "YEAR                  100.00\n",
       "MONTH                 100.00\n",
       "DAY                   100.00\n",
       "DAY_OF_WEEK           100.00\n",
       "AIRLINE               100.00\n",
       "ORIGIN_AIRPORT        100.00\n",
       "DESTINATION_AIRPORT   100.00\n",
       "SCHEDULED_DEPARTURE   100.00\n",
       "DEPARTURE_DELAY       100.00\n",
       "SCHEDULED_TIME        100.00\n",
       "AIR_TIME               98.19\n",
       "DISTANCE              100.00\n",
       "SCHEDULED_ARRIVAL     100.00\n",
       "ARRIVAL_DELAY         100.00\n",
       "DIVERTED              100.00\n",
       "CANCELLED             100.00\n",
       "AIR_SYSTEM_DELAY      100.00\n",
       "SECURITY_DELAY        100.00\n",
       "AIRLINE_DELAY         100.00\n",
       "LATE_AIRCRAFT_DELAY   100.00\n",
       "WEATHER_DELAY         100.00\n",
       "dtype: float64"
      ]
     },
     "execution_count": 14,
     "metadata": {},
     "output_type": "execute_result"
    }
   ],
   "source": [
    "#fill empty values\n",
    "sample_flight_data_frame['DEPARTURE_DELAY'].fillna(0.0, inplace=True)\n",
    "sample_flight_data_frame['ARRIVAL_DELAY'].fillna(0.0, inplace=True)\n",
    "sample_flight_data_frame['AIR_SYSTEM_DELAY'].fillna(0.0, inplace=True)\n",
    "sample_flight_data_frame['SECURITY_DELAY'].fillna(0.0, inplace=True)\n",
    "sample_flight_data_frame['AIRLINE_DELAY'].fillna(0.0, inplace=True)\n",
    "sample_flight_data_frame['LATE_AIRCRAFT_DELAY'].fillna(0.0, inplace=True)\n",
    "sample_flight_data_frame['WEATHER_DELAY'].fillna(0.0, inplace=True)\n",
    "check_nan()"
   ]
  },
  {
   "cell_type": "code",
   "execution_count": 15,
   "metadata": {},
   "outputs": [
    {
     "data": {
      "text/plain": [
       "1428495"
      ]
     },
     "execution_count": 15,
     "metadata": {},
     "output_type": "execute_result"
    }
   ],
   "source": [
    "#remove rows if any nan present\n",
    "sample_flight_data_frame.dropna(axis=0, inplace=True)\n",
    "len(sample_flight_data_frame.index)"
   ]
  },
  {
   "cell_type": "code",
   "execution_count": 16,
   "metadata": {},
   "outputs": [
    {
     "data": {
      "text/html": [
       "<div>\n",
       "<style>\n",
       "    .dataframe thead tr:only-child th {\n",
       "        text-align: right;\n",
       "    }\n",
       "\n",
       "    .dataframe thead th {\n",
       "        text-align: left;\n",
       "    }\n",
       "\n",
       "    .dataframe tbody tr th {\n",
       "        vertical-align: top;\n",
       "    }\n",
       "</style>\n",
       "<table border=\"1\" class=\"dataframe\">\n",
       "  <thead>\n",
       "    <tr style=\"text-align: right;\">\n",
       "      <th></th>\n",
       "      <th>DEPARTURE_DELAY</th>\n",
       "      <th>AIR_TIME</th>\n",
       "      <th>DISTANCE</th>\n",
       "      <th>ARRIVAL_DELAY</th>\n",
       "      <th>AIR_SYSTEM_DELAY</th>\n",
       "      <th>SECURITY_DELAY</th>\n",
       "      <th>AIRLINE_DELAY</th>\n",
       "      <th>LATE_AIRCRAFT_DELAY</th>\n",
       "      <th>WEATHER_DELAY</th>\n",
       "    </tr>\n",
       "  </thead>\n",
       "  <tbody>\n",
       "    <tr>\n",
       "      <th>count</th>\n",
       "      <td>1428495.00</td>\n",
       "      <td>1428495.00</td>\n",
       "      <td>1428495.00</td>\n",
       "      <td>1428495.00</td>\n",
       "      <td>1428495.00</td>\n",
       "      <td>1428495.00</td>\n",
       "      <td>1428495.00</td>\n",
       "      <td>1428495.00</td>\n",
       "      <td>1428495.00</td>\n",
       "    </tr>\n",
       "    <tr>\n",
       "      <th>mean</th>\n",
       "      <td>9.28</td>\n",
       "      <td>113.55</td>\n",
       "      <td>824.72</td>\n",
       "      <td>4.39</td>\n",
       "      <td>2.50</td>\n",
       "      <td>0.02</td>\n",
       "      <td>3.51</td>\n",
       "      <td>4.38</td>\n",
       "      <td>0.54</td>\n",
       "    </tr>\n",
       "    <tr>\n",
       "      <th>std</th>\n",
       "      <td>36.69</td>\n",
       "      <td>72.32</td>\n",
       "      <td>609.34</td>\n",
       "      <td>39.07</td>\n",
       "      <td>13.14</td>\n",
       "      <td>1.02</td>\n",
       "      <td>21.70</td>\n",
       "      <td>20.83</td>\n",
       "      <td>8.76</td>\n",
       "    </tr>\n",
       "    <tr>\n",
       "      <th>min</th>\n",
       "      <td>-68.00</td>\n",
       "      <td>7.00</td>\n",
       "      <td>31.00</td>\n",
       "      <td>-87.00</td>\n",
       "      <td>0.00</td>\n",
       "      <td>0.00</td>\n",
       "      <td>0.00</td>\n",
       "      <td>0.00</td>\n",
       "      <td>0.00</td>\n",
       "    </tr>\n",
       "    <tr>\n",
       "      <th>25%</th>\n",
       "      <td>-5.00</td>\n",
       "      <td>60.00</td>\n",
       "      <td>373.00</td>\n",
       "      <td>-13.00</td>\n",
       "      <td>0.00</td>\n",
       "      <td>0.00</td>\n",
       "      <td>0.00</td>\n",
       "      <td>0.00</td>\n",
       "      <td>0.00</td>\n",
       "    </tr>\n",
       "    <tr>\n",
       "      <th>50%</th>\n",
       "      <td>-2.00</td>\n",
       "      <td>94.00</td>\n",
       "      <td>650.00</td>\n",
       "      <td>-5.00</td>\n",
       "      <td>0.00</td>\n",
       "      <td>0.00</td>\n",
       "      <td>0.00</td>\n",
       "      <td>0.00</td>\n",
       "      <td>0.00</td>\n",
       "    </tr>\n",
       "    <tr>\n",
       "      <th>75%</th>\n",
       "      <td>7.00</td>\n",
       "      <td>144.00</td>\n",
       "      <td>1065.00</td>\n",
       "      <td>8.00</td>\n",
       "      <td>0.00</td>\n",
       "      <td>0.00</td>\n",
       "      <td>0.00</td>\n",
       "      <td>0.00</td>\n",
       "      <td>0.00</td>\n",
       "    </tr>\n",
       "    <tr>\n",
       "      <th>max</th>\n",
       "      <td>1631.00</td>\n",
       "      <td>683.00</td>\n",
       "      <td>4983.00</td>\n",
       "      <td>1638.00</td>\n",
       "      <td>991.00</td>\n",
       "      <td>440.00</td>\n",
       "      <td>1631.00</td>\n",
       "      <td>1190.00</td>\n",
       "      <td>1039.00</td>\n",
       "    </tr>\n",
       "  </tbody>\n",
       "</table>\n",
       "</div>"
      ],
      "text/plain": [
       "       DEPARTURE_DELAY   AIR_TIME   DISTANCE  ARRIVAL_DELAY  AIR_SYSTEM_DELAY  \\\n",
       "count       1428495.00 1428495.00 1428495.00     1428495.00        1428495.00   \n",
       "mean              9.28     113.55     824.72           4.39              2.50   \n",
       "std              36.69      72.32     609.34          39.07             13.14   \n",
       "min             -68.00       7.00      31.00         -87.00              0.00   \n",
       "25%              -5.00      60.00     373.00         -13.00              0.00   \n",
       "50%              -2.00      94.00     650.00          -5.00              0.00   \n",
       "75%               7.00     144.00    1065.00           8.00              0.00   \n",
       "max            1631.00     683.00    4983.00        1638.00            991.00   \n",
       "\n",
       "       SECURITY_DELAY  AIRLINE_DELAY  LATE_AIRCRAFT_DELAY  WEATHER_DELAY  \n",
       "count      1428495.00     1428495.00           1428495.00     1428495.00  \n",
       "mean             0.02           3.51                 4.38           0.54  \n",
       "std              1.02          21.70                20.83           8.76  \n",
       "min              0.00           0.00                 0.00           0.00  \n",
       "25%              0.00           0.00                 0.00           0.00  \n",
       "50%              0.00           0.00                 0.00           0.00  \n",
       "75%              0.00           0.00                 0.00           0.00  \n",
       "max            440.00        1631.00              1190.00        1039.00  "
      ]
     },
     "execution_count": 16,
     "metadata": {},
     "output_type": "execute_result"
    }
   ],
   "source": [
    "#exploratory analysis\n",
    "interesting_columns = [\n",
    "    'DEPARTURE_DELAY',\n",
    "    'AIR_TIME',\n",
    "    'DISTANCE',\n",
    "    'ARRIVAL_DELAY',\n",
    "    'AIR_SYSTEM_DELAY',\n",
    "    'SECURITY_DELAY',\n",
    "    'AIRLINE_DELAY',\n",
    "    'LATE_AIRCRAFT_DELAY',\n",
    "    'WEATHER_DELAY'\n",
    "]\n",
    "\n",
    "sample_flight_data_frame[interesting_columns].describe()"
   ]
  },
  {
   "cell_type": "code",
   "execution_count": 17,
   "metadata": {},
   "outputs": [
    {
     "data": {
      "text/plain": [
       "<matplotlib.axes._subplots.AxesSubplot at 0x7fc3a835ef10>"
      ]
     },
     "execution_count": 17,
     "metadata": {},
     "output_type": "execute_result"
    },
    {
     "data": {
      "image/png": "[encoded data removed]",
      "text/plain": [
       "<matplotlib.figure.Figure at 0x7fc3d44dd3d0>"
      ]
     },
     "metadata": {},
     "output_type": "display_data"
    }
   ],
   "source": [
    "sample_flight_data_frame['DEPARTURE_DELAY'].hist(bins=100)"
   ]
  },
  {
   "cell_type": "code",
   "execution_count": 18,
   "metadata": {},
   "outputs": [
    {
     "data": {
      "text/plain": [
       "<matplotlib.axes._subplots.AxesSubplot at 0x7fc3a49fc250>"
      ]
     },
     "execution_count": 18,
     "metadata": {},
     "output_type": "execute_result"
    },
    {
     "data": {
      "image/png": "[encoded data removed]",
      "text/plain": [
       "<matplotlib.figure.Figure at 0x7fc36b836d90>"
      ]
     },
     "metadata": {},
     "output_type": "display_data"
    }
   ],
   "source": [
    "sample_flight_data_frame['ARRIVAL_DELAY'].hist(bins=100)"
   ]
  },
  {
   "cell_type": "code",
   "execution_count": 19,
   "metadata": {},
   "outputs": [
    {
     "data": {
      "text/plain": [
       "<matplotlib.axes._subplots.AxesSubplot at 0x7fc3a4519a90>"
      ]
     },
     "execution_count": 19,
     "metadata": {},
     "output_type": "execute_result"
    },
    {
     "data": {
      "image/png": "[encoded data removed]",
      "text/plain": [
       "<matplotlib.figure.Figure at 0x7fc3d44dd810>"
      ]
     },
     "metadata": {},
     "output_type": "display_data"
    }
   ],
   "source": [
    "sample_flight_data_frame['DISTANCE'].hist(bins=100)"
   ]
  },
  {
   "cell_type": "code",
   "execution_count": 20,
   "metadata": {},
   "outputs": [
    {
     "data": {
      "text/plain": [
       "<matplotlib.axes._subplots.AxesSubplot at 0x7fc387e97310>"
      ]
     },
     "execution_count": 20,
     "metadata": {},
     "output_type": "execute_result"
    },
    {
     "data": {
      "image/png": "[encoded data removed]",
      "text/plain": [
       "<matplotlib.figure.Figure at 0x7fc3a89cb390>"
      ]
     },
     "metadata": {},
     "output_type": "display_data"
    }
   ],
   "source": [
    "sample_flight_data_frame['AIR_TIME'].hist(bins=100)"
   ]
  },
  {
   "cell_type": "code",
   "execution_count": 21,
   "metadata": {},
   "outputs": [
    {
     "data": {
      "text/plain": [
       "<matplotlib.axes._subplots.AxesSubplot at 0x7fc36b8bc9d0>"
      ]
     },
     "execution_count": 21,
     "metadata": {},
     "output_type": "execute_result"
    },
    {
     "data": {
      "image/png": "[encoded data removed]",
      "text/plain": [
       "<matplotlib.figure.Figure at 0x7fc3a48fda10>"
      ]
     },
     "metadata": {},
     "output_type": "display_data"
    }
   ],
   "source": [
    "#corelation plot\n",
    "pyplot.figure(figsize=(15,7))\n",
    "seaborn.heatmap(sample_flight_data_frame[interesting_columns].corr(), annot=True, linewidths=0.1)"
   ]
  },
  {
   "cell_type": "code",
   "execution_count": 22,
   "metadata": {},
   "outputs": [
    {
     "data": {
      "text/plain": [
       "<matplotlib.axes._subplots.AxesSubplot at 0x7fc3a41b5dd0>"
      ]
     },
     "execution_count": 22,
     "metadata": {},
     "output_type": "execute_result"
    },
    {
     "data": {
      "image/png": "[encoded data removed]",
      "text/plain": [
       "<matplotlib.figure.Figure at 0x7fc3a869c9d0>"
      ]
     },
     "metadata": {},
     "output_type": "display_data"
    }
   ],
   "source": [
    "sample_flight_data_frame.pivot_table(values=['ARRIVAL_DELAY', 'DEPARTURE_DELAY'], index=['AIRLINE'],\\\n",
    "                       aggfunc=numpy.mean).plot(kind='bar')"
   ]
  },
  {
   "cell_type": "code",
   "execution_count": 23,
   "metadata": {},
   "outputs": [
    {
     "data": {
      "text/plain": [
       "<matplotlib.axes._subplots.AxesSubplot at 0x7fc3a89643d0>"
      ]
     },
     "execution_count": 23,
     "metadata": {},
     "output_type": "execute_result"
    },
    {
     "data": {
      "image/png": "[encoded data removed]",
      "text/plain": [
       "<matplotlib.figure.Figure at 0x7fc3a848b2d0>"
      ]
     },
     "metadata": {},
     "output_type": "display_data"
    }
   ],
   "source": [
    "sample_flight_data_frame.pivot_table(values=['ARRIVAL_DELAY', 'DEPARTURE_DELAY'], index=['MONTH'],\\\n",
    "                       aggfunc=numpy.mean).plot(kind='bar')"
   ]
  },
  {
   "cell_type": "code",
   "execution_count": 24,
   "metadata": {},
   "outputs": [
    {
     "data": {
      "text/plain": [
       "<matplotlib.axes._subplots.AxesSubplot at 0x7fc363737810>"
      ]
     },
     "execution_count": 24,
     "metadata": {},
     "output_type": "execute_result"
    },
    {
     "data": {
      "image/png": "[encoded data removed]",
      "text/plain": [
       "<matplotlib.figure.Figure at 0x7fc3803a0fd0>"
      ]
     },
     "metadata": {},
     "output_type": "display_data"
    }
   ],
   "source": [
    "sample_flight_data_frame.pivot_table(values=['ARRIVAL_DELAY', 'DEPARTURE_DELAY'], index=['DAY_OF_WEEK'],\\\n",
    "                       aggfunc=numpy.mean).plot(kind='bar')"
   ]
  },
  {
   "cell_type": "code",
   "execution_count": 25,
   "metadata": {},
   "outputs": [
    {
     "data": {
      "text/plain": [
       "<matplotlib.axes._subplots.AxesSubplot at 0x7fc36f890dd0>"
      ]
     },
     "execution_count": 25,
     "metadata": {},
     "output_type": "execute_result"
    },
    {
     "data": {
      "image/png": "[encoded data removed]",
      "text/plain": [
       "<matplotlib.figure.Figure at 0x7fc3a4809490>"
      ]
     },
     "metadata": {},
     "output_type": "display_data"
    }
   ],
   "source": [
    "axes = pyplot.figure(figsize=(10,4)).gca()\n",
    "sample_flight_data_frame.pivot_table(values=['ARRIVAL_DELAY', 'DEPARTURE_DELAY'], index=['DAY'],\\\n",
    "                       aggfunc=numpy.mean).plot(kind='bar', ax=axes)"
   ]
  },
  {
   "cell_type": "code",
   "execution_count": 26,
   "metadata": {},
   "outputs": [
    {
     "data": {
      "text/plain": [
       "<matplotlib.collections.PathCollection at 0x7fc3749c5d90>"
      ]
     },
     "execution_count": 26,
     "metadata": {},
     "output_type": "execute_result"
    },
    {
     "data": {
      "image/png": "[encoded data removed]",
      "text/plain": [
       "<matplotlib.figure.Figure at 0x7fc3a84edad0>"
      ]
     },
     "metadata": {},
     "output_type": "display_data"
    }
   ],
   "source": [
    "pyplot.scatter(sample_flight_data_frame['DISTANCE'], sample_flight_data_frame['ARRIVAL_DELAY'])"
   ]
  },
  {
   "cell_type": "code",
   "execution_count": 27,
   "metadata": {
    "scrolled": false
   },
   "outputs": [
    {
     "data": {
      "text/html": [
       "<div>\n",
       "<style>\n",
       "    .dataframe thead tr:only-child th {\n",
       "        text-align: right;\n",
       "    }\n",
       "\n",
       "    .dataframe thead th {\n",
       "        text-align: left;\n",
       "    }\n",
       "\n",
       "    .dataframe tbody tr th {\n",
       "        vertical-align: top;\n",
       "    }\n",
       "</style>\n",
       "<table border=\"1\" class=\"dataframe\">\n",
       "  <thead>\n",
       "    <tr style=\"text-align: right;\">\n",
       "      <th></th>\n",
       "      <th>ARRIVAL_DELAY</th>\n",
       "      <th>DEPARTURE_DELAY</th>\n",
       "    </tr>\n",
       "    <tr>\n",
       "      <th>ORIGIN_AIRPORT</th>\n",
       "      <th></th>\n",
       "      <th></th>\n",
       "    </tr>\n",
       "  </thead>\n",
       "  <tbody>\n",
       "    <tr>\n",
       "      <th>10157</th>\n",
       "      <td>18.22</td>\n",
       "      <td>20.94</td>\n",
       "    </tr>\n",
       "    <tr>\n",
       "      <th>10146</th>\n",
       "      <td>11.53</td>\n",
       "      <td>8.00</td>\n",
       "    </tr>\n",
       "    <tr>\n",
       "      <th>10135</th>\n",
       "      <td>10.19</td>\n",
       "      <td>13.47</td>\n",
       "    </tr>\n",
       "    <tr>\n",
       "      <th>10154</th>\n",
       "      <td>5.38</td>\n",
       "      <td>6.00</td>\n",
       "    </tr>\n",
       "    <tr>\n",
       "      <th>10140</th>\n",
       "      <td>1.84</td>\n",
       "      <td>6.82</td>\n",
       "    </tr>\n",
       "    <tr>\n",
       "      <th>10165</th>\n",
       "      <td>-1.00</td>\n",
       "      <td>-10.00</td>\n",
       "    </tr>\n",
       "    <tr>\n",
       "      <th>10141</th>\n",
       "      <td>-1.46</td>\n",
       "      <td>-1.69</td>\n",
       "    </tr>\n",
       "    <tr>\n",
       "      <th>10158</th>\n",
       "      <td>-6.81</td>\n",
       "      <td>-1.93</td>\n",
       "    </tr>\n",
       "    <tr>\n",
       "      <th>10136</th>\n",
       "      <td>-11.38</td>\n",
       "      <td>-1.44</td>\n",
       "    </tr>\n",
       "    <tr>\n",
       "      <th>10155</th>\n",
       "      <td>-12.44</td>\n",
       "      <td>-5.74</td>\n",
       "    </tr>\n",
       "  </tbody>\n",
       "</table>\n",
       "</div>"
      ],
      "text/plain": [
       "                ARRIVAL_DELAY  DEPARTURE_DELAY\n",
       "ORIGIN_AIRPORT                                \n",
       "10157                   18.22            20.94\n",
       "10146                   11.53             8.00\n",
       "10135                   10.19            13.47\n",
       "10154                    5.38             6.00\n",
       "10140                    1.84             6.82\n",
       "10165                   -1.00           -10.00\n",
       "10141                   -1.46            -1.69\n",
       "10158                   -6.81            -1.93\n",
       "10136                  -11.38            -1.44\n",
       "10155                  -12.44            -5.74"
      ]
     },
     "execution_count": 27,
     "metadata": {},
     "output_type": "execute_result"
    }
   ],
   "source": [
    "sample_flight_data_frame.pivot_table(values=['DEPARTURE_DELAY', 'ARRIVAL_DELAY'], index=['ORIGIN_AIRPORT'],\\\n",
    "                       aggfunc=numpy.mean)[:10].sort_values(by='ARRIVAL_DELAY', ascending=False)"
   ]
  },
  {
   "cell_type": "code",
   "execution_count": 28,
   "metadata": {},
   "outputs": [
    {
     "data": {
      "text/html": [
       "<div>\n",
       "<style>\n",
       "    .dataframe thead tr:only-child th {\n",
       "        text-align: right;\n",
       "    }\n",
       "\n",
       "    .dataframe thead th {\n",
       "        text-align: left;\n",
       "    }\n",
       "\n",
       "    .dataframe tbody tr th {\n",
       "        vertical-align: top;\n",
       "    }\n",
       "</style>\n",
       "<table border=\"1\" class=\"dataframe\">\n",
       "  <thead>\n",
       "    <tr style=\"text-align: right;\">\n",
       "      <th></th>\n",
       "      <th>ARRIVAL_DELAY</th>\n",
       "      <th>DEPARTURE_DELAY</th>\n",
       "    </tr>\n",
       "    <tr>\n",
       "      <th>DESTINATION_AIRPORT</th>\n",
       "      <th></th>\n",
       "      <th></th>\n",
       "    </tr>\n",
       "  </thead>\n",
       "  <tbody>\n",
       "    <tr>\n",
       "      <th>10146</th>\n",
       "      <td>15.64</td>\n",
       "      <td>12.43</td>\n",
       "    </tr>\n",
       "    <tr>\n",
       "      <th>10154</th>\n",
       "      <td>14.70</td>\n",
       "      <td>11.20</td>\n",
       "    </tr>\n",
       "    <tr>\n",
       "      <th>10157</th>\n",
       "      <td>8.10</td>\n",
       "      <td>6.95</td>\n",
       "    </tr>\n",
       "    <tr>\n",
       "      <th>10135</th>\n",
       "      <td>5.48</td>\n",
       "      <td>6.52</td>\n",
       "    </tr>\n",
       "    <tr>\n",
       "      <th>10155</th>\n",
       "      <td>2.44</td>\n",
       "      <td>0.84</td>\n",
       "    </tr>\n",
       "    <tr>\n",
       "      <th>10140</th>\n",
       "      <td>0.48</td>\n",
       "      <td>4.08</td>\n",
       "    </tr>\n",
       "    <tr>\n",
       "      <th>10158</th>\n",
       "      <td>-2.90</td>\n",
       "      <td>-1.49</td>\n",
       "    </tr>\n",
       "    <tr>\n",
       "      <th>10165</th>\n",
       "      <td>-4.00</td>\n",
       "      <td>-9.00</td>\n",
       "    </tr>\n",
       "    <tr>\n",
       "      <th>10136</th>\n",
       "      <td>-4.53</td>\n",
       "      <td>-2.75</td>\n",
       "    </tr>\n",
       "    <tr>\n",
       "      <th>10141</th>\n",
       "      <td>-5.00</td>\n",
       "      <td>2.90</td>\n",
       "    </tr>\n",
       "  </tbody>\n",
       "</table>\n",
       "</div>"
      ],
      "text/plain": [
       "                     ARRIVAL_DELAY  DEPARTURE_DELAY\n",
       "DESTINATION_AIRPORT                                \n",
       "10146                        15.64            12.43\n",
       "10154                        14.70            11.20\n",
       "10157                         8.10             6.95\n",
       "10135                         5.48             6.52\n",
       "10155                         2.44             0.84\n",
       "10140                         0.48             4.08\n",
       "10158                        -2.90            -1.49\n",
       "10165                        -4.00            -9.00\n",
       "10136                        -4.53            -2.75\n",
       "10141                        -5.00             2.90"
      ]
     },
     "execution_count": 28,
     "metadata": {},
     "output_type": "execute_result"
    }
   ],
   "source": [
    "sample_flight_data_frame.pivot_table(values=['DEPARTURE_DELAY', 'ARRIVAL_DELAY'], index=['DESTINATION_AIRPORT'],\\\n",
    "                       aggfunc=numpy.mean)[:10].sort_values(by='ARRIVAL_DELAY', ascending=False)"
   ]
  },
  {
   "cell_type": "code",
   "execution_count": 29,
   "metadata": {},
   "outputs": [
    {
     "data": {
      "text/plain": [
       "<matplotlib.collections.PathCollection at 0x7fc3a844be10>"
      ]
     },
     "execution_count": 29,
     "metadata": {},
     "output_type": "execute_result"
    },
    {
     "data": {
      "image/png": "[encoded data removed]",
      "text/plain": [
       "<matplotlib.figure.Figure at 0x7fc36bb319d0>"
      ]
     },
     "metadata": {},
     "output_type": "display_data"
    }
   ],
   "source": [
    "pyplot.scatter(sample_flight_data_frame['SCHEDULED_DEPARTURE'], sample_flight_data_frame['DEPARTURE_DELAY'])"
   ]
  },
  {
   "cell_type": "code",
   "execution_count": 30,
   "metadata": {},
   "outputs": [
    {
     "data": {
      "text/plain": [
       "<matplotlib.collections.PathCollection at 0x7fc3a831a790>"
      ]
     },
     "execution_count": 30,
     "metadata": {},
     "output_type": "execute_result"
    },
    {
     "data": {
      "image/png": "[encoded data removed]",
      "text/plain": [
       "<matplotlib.figure.Figure at 0x7fc3a8426790>"
      ]
     },
     "metadata": {},
     "output_type": "display_data"
    }
   ],
   "source": [
    "pyplot.scatter(sample_flight_data_frame['SCHEDULED_ARRIVAL'], sample_flight_data_frame['ARRIVAL_DELAY'])"
   ]
  },
  {
   "cell_type": "code",
   "execution_count": 31,
   "metadata": {},
   "outputs": [
    {
     "data": {
      "text/plain": [
       "<matplotlib.axes._subplots.AxesSubplot at 0x7fc364a70350>"
      ]
     },
     "execution_count": 31,
     "metadata": {},
     "output_type": "execute_result"
    },
    {
     "data": {
      "image/png": "[encoded data removed]",
      "text/plain": [
       "<matplotlib.figure.Figure at 0x7fc3a82f8910>"
      ]
     },
     "metadata": {},
     "output_type": "display_data"
    }
   ],
   "source": [
    "sample_flight_data_frame.pivot_table(values=['WEATHER_DELAY'], index=['MONTH'],\\\n",
    "                       aggfunc=numpy.mean).plot(kind='bar')"
   ]
  },
  {
   "cell_type": "code",
   "execution_count": 32,
   "metadata": {},
   "outputs": [
    {
     "data": {
      "text/html": [
       "<div>\n",
       "<style>\n",
       "    .dataframe thead tr:only-child th {\n",
       "        text-align: right;\n",
       "    }\n",
       "\n",
       "    .dataframe thead th {\n",
       "        text-align: left;\n",
       "    }\n",
       "\n",
       "    .dataframe tbody tr th {\n",
       "        vertical-align: top;\n",
       "    }\n",
       "</style>\n",
       "<table border=\"1\" class=\"dataframe\">\n",
       "  <thead>\n",
       "    <tr style=\"text-align: right;\">\n",
       "      <th></th>\n",
       "      <th>SCHEDULED_DEPARTURE</th>\n",
       "      <th>SCHEDULED_DEPARTURE_CATEGORY</th>\n",
       "    </tr>\n",
       "  </thead>\n",
       "  <tbody>\n",
       "    <tr>\n",
       "      <th>326476</th>\n",
       "      <td>1135.00</td>\n",
       "      <td>(1100, 1200]</td>\n",
       "    </tr>\n",
       "    <tr>\n",
       "      <th>99205</th>\n",
       "      <td>1015.00</td>\n",
       "      <td>(1000, 1100]</td>\n",
       "    </tr>\n",
       "    <tr>\n",
       "      <th>147912</th>\n",
       "      <td>1235.00</td>\n",
       "      <td>(1200, 1300]</td>\n",
       "    </tr>\n",
       "    <tr>\n",
       "      <th>556417</th>\n",
       "      <td>1545.00</td>\n",
       "      <td>(1500, 1600]</td>\n",
       "    </tr>\n",
       "    <tr>\n",
       "      <th>483072</th>\n",
       "      <td>2150.00</td>\n",
       "      <td>(2100, 2200]</td>\n",
       "    </tr>\n",
       "  </tbody>\n",
       "</table>\n",
       "</div>"
      ],
      "text/plain": [
       "        SCHEDULED_DEPARTURE SCHEDULED_DEPARTURE_CATEGORY\n",
       "326476              1135.00                 (1100, 1200]\n",
       "99205               1015.00                 (1000, 1100]\n",
       "147912              1235.00                 (1200, 1300]\n",
       "556417              1545.00                 (1500, 1600]\n",
       "483072              2150.00                 (2100, 2200]"
      ]
     },
     "execution_count": 32,
     "metadata": {},
     "output_type": "execute_result"
    }
   ],
   "source": [
    "#prepare data\n",
    "prepared_flight_data_frame = sample_flight_data_frame.copy(deep=True)\n",
    "\n",
    "# bins = [0.0, 600.0, 1200.0, 1800.0, 2100.0, 2400.0]\n",
    "# labels = ['early_morning', 'morning', 'afternoon', 'evening', 'night']\n",
    "\n",
    "bins = range(0, 2500, 100)\n",
    "prepared_flight_data_frame['SCHEDULED_DEPARTURE_CATEGORY'] = pandas.cut(\\\n",
    "        prepared_flight_data_frame['SCHEDULED_DEPARTURE'],\\\n",
    "        bins=bins)\n",
    "prepared_flight_data_frame[['SCHEDULED_DEPARTURE', 'SCHEDULED_DEPARTURE_CATEGORY']].head()"
   ]
  },
  {
   "cell_type": "code",
   "execution_count": 33,
   "metadata": {},
   "outputs": [
    {
     "data": {
      "text/html": [
       "<div>\n",
       "<style>\n",
       "    .dataframe thead tr:only-child th {\n",
       "        text-align: right;\n",
       "    }\n",
       "\n",
       "    .dataframe thead th {\n",
       "        text-align: left;\n",
       "    }\n",
       "\n",
       "    .dataframe tbody tr th {\n",
       "        vertical-align: top;\n",
       "    }\n",
       "</style>\n",
       "<table border=\"1\" class=\"dataframe\">\n",
       "  <thead>\n",
       "    <tr style=\"text-align: right;\">\n",
       "      <th></th>\n",
       "      <th>SCHEDULED_ARRIVAL</th>\n",
       "      <th>SCHEDULED_ARRIVAL_CATEGORY</th>\n",
       "    </tr>\n",
       "  </thead>\n",
       "  <tbody>\n",
       "    <tr>\n",
       "      <th>326476</th>\n",
       "      <td>1245.00</td>\n",
       "      <td>(1200, 1300]</td>\n",
       "    </tr>\n",
       "    <tr>\n",
       "      <th>99205</th>\n",
       "      <td>1049.00</td>\n",
       "      <td>(1000, 1100]</td>\n",
       "    </tr>\n",
       "    <tr>\n",
       "      <th>147912</th>\n",
       "      <td>1340.00</td>\n",
       "      <td>(1300, 1400]</td>\n",
       "    </tr>\n",
       "    <tr>\n",
       "      <th>556417</th>\n",
       "      <td>1845.00</td>\n",
       "      <td>(1800, 1900]</td>\n",
       "    </tr>\n",
       "    <tr>\n",
       "      <th>483072</th>\n",
       "      <td>2226.00</td>\n",
       "      <td>(2200, 2300]</td>\n",
       "    </tr>\n",
       "  </tbody>\n",
       "</table>\n",
       "</div>"
      ],
      "text/plain": [
       "        SCHEDULED_ARRIVAL SCHEDULED_ARRIVAL_CATEGORY\n",
       "326476            1245.00               (1200, 1300]\n",
       "99205             1049.00               (1000, 1100]\n",
       "147912            1340.00               (1300, 1400]\n",
       "556417            1845.00               (1800, 1900]\n",
       "483072            2226.00               (2200, 2300]"
      ]
     },
     "execution_count": 33,
     "metadata": {},
     "output_type": "execute_result"
    }
   ],
   "source": [
    "prepared_flight_data_frame['SCHEDULED_ARRIVAL_CATEGORY'] = pandas.cut(\\\n",
    "        prepared_flight_data_frame['SCHEDULED_ARRIVAL'],\\\n",
    "        bins=bins)\n",
    "prepared_flight_data_frame[['SCHEDULED_ARRIVAL', 'SCHEDULED_ARRIVAL_CATEGORY']].head()"
   ]
  },
  {
   "cell_type": "code",
   "execution_count": 34,
   "metadata": {},
   "outputs": [
    {
     "data": {
      "text/html": [
       "<div>\n",
       "<style>\n",
       "    .dataframe thead tr:only-child th {\n",
       "        text-align: right;\n",
       "    }\n",
       "\n",
       "    .dataframe thead th {\n",
       "        text-align: left;\n",
       "    }\n",
       "\n",
       "    .dataframe tbody tr th {\n",
       "        vertical-align: top;\n",
       "    }\n",
       "</style>\n",
       "<table border=\"1\" class=\"dataframe\">\n",
       "  <thead>\n",
       "    <tr style=\"text-align: right;\">\n",
       "      <th></th>\n",
       "      <th>DISTANCE</th>\n",
       "      <th>DISTANCE_CATEGORY</th>\n",
       "    </tr>\n",
       "  </thead>\n",
       "  <tbody>\n",
       "    <tr>\n",
       "      <th>326476</th>\n",
       "      <td>1175.00</td>\n",
       "      <td>medium</td>\n",
       "    </tr>\n",
       "    <tr>\n",
       "      <th>99205</th>\n",
       "      <td>435.00</td>\n",
       "      <td>short</td>\n",
       "    </tr>\n",
       "    <tr>\n",
       "      <th>147912</th>\n",
       "      <td>223.00</td>\n",
       "      <td>short</td>\n",
       "    </tr>\n",
       "    <tr>\n",
       "      <th>556417</th>\n",
       "      <td>1576.00</td>\n",
       "      <td>medium</td>\n",
       "    </tr>\n",
       "    <tr>\n",
       "      <th>483072</th>\n",
       "      <td>100.00</td>\n",
       "      <td>short</td>\n",
       "    </tr>\n",
       "  </tbody>\n",
       "</table>\n",
       "</div>"
      ],
      "text/plain": [
       "        DISTANCE DISTANCE_CATEGORY\n",
       "326476   1175.00            medium\n",
       "99205     435.00             short\n",
       "147912    223.00             short\n",
       "556417   1576.00            medium\n",
       "483072    100.00             short"
      ]
     },
     "execution_count": 34,
     "metadata": {},
     "output_type": "execute_result"
    }
   ],
   "source": [
    "prepared_flight_data_frame['DISTANCE_CATEGORY'] = pandas.cut(\\\n",
    "        prepared_flight_data_frame['DISTANCE'],\\\n",
    "        bins=[0, 1000, 2000, 3000], labels=['short', 'medium', 'long'])\n",
    "prepared_flight_data_frame[['DISTANCE', 'DISTANCE_CATEGORY']].head()"
   ]
  },
  {
   "cell_type": "code",
   "execution_count": 35,
   "metadata": {},
   "outputs": [
    {
     "data": {
      "text/plain": [
       "array(['YEAR', 'MONTH', 'DAY', 'DAY_OF_WEEK', 'AIRLINE', 'ORIGIN_AIRPORT',\n",
       "       'DESTINATION_AIRPORT', 'SCHEDULED_DEPARTURE', 'DEPARTURE_DELAY',\n",
       "       'SCHEDULED_TIME', 'AIR_TIME', 'DISTANCE', 'SCHEDULED_ARRIVAL',\n",
       "       'ARRIVAL_DELAY', 'DIVERTED', 'CANCELLED', 'AIR_SYSTEM_DELAY',\n",
       "       'SECURITY_DELAY', 'AIRLINE_DELAY', 'LATE_AIRCRAFT_DELAY',\n",
       "       'WEATHER_DELAY', 'SCHEDULED_DEPARTURE_CATEGORY',\n",
       "       'SCHEDULED_ARRIVAL_CATEGORY', 'DISTANCE_CATEGORY'], dtype=object)"
      ]
     },
     "execution_count": 35,
     "metadata": {},
     "output_type": "execute_result"
    }
   ],
   "source": [
    "prepared_flight_data_frame.columns.values"
   ]
  },
  {
   "cell_type": "code",
   "execution_count": 36,
   "metadata": {},
   "outputs": [
    {
     "name": "stdout",
     "output_type": "stream",
     "text": [
      "class_probability 0.110722123634\n"
     ]
    }
   ],
   "source": [
    "#define problem\n",
    "define_delay = 30.0;\n",
    "\n",
    "def is_delay(value):\n",
    "    if value > define_delay:\n",
    "        return 1\n",
    "    \n",
    "    return 0\n",
    "\n",
    "prepared_flight_data_frame['IS_DELAY'] = prepared_flight_data_frame['ARRIVAL_DELAY'].apply(is_delay)\n",
    "class_probability = prepared_flight_data_frame['IS_DELAY'].mean()\n",
    "print('class_probability ' + str(class_probability))"
   ]
  },
  {
   "cell_type": "code",
   "execution_count": 39,
   "metadata": {},
   "outputs": [
    {
     "data": {
      "text/plain": [
       "1285646"
      ]
     },
     "execution_count": 39,
     "metadata": {},
     "output_type": "execute_result"
    }
   ],
   "source": [
    "#seperate train and test data\n",
    "train_data_frame = prepared_flight_data_frame.sample(frac=0.9)\n",
    "test_data_frame = prepared_flight_data_frame.drop(train_data_frame.index)\n",
    "\n",
    "len(train_data_frame)"
   ]
  },
  {
   "cell_type": "code",
   "execution_count": 40,
   "metadata": {},
   "outputs": [
    {
     "data": {
      "text/plain": [
       "18204"
      ]
     },
     "execution_count": 40,
     "metadata": {},
     "output_type": "execute_result"
    }
   ],
   "source": [
    "len(test_data_frame)"
   ]
  },
  {
   "cell_type": "code",
   "execution_count": 64,
   "metadata": {},
   "outputs": [],
   "source": [
    "#model\n",
    "\n",
    "#naive bayes multi-feature binary classification\n",
    "#https://en.wikipedia.org/wiki/Naive_Bayes_classifier\n",
    "class_probability = train_data_frame['IS_DELAY'].mean()\n",
    "\n",
    "def get_class_probability():\n",
    "    return class_probability\n",
    "\n",
    "# def get_features_probability(features, row):\n",
    "#     data_frame = train_data_frame\n",
    "#     for feature in features:\n",
    "#         data_frame = data_frame.loc[(data_frame[feature] == row[feature])]\n",
    "    \n",
    "#     print(len(data_frame))    \n",
    "#     return (len(data_frame) * 1.0 / len(train_data_frame))\n",
    "\n",
    "def get_features_probability(features, row):\n",
    "    product = 1.0\n",
    "    for feature in features:\n",
    "        data_frame = train_data_frame.loc[(train_data_frame[feature] == row[feature])]\n",
    "#         print(len(data_frame))\n",
    "        product = product * (len(data_frame) * 1.0 / len(train_data_frame))\n",
    "    \n",
    "    return product\n",
    "\n",
    "# def get_feature_class_probability(feature, row):\n",
    "#     return train_data_frame.loc[(train_data_frame[feature] == row[feature])]['IS_DELAY'].mean()\n",
    "\n",
    "def get_feature_class_probability(features, row):\n",
    "    data_frame = train_data_frame\n",
    "    for feature in features:\n",
    "        data_frame = data_frame.loc[(data_frame[feature] == row[feature])]\n",
    "    \n",
    "    return data_frame['IS_DELAY'].mean()\n",
    "\n",
    "\n",
    "def get_sample_probability(features, sample):\n",
    "#     product_feature_class_probability = 1.0\n",
    "# #     not_product_feature_class_probability = 1.0\n",
    "    \n",
    "#     for feature in features:\n",
    "#         feature_class_probability = get_feature_class_probability(feature, sample)\n",
    "#         product_feature_class_probability = product_feature_class_probability \\\n",
    "#                 * feature_class_probability\n",
    "            \n",
    "# #         not_product_feature_class_probability = not_product_feature_class_probability \\\n",
    "# #                 * (1 - feature_class_probability)\n",
    "    \n",
    "#     features_probability = get_features_probability(features, sample)\n",
    "\n",
    "    \n",
    "# #     print('product_feature_class_probability ' + str(product_feature_class_probability))\n",
    "# #     print('features_probability ' + str(features_probability))\n",
    "#     if features_probability > 0.0:\n",
    "#         return (get_class_probability() *  product_feature_class_probability)\\\n",
    "#                 /  features_probability\n",
    "        \n",
    "#     return 0.0\n",
    "    \n",
    "# #     class_predictions = [(1 - get_class_probability() *  not_product_feature_class_probability),\\\n",
    "# #                          (get_class_probability() *  product_feature_class_probability)]\n",
    "# #     class_predictions = [(not_product_feature_class_probability),\\\n",
    "# #                          (product_feature_class_probability)]\n",
    "# #     print(class_predictions)\n",
    "# #     return numpy.argmax(class_predictions)\n",
    "        \n",
    "#     return product_feature_class_probability * 100000\n",
    "    return get_feature_class_probability(features, sample)\n",
    "        \n",
    "def get_prediction(features, test_data_frame):\n",
    "    probability_prediction = test_data_frame.apply(\\\n",
    "            lambda row: get_sample_probability(features, row), axis=1)\n",
    "    print('probability_prediction')\n",
    "    print(probability_prediction)\n",
    "    return probability_prediction.apply(\\\n",
    "#             lambda value: 1 if value > (0.5) else 0).values\n",
    "            lambda value: numpy.random.binomial(1, value)).values\n",
    "#     return probability_prediction.values"
   ]
  },
  {
   "cell_type": "code",
   "execution_count": 72,
   "metadata": {},
   "outputs": [
    {
     "name": "stdout",
     "output_type": "stream",
     "text": [
      "probability_prediction\n",
      "290967   0.03\n",
      "589094   0.20\n",
      "469030   0.08\n",
      "296676   0.08\n",
      "632398   0.27\n",
      "416967   0.13\n",
      "159825   0.17\n",
      "580007   0.12\n",
      "282465   0.02\n",
      "408988   0.12\n",
      "dtype: float64\n",
      "[0 1 0 0 0 1 0 0 0 1]\n"
     ]
    },
    {
     "data": {
      "text/plain": [
       "array([0, 0, 0, 0, 1, 0, 0, 0, 0, 0])"
      ]
     },
     "execution_count": 72,
     "metadata": {},
     "output_type": "execute_result"
    }
   ],
   "source": [
    "#unit testing\n",
    "test_features = ['MONTH', 'AIRLINE','SCHEDULED_DEPARTURE_CATEGORY',\\\n",
    "           'SCHEDULED_ARRIVAL_CATEGORY']\n",
    "\n",
    "test_sample = test_data_frame.sample(n=10)\n",
    "print(get_prediction(test_features,test_sample))\n",
    "test_sample['IS_DELAY'].values"
   ]
  },
  {
   "cell_type": "code",
   "execution_count": 59,
   "metadata": {
    "scrolled": false
   },
   "outputs": [
    {
     "name": "stdout",
     "output_type": "stream",
     "text": [
      "0:sample accuracy 0.9\n",
      "1:sample accuracy 0.9\n",
      "2:sample accuracy 0.8\n",
      "3:sample accuracy 0.9\n",
      "4:sample accuracy 1.0\n",
      "5:sample accuracy 0.8\n",
      "6:sample accuracy 0.9\n",
      "7:sample accuracy 1.0\n",
      "8:sample accuracy 0.9\n",
      "9:sample accuracy 0.8\n",
      "10:sample accuracy 0.9\n",
      "11:sample accuracy 0.9\n",
      "12:sample accuracy 0.8\n",
      "13:sample accuracy 0.9\n",
      "14:sample accuracy 0.9\n",
      "15:sample accuracy 0.9\n",
      "16:sample accuracy 0.8\n",
      "17:sample accuracy 0.9\n",
      "18:sample accuracy 0.6\n",
      "19:sample accuracy 1.0\n",
      "20:sample accuracy 1.0\n",
      "21:sample accuracy 0.9\n",
      "22:sample accuracy 1.0\n",
      "23:sample accuracy 0.7\n",
      "24:sample accuracy 0.7\n",
      "25:sample accuracy 0.8\n",
      "26:sample accuracy 0.9\n",
      "27:sample accuracy 0.9\n",
      "28:sample accuracy 0.8\n",
      "29:sample accuracy 0.8\n",
      "30:sample accuracy 1.0\n",
      "31:sample accuracy 0.8\n",
      "32:sample accuracy 0.9\n",
      "33:sample accuracy 0.9\n",
      "34:sample accuracy 1.0\n",
      "35:sample accuracy 1.0\n",
      "36:sample accuracy 0.9\n",
      "37:sample accuracy 1.0\n",
      "38:sample accuracy 1.0\n",
      "39:sample accuracy 0.9\n",
      "40:sample accuracy 1.0\n",
      "41:sample accuracy 0.9\n",
      "42:sample accuracy 1.0\n",
      "43:sample accuracy 0.8\n",
      "44:sample accuracy 0.8\n",
      "45:sample accuracy 0.9\n",
      "46:sample accuracy 1.0\n",
      "47:sample accuracy 0.9\n",
      "48:sample accuracy 1.0\n",
      "49:sample accuracy 0.9\n",
      "50:sample accuracy 1.0\n",
      "51:sample accuracy 0.9\n",
      "52:sample accuracy 1.0\n",
      "53:sample accuracy 0.9\n",
      "54:sample accuracy 0.9\n",
      "55:sample accuracy 0.8\n",
      "56:sample accuracy 0.9\n",
      "57:sample accuracy 0.8\n",
      "58:sample accuracy 0.7\n",
      "59:sample accuracy 0.8\n",
      "60:sample accuracy 1.0\n",
      "61:sample accuracy 1.0\n",
      "62:sample accuracy 1.0\n",
      "63:sample accuracy 0.7\n",
      "64:sample accuracy 0.9\n",
      "65:sample accuracy 0.8\n",
      "66:sample accuracy 1.0\n",
      "67:sample accuracy 0.9\n",
      "68:sample accuracy 0.9\n",
      "69:sample accuracy 0.9\n",
      "70:sample accuracy 0.9\n",
      "71:sample accuracy 0.9\n",
      "72:sample accuracy 1.0\n",
      "73:sample accuracy 1.0\n",
      "74:sample accuracy 1.0\n",
      "75:sample accuracy 1.0\n",
      "76:sample accuracy 1.0\n",
      "77:sample accuracy 1.0\n",
      "78:sample accuracy 1.0\n",
      "79:sample accuracy 0.9\n",
      "80:sample accuracy 1.0\n",
      "81:sample accuracy 0.8\n",
      "82:sample accuracy 0.9\n",
      "83:sample accuracy 1.0\n",
      "84:sample accuracy 0.9\n",
      "85:sample accuracy 0.9\n",
      "86:sample accuracy 1.0\n",
      "87:sample accuracy 0.9\n",
      "88:sample accuracy 0.7\n",
      "89:sample accuracy 0.9\n",
      "90:sample accuracy 0.9\n",
      "91:sample accuracy 0.9\n",
      "92:sample accuracy 1.0\n",
      "93:sample accuracy 0.9\n",
      "94:sample accuracy 0.8\n",
      "95:sample accuracy 0.8\n",
      "96:sample accuracy 1.0\n",
      "97:sample accuracy 1.0\n",
      "98:sample accuracy 1.0\n",
      "99:sample accuracy 0.9\n"
     ]
    }
   ],
   "source": [
    "#lets predict\n",
    "features = ['MONTH', 'AIRLINE', 'ORIGIN_AIRPORT', \\\n",
    "                 'DESTINATION_AIRPORT','SCHEDULED_DEPARTURE_CATEGORY',\\\n",
    "           'SCHEDULED_ARRIVAL_CATEGORY', 'DISTANCE_CATEGORY']\n",
    "\n",
    "# features = ['MONTH', 'AIRLINE', 'SCHEDULED_DEPARTURE_CATEGORY',\\\n",
    "#            'SCHEDULED_ARRIVAL_CATEGORY']\n",
    "\n",
    "def test_model(test_sample):\n",
    "    prediction = get_prediction(features, test_sample)\n",
    "    output = test_sample['IS_DELAY'].values\n",
    "    return metrics.accuracy_score(prediction, output)\n",
    "\n",
    "sample_accuracies = []\n",
    "for i in range(100):\n",
    "    test_sample = test_data_frame.sample(n=10)\n",
    "    sample_accuracy = test_model(test_sample)\n",
    "    sample_accuracies.append(sample_accuracy)\n",
    "    print(str(i) + ':sample accuracy ' + str(sample_accuracy))                "
   ]
  },
  {
   "cell_type": "code",
   "execution_count": 60,
   "metadata": {},
   "outputs": [
    {
     "data": {
      "image/png": "[encoded data removed]",
      "text/plain": [
       "<matplotlib.figure.Figure at 0x7f71af53a910>"
      ]
     },
     "metadata": {},
     "output_type": "display_data"
    }
   ],
   "source": [
    "array_output = pyplot.hist(sample_accuracies, bins=10)"
   ]
  },
  {
   "cell_type": "code",
   "execution_count": 61,
   "metadata": {},
   "outputs": [
    {
     "name": "stdout",
     "output_type": "stream",
     "text": [
      "mean accuracy 0.903\n"
     ]
    }
   ],
   "source": [
    "print('mean accuracy ' + str(numpy.mean(sample_accuracies)))"
   ]
  },
  {
   "cell_type": "code",
   "execution_count": 62,
   "metadata": {},
   "outputs": [
    {
     "name": "stdout",
     "output_type": "stream",
     "text": [
      "dummy model accuracy 0.8101\n"
     ]
    }
   ],
   "source": [
    "#verification\n",
    "def dummy_model(test_sample):\n",
    "    prediction = numpy.random.binomial(1, class_probability, len(test_sample))\n",
    "    output = test_sample['IS_DELAY'].values\n",
    "    return metrics.accuracy_score(prediction, output)\n",
    "\n",
    "sample_accuracies = []        \n",
    "for i in range(1000):\n",
    "    test_sample = test_data_frame.sample(n=10)\n",
    "    sample_accuracy = dummy_model(test_sample)\n",
    "    sample_accuracies.append(sample_accuracy)\n",
    "    \n",
    "print('dummy model accuracy ' + str(numpy.mean(sample_accuracies)))"
   ]
  },
  {
   "cell_type": "code",
   "execution_count": null,
   "metadata": {
    "collapsed": true
   },
   "outputs": [],
   "source": []
  }
 ],
 "metadata": {
  "kernelspec": {
   "display_name": "Python 2",
   "language": "python",
   "name": "python2"
  },
  "language_info": {
   "codemirror_mode": {
    "name": "ipython",
    "version": 2
   },
   "file_extension": ".py",
   "mimetype": "text/x-python",
   "name": "python",
   "nbconvert_exporter": "python",
   "pygments_lexer": "ipython2",
   "version": "2.7.14"
  }
 },
 "nbformat": 4,
 "nbformat_minor": 2
}
